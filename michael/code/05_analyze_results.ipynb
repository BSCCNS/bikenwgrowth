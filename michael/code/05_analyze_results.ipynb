{
 "cells": [
  {
   "cell_type": "markdown",
   "metadata": {},
   "source": [
    "# Analyze bicycle network results\n",
    "## Project: Bicycle network analysis with Gourab, Sayat, Tyler, Michael, Roberta"
   ]
  },
  {
   "cell_type": "markdown",
   "metadata": {},
   "source": [
    "This notebook takes the results from 03_poi_based_generation and 04_connect_clusters and calculates/analyzes a number of measures.\n",
    "\n",
    "Contact: Michael Szell (michael.szell@gmail.com)  \n",
    "Created: 2020-07-08  \n",
    "Last modified: 2020-07-14"
   ]
  },
  {
   "cell_type": "markdown",
   "metadata": {},
   "source": [
    "## Preliminaries"
   ]
  },
  {
   "cell_type": "markdown",
   "metadata": {},
   "source": [
    "### Parameters"
   ]
  },
  {
   "cell_type": "code",
   "execution_count": null,
   "metadata": {},
   "outputs": [],
   "source": [
    "placeid = \"copenhagen\"\n",
    "debug = True # If True, will produce plots and/or verbose output to double-check\n",
    "prune_measure = \"betweenness\"\n",
    "poi_source = \"railwaystation\" # railwaystation, grid, popdensity\n",
    "buffer_walk = 500 # Buffer in m for coverage calculations. (How far people are willing to walk)\n",
    "numnodepairs = 500 # Number of node pairs to consider for random sample to calculate directness (O(numnodepairs^2), so better not go over 1000)\n",
    "parameterids = [\"carall\", \"bikeable\", \"biketrack\", \"biketrackcarall\"]"
   ]
  },
  {
   "cell_type": "markdown",
   "metadata": {},
   "source": [
    "### Setup"
   ]
  },
  {
   "cell_type": "code",
   "execution_count": 70,
   "metadata": {},
   "outputs": [
    {
     "name": "stdout",
     "output_type": "stream",
     "text": [
      "Loaded PATH\n",
      "\n",
      "\n",
      "=== Cities ===\n",
      "{'budapest': {'countryid': 'hun', 'nominatimstring': 'Budapest, Hungary'}}\n",
      "==============\n",
      "\n",
      "\n",
      "Setup finished\n",
      "\n",
      "The watermark extension is already loaded. To reload it, use:\n",
      "  %reload_ext watermark\n",
      "matplotlib 3.2.1\n",
      "csv        1.0\n",
      "networkx   2.4\n",
      "osmnx      0.13.0\n",
      "pyproj     2.6.1.post1\n",
      "watermark  2.0.2\n",
      "geopandas  0.7.0\n",
      "pandas     1.0.3\n",
      "fiona      1.8.13\n",
      "numpy      1.18.4\n",
      "shapely    1.7.0\n",
      "igraph     0.8.2\n",
      "Tue Jul 14 2020 \n",
      "\n",
      "CPython 3.8.2\n",
      "IPython 7.14.0\n",
      "\n",
      "compiler   : Clang 9.0.1 \n",
      "system     : Darwin\n",
      "release    : 19.5.0\n",
      "machine    : x86_64\n",
      "processor  : i386\n",
      "CPU cores  : 12\n",
      "interpreter: 64bit\n",
      "Git hash   :\n"
     ]
    }
   ],
   "source": [
    "%run -i path.py\n",
    "%run -i setup.py\n",
    "\n",
    "%matplotlib inline\n",
    "%load_ext watermark\n",
    "%watermark -n -v -m -g -iv"
   ]
  },
  {
   "cell_type": "markdown",
   "metadata": {},
   "source": [
    "### Functions"
   ]
  },
  {
   "cell_type": "code",
   "execution_count": 66,
   "metadata": {},
   "outputs": [
    {
     "name": "stdout",
     "output_type": "stream",
     "text": [
      "Loaded functions\n"
     ]
    }
   ],
   "source": [
    "%run -i functions.py"
   ]
  },
  {
   "cell_type": "markdown",
   "metadata": {},
   "source": [
    "## Load data"
   ]
  },
  {
   "cell_type": "code",
   "execution_count": null,
   "metadata": {},
   "outputs": [],
   "source": [
    "placepath = PATH[\"data\"] + placeid + \"/\"\n",
    "G_carall = csv_to_ig(placepath, placeid, 'carall')\n",
    "\n",
    "if poi_source == \"railwaystation\":\n",
    "    with open(placepath + placeid + '_poi_railwaystation_nnidscarall.csv') as f:\n",
    "        nnids = [int(line.rstrip()) for line in f]"
   ]
  },
  {
   "cell_type": "code",
   "execution_count": null,
   "metadata": {},
   "outputs": [],
   "source": [
    "filename = placeid + '_poi_' + poi_source + \"_\" + prune_measure\n",
    "resultfile = open(PATH[\"results\"] + filename + \".pickle\",'rb')\n",
    "res = pickle.load(resultfile)\n",
    "resultfile.close()\n",
    "if debug: pp.pprint(res)"
   ]
  },
  {
   "cell_type": "markdown",
   "metadata": {},
   "source": [
    "## Analyze results"
   ]
  },
  {
   "cell_type": "markdown",
   "metadata": {},
   "source": [
    "cost (length)  \n",
    "length / carlength  \n",
    "coverage  \n",
    "directness  \n",
    "compare with existing bike infra  "
   ]
  },
  {
   "cell_type": "code",
   "execution_count": null,
   "metadata": {},
   "outputs": [],
   "source": [
    "# output_place is one static file for the existing city. This can be compared to the generated infrastructure.\n",
    "# Make a check if this file was already generated. If not, generate it:\n",
    "\n",
    "filename = placeid + '_existing.csv\"\n",
    "if not os.path.isfile(PATH[\"results\"] + filename):\n",
    "    empty_metrics = {\n",
    "                     \"length\":0,\n",
    "                     \"coverage\": 0,\n",
    "                     \"directness\": 0,\n",
    "                     \"poi_coverage\": 0,\n",
    "                     \"components\": 0\n",
    "                    }\n",
    "    output_place = {}\n",
    "    for parameterid in parameterids:\n",
    "        output_place[parameterid] = copy.deepcopy(empty_metrics)\n",
    "    output_place[\"general\"] = {\"poirailway\": 0}\n",
    "                   \n",
    "                    \n",
    "    # Load all networks\n",
    "    Gs = {}\n",
    "    for parameterid in parameterids:\n",
    "        Gs[parameterid] = csv_to_ig(PATH, placeid, parameterid)\n",
    "        metrics = calculate_metrics(Gs[parameterid], Gs[parameterid], nnids, buffer_walk, numnodepairs)\n",
    "        for key, val in metrics:\n",
    "            output_place[parameterid][key] = val\n",
    "    # TO DO: TEST"
   ]
  },
  {
   "cell_type": "code",
   "execution_count": null,
   "metadata": {},
   "outputs": [],
   "source": [
    "# output contains lists for all the prune_quantile values of the corresponding results\n",
    "output = {\"length\":[],\n",
    "          \"coverage\": [],\n",
    "          \"directness\": [],\n",
    "          \"poirailway_coverage\": [],\n",
    "          \"components\": []\n",
    "         }\n",
    "\n",
    "for GT, GT_abstract, prune_quantile in zip(res[\"GTs\"], res[\"GT_abstracts\"], res[\"prune_quantiles\"]):\n",
    "    if debug: print(prune_quantile, len(GT.vs))\n",
    "    \n",
    "    metrics = calculate_metrics(GT, G_carall, nnids, buffer_walk, numnodepairs)\n",
    "    \n",
    "    output[\"length\"].append(metrics[\"length\"])\n",
    "    output[\"coverage\"].append(metrics[\"coverage\"])\n",
    "    output[\"poirailway_coverage\"].append(metrics[\"poi_coverage\"])\n",
    "    output[\"components\"].append(metrics[\"components\"])\n",
    "    output[\"directness\"].append(metrics[\"directness\"])"
   ]
  },
  {
   "cell_type": "code",
   "execution_count": null,
   "metadata": {},
   "outputs": [],
   "source": [
    "if debug:\n",
    "    pp.pprint(output)\n",
    "    \n",
    "    fig = plt.figure(figsize=(4, 3)) # create figure object with a (width,height)\n",
    "    axes = fig.add_axes([0, 0, 1, 1]) # left, bottom, width, height (range 0 to 1)\n",
    "    y, x = cov.exterior.coords.xy\n",
    "    patch1 = matplotlib.patches.Polygon(np.stack((np.asarray(x), -1*np.asarray(y)), axis=-1))\n",
    "    axes.add_patch(patch1)\n",
    "    axes.plot()"
   ]
  },
  {
   "cell_type": "markdown",
   "metadata": {},
   "source": [
    "## Write to CSV"
   ]
  },
  {
   "cell_type": "code",
   "execution_count": null,
   "metadata": {},
   "outputs": [],
   "source": [
    "filename = placeid + '_poi_' + poi_source + \"_\" + prune_measure + \".csv\"\n",
    "\n",
    "with open(PATH[\"results\"] + filename, 'w') as f:\n",
    "    w = csv.writer(f)\n",
    "    w.writerow(output.keys())\n",
    "    w.writerows(zip(*output.values()))"
   ]
  }
 ],
 "metadata": {
  "kernelspec": {
   "display_name": "OSMNX",
   "language": "python",
   "name": "osmnx"
  },
  "language_info": {
   "codemirror_mode": {
    "name": "ipython",
    "version": 3
   },
   "file_extension": ".py",
   "mimetype": "text/x-python",
   "name": "python",
   "nbconvert_exporter": "python",
   "pygments_lexer": "ipython3",
   "version": "3.8.2"
  }
 },
 "nbformat": 4,
 "nbformat_minor": 2
}
