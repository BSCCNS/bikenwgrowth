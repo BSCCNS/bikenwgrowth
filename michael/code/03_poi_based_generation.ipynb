{
 "cells": [
  {
   "cell_type": "markdown",
   "metadata": {},
   "source": [
    "# Points of interest based bicycle network generation\n",
    "## Project: Bicycle network analysis with Gourab, Sayat, Tyler, Michael, Roberta"
   ]
  },
  {
   "cell_type": "markdown",
   "metadata": {},
   "source": [
    "This notebook follows the transit-oriented development approach of palominos2020ica and applies cardillo2006spp: Take the greedy triangulation between railway/underground stations (or other points of interest created in 02_prepare_pois). This is the cold start bicycle network generation process which creates bicycle networks from scratch.\n",
    "\n",
    "Contact: Michael Szell (michael.szell@gmail.com)  \n",
    "Created: 2020-06-18  \n",
    "Last modified: 2020-07-14"
   ]
  },
  {
   "cell_type": "markdown",
   "metadata": {},
   "source": [
    "## Preliminaries"
   ]
  },
  {
   "cell_type": "markdown",
   "metadata": {},
   "source": [
    "### Parameters"
   ]
  },
  {
   "cell_type": "code",
   "execution_count": null,
   "metadata": {
    "scrolled": false
   },
   "outputs": [],
   "source": [
    "debug = True # If True, will produce plots and/or verbose output to double-check\n",
    "\n",
    "poi_source = \"railwaystation\" # railwaystation, grid, popdensity\n",
    "prune_measure = \"betweenness\""
   ]
  },
  {
   "cell_type": "markdown",
   "metadata": {},
   "source": [
    "### Setup"
   ]
  },
  {
   "cell_type": "code",
   "execution_count": null,
   "metadata": {},
   "outputs": [],
   "source": [
    "%run -i path.py\n",
    "%run -i setup.py\n",
    "\n",
    "%matplotlib inline\n",
    "%load_ext watermark\n",
    "%watermark -n -v -m -g -iv"
   ]
  },
  {
   "cell_type": "markdown",
   "metadata": {},
   "source": [
    "### Functions"
   ]
  },
  {
   "cell_type": "code",
   "execution_count": null,
   "metadata": {},
   "outputs": [],
   "source": [
    "%run -i functions.py"
   ]
  },
  {
   "cell_type": "markdown",
   "metadata": {},
   "source": [
    "## Plot the starting point"
   ]
  },
  {
   "cell_type": "code",
   "execution_count": null,
   "metadata": {
    "scrolled": false
   },
   "outputs": [],
   "source": [
    "# if debug:\n",
    "#     my_plot_reset(G_carall, nnids)\n",
    "#     ig.plot(G_carall, PATH[\"plots\"] + placeid + '_carall_poi_' + poi_source + \".png\", bbox=(800,800))\n",
    "#     ig.plot(G_carall)"
   ]
  },
  {
   "cell_type": "markdown",
   "metadata": {},
   "source": [
    "## Routing (shortest paths)"
   ]
  },
  {
   "cell_type": "code",
   "execution_count": null,
   "metadata": {},
   "outputs": [],
   "source": [
    "for placeid, placeinfo in cities.items():\n",
    "    print(placeid + \": Generating networks\")\n",
    "    placepath = PATH[\"data\"] + placeid + \"/\"\n",
    "\n",
    "    # Load networks\n",
    "    G_carall = csv_to_ig(placepath, placeid, 'carall')\n",
    "    \n",
    "    # Load POIs\n",
    "    with open(placepath + placeid + '_poi_' + poi_source + '_nnidscarall.csv') as f:\n",
    "        nnids = [int(line.rstrip()) for line in f]\n",
    "    \n",
    "    # Generation\n",
    "    (GTs, GT_abstracts) = greedy_triangulation_routing(G_carall, nnids, prune_quantiles, prune_measure)\n",
    "    \n",
    "    # Write results\n",
    "    results = {\"placeid\": placeid, \"prune_measure\": prune_measure, \"poi_source\": poi_source, \"prune_quantiles\": prune_quantiles, \"GTs\": GTs, \"GT_abstracts\": GT_abstracts}\n",
    "\n",
    "    filename = placeid + '_poi_' + poi_source + \"_\" + prune_measure\n",
    "    resultfile = open(PATH[\"results\"] + filename + \".pickle\", 'wb')\n",
    "    pickle.dump(results, resultfile)\n",
    "    resultfile.close()"
   ]
  },
  {
   "cell_type": "markdown",
   "metadata": {},
   "source": [
    "## Plot results"
   ]
  },
  {
   "cell_type": "markdown",
   "metadata": {},
   "source": [
    "### Plot the abstract Greedy Triangulation"
   ]
  },
  {
   "cell_type": "code",
   "execution_count": null,
   "metadata": {
    "scrolled": false
   },
   "outputs": [],
   "source": [
    "if debug: \n",
    "    for GT_abstract, prune_quantile in zip(GT_abstracts, prune_quantiles):\n",
    "        color_nodes(GT_abstract, \"red\", False, False)\n",
    "        size_nodes(GT_abstract, 4, False, False)\n",
    "        ig.plot(GT_abstract, PATH[\"plots\"] + placeid + '_GTabstract_poi_'+ poi_source + \"_\" + prune_measures[prune_measure] + \"{:.2f}\".format(prune_quantile) + '.png', bbox=(800,800))"
   ]
  },
  {
   "cell_type": "markdown",
   "metadata": {},
   "source": [
    "### Plot just the bicycle network"
   ]
  },
  {
   "cell_type": "code",
   "execution_count": null,
   "metadata": {
    "scrolled": false
   },
   "outputs": [],
   "source": [
    "if debug:\n",
    "    for GT, prune_quantile in zip(GTs, prune_quantiles):\n",
    "        size_nodes(GT, 0)\n",
    "        width_edges(GT, 2)\n",
    "        color_edges(GT, \"blue\")\n",
    "        ig.plot(GT, PATH[\"plots\"] + placeid + '_GTbonly_poi_' + poi_source + \"_\" + prune_measures[prune_measure] + \"{:.2f}\".format(prune_quantile) + '.png', bbox=(800,800))"
   ]
  },
  {
   "cell_type": "markdown",
   "metadata": {},
   "source": [
    "### Plot all together"
   ]
  },
  {
   "cell_type": "code",
   "execution_count": null,
   "metadata": {},
   "outputs": [],
   "source": [
    "if debug:\n",
    "    for GT, prune_quantile in zip(GTs, prune_quantiles):\n",
    "        my_plot_reset(G_carall, nnids)\n",
    "        color_nodes(G_carall, \"red\", nnids)\n",
    "        size_nodes(G_carall, 8, nnids)\n",
    "        GT_ids = [v[\"id\"] for v in GT.vs]  \n",
    "        color_nodes(G_carall, \"blue\", GT_ids)\n",
    "        size_nodes(G_carall, 5, GT_ids)\n",
    "        ig.plot(G_carall, PATH[\"plots\"] + placeid + '_GTall_poi_' + poi_source + \"_\" + prune_measures[prune_measure] + \"{:.2f}\".format(prune_quantile) + '.png', bbox=(800,800))"
   ]
  }
 ],
 "metadata": {
  "kernelspec": {
   "display_name": "OSMNX",
   "language": "python",
   "name": "osmnx"
  },
  "language_info": {
   "codemirror_mode": {
    "name": "ipython",
    "version": 3
   },
   "file_extension": ".py",
   "mimetype": "text/x-python",
   "name": "python",
   "nbconvert_exporter": "python",
   "pygments_lexer": "ipython3",
   "version": "3.8.2"
  }
 },
 "nbformat": 4,
 "nbformat_minor": 2
}
