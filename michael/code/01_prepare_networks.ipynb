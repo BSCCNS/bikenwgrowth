{
 "cells": [
  {
   "cell_type": "markdown",
   "metadata": {},
   "source": [
    "# Prepare network data for bicycle networks analysis\n",
    "## Project: Bicycle network analysis with Gourab, Sayat, Tyler, Michael, Roberta"
   ]
  },
  {
   "cell_type": "markdown",
   "metadata": {},
   "source": [
    "This notebook downloads bicycle and street network data sets and prepares them for analysis.\n",
    "\n",
    "Contact: Michael Szell (michael.szell@gmail.com)  \n",
    "Created: 2020-06-09  \n",
    "Last modified: 2020-07-14"
   ]
  },
  {
   "cell_type": "markdown",
   "metadata": {},
   "source": [
    "## Preliminaries"
   ]
  },
  {
   "cell_type": "markdown",
   "metadata": {},
   "source": [
    "### Parameters"
   ]
  },
  {
   "cell_type": "markdown",
   "metadata": {},
   "source": [
    "Make sure there is a cities.csv in the parameters folder, over which we will iterate."
   ]
  },
  {
   "cell_type": "code",
   "execution_count": null,
   "metadata": {},
   "outputs": [],
   "source": [
    "debug = False # If True, will produce plots and/or verbose output to double-check\n",
    "\n",
    "osmnxparameters = {'car30':{'network_type':'drive', 'custom_filter':'[\"maxspeed\"~\"30\"]'},\n",
    "                   'carall':{'network_type':'drive', 'custom_filter':''}\n",
    "                  }  \n",
    "# Special case 'biketrack': \"cycleway\"~\"track\" OR \"highway\"~\"cycleway\" OR \"bicycle\"~\"designated\" OR \"cycleway:right=track\" OR \"cycleway:left=track\"\n",
    "# Special case 'bikeable': biketrack OR car30\n",
    "# See: https://wiki.openstreetmap.org/wiki/Key:cycleway#Cycle_tracks"
   ]
  },
  {
   "cell_type": "markdown",
   "metadata": {},
   "source": [
    "### Setup"
   ]
  },
  {
   "cell_type": "code",
   "execution_count": null,
   "metadata": {},
   "outputs": [],
   "source": [
    "%run -i path.py\n",
    "%run -i setup.py\n",
    "\n",
    "%matplotlib inline\n",
    "%load_ext watermark\n",
    "%watermark -n -v -m -g -iv"
   ]
  },
  {
   "cell_type": "markdown",
   "metadata": {},
   "source": [
    "To check for nominatimstring:\n",
    "* Go to e.g. https://nominatim.openstreetmap.org/search.php?q=paris%2C+france&polygon_geojson=1&viewbox= and enter the search string. If a correct polygon (or multipolygon) pops up it should be fine.\n",
    "\n",
    "To get shapefiles:\n",
    "* Go to [Overpass](overpass-turbo.eu), to the city, and run:\n",
    "    `relation[\"boundary\"=\"administrative\"][\"name:en\"=\"Copenhagen Municipality\"]({{bbox}});(._;>;);out skel;`\n",
    "* Export: Download as GPX\n",
    "* Use QGIS to create a polygon, with Vector > Join Multiple Lines, and Processing Toolbox > Polygonize (see https://gis.stackexchange.com/questions/98320/connecting-two-line-ends-in-qgis-without-resorting-to-other-software and https://gis.stackexchange.com/questions/207463/convert-a-line-to-polygon)"
   ]
  },
  {
   "cell_type": "markdown",
   "metadata": {},
   "source": [
    "### Functions"
   ]
  },
  {
   "cell_type": "code",
   "execution_count": null,
   "metadata": {},
   "outputs": [],
   "source": [
    "%run -i functions.py"
   ]
  },
  {
   "cell_type": "markdown",
   "metadata": {},
   "source": [
    "## Download and wrangle data"
   ]
  },
  {
   "cell_type": "markdown",
   "metadata": {},
   "source": [
    "### Networks"
   ]
  },
  {
   "cell_type": "code",
   "execution_count": null,
   "metadata": {
    "scrolled": true
   },
   "outputs": [],
   "source": [
    "for placeid, placeinfo in cities.items():\n",
    "    placepath = PATH[\"data\"] + placeid + \"/\"\n",
    "    if placeinfo[\"nominatimstring\"] != '':\n",
    "        location = ox.gdf_from_place(placeinfo[\"nominatimstring\"])\n",
    "        location = shapely.geometry.shape(location['geometry'][0])\n",
    "    else:\n",
    "        # https://gis.stackexchange.com/questions/113799/how-to-read-a-shapefile-in-python\n",
    "        shp = fiona.open(placepath + placeid + \".shp\")\n",
    "        first = shp.next()\n",
    "        location = shapely.geometry.shape(first['geometry'])\n",
    "    \n",
    "    # Car stuff\n",
    "    parameterid = 'carall'\n",
    "    G_carall = ox.graph_from_polygon(location, \n",
    "                               network_type = osmnxparameters[parameterid]['network_type'],\n",
    "                               custom_filter = (osmnxparameters[parameterid]['custom_filter']),\n",
    "                               retain_all = True,\n",
    "                               simplify = False)\n",
    "    ox_to_csv(G_carall, placepath, placeid, parameterid)\n",
    "    \n",
    "    parameterid = 'car30'\n",
    "    G_car30 = ox.graph_from_polygon(location, \n",
    "                               network_type = osmnxparameters[parameterid]['network_type'],\n",
    "                               custom_filter = (osmnxparameters[parameterid]['custom_filter']),\n",
    "                               retain_all = True,\n",
    "                               simplify = False)\n",
    "    ox_to_csv(G_car30, placepath, placeid, parameterid)\n",
    "    \n",
    "    # Special cases biketrack and bikeable\n",
    "    G1 = ox.graph_from_polygon(location,\n",
    "                               network_type = 'bike',\n",
    "                               custom_filter = ('[\"cycleway\"~\"track\"]'),\n",
    "                               retain_all = True,\n",
    "                               simplify = False)\n",
    "    G2 = ox.graph_from_polygon(location, \n",
    "                               network_type = 'bike',\n",
    "                               custom_filter = ('[\"highway\"~\"cycleway\"]'),\n",
    "                               retain_all = True,\n",
    "                               simplify = False)\n",
    "    G3 = ox.graph_from_polygon(location, \n",
    "                               network_type = 'bike',\n",
    "                               custom_filter = ('[\"bicycle\"~\"designated\"]'),\n",
    "                               retain_all = True,\n",
    "                               simplify = False)\n",
    "    G4 = ox.graph_from_polygon(location, \n",
    "                               network_type = 'bike',\n",
    "                               custom_filter = ('[\"cycleway:right\"~\"track\"]'),\n",
    "                               retain_all = True,\n",
    "                               simplify = False)\n",
    "    G5 = ox.graph_from_polygon(location, \n",
    "                               network_type = 'bike',\n",
    "                               custom_filter = ('[\"cycleway:left\"~\"track\"]'),\n",
    "                               retain_all = True,\n",
    "                               simplify = False)\n",
    "\n",
    "    parameterid = 'biketrack'\n",
    "    G_biketrack = nx.compose(G5, nx.compose(G1, nx.compose(G2, nx.compose(G3, G4))))\n",
    "    ox_to_csv(G_biketrack, placepath, placeid, parameterid)\n",
    "    \n",
    "    parameterid = 'bikeable'\n",
    "    G_bikeable = nx.compose(G_biketrack, G_car30)\n",
    "    ox_to_csv(G_bikeable, placepath, placeid, parameterid)\n",
    "    \n",
    "    parameterid = 'biketrackcarall'\n",
    "    G_biketrackcarall = nx.compose(G_biketrack, G_carall)\n",
    "    ox_to_csv(G_biketrackcarall, placepath, placeid, parameterid)\n",
    "    \n",
    "    if debug:\n",
    "        print(len(G_carall.vs), len(G_carall.es))\n",
    "        print(len(G_biketrack.vs), len(G_biketrack.es))\n",
    "        print(len(G_biketrackcarall.vs), len(G_biketrackcarall.es))\n",
    "        print(len(G_biketrackcarall.vs)-len(G_biketrack.vs), len(G_biketrackcarall.es)-len(G_biketrack.es))"
   ]
  }
 ],
 "metadata": {
  "kernelspec": {
   "display_name": "OSMNX",
   "language": "python",
   "name": "osmnx"
  },
  "language_info": {
   "codemirror_mode": {
    "name": "ipython",
    "version": 3
   },
   "file_extension": ".py",
   "mimetype": "text/x-python",
   "name": "python",
   "nbconvert_exporter": "python",
   "pygments_lexer": "ipython3",
   "version": "3.8.2"
  }
 },
 "nbformat": 4,
 "nbformat_minor": 2
}
