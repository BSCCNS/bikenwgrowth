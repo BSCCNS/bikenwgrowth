{
 "cells": [
  {
   "cell_type": "markdown",
   "metadata": {},
   "source": [
    "# Step 6 - Plotting bicycle network analysis results\n",
    "## Project: Algorithmic bicycle network design\n",
    "#### Michael Szell, Tyler Perlman, Sayat Mimar, Gourab Ghoshal, Roberta Sinatra"
   ]
  },
  {
   "cell_type": "markdown",
   "metadata": {},
   "source": [
    "This notebook takes the results from 03_poi_based_generation and 04_connect_clusters and 05_analyze_results, and plots them. The plots are not yet polished.\n",
    "\n",
    "Contact: Michael Szell (michael.szell@gmail.com)  \n",
    "Created: 2020-07-08  \n",
    "Last modified: 2020-07-21"
   ]
  },
  {
   "cell_type": "markdown",
   "metadata": {},
   "source": [
    "## Preliminaries"
   ]
  },
  {
   "cell_type": "markdown",
   "metadata": {},
   "source": [
    "### Parameters"
   ]
  },
  {
   "cell_type": "code",
   "execution_count": null,
   "metadata": {},
   "outputs": [],
   "source": [
    "debug = False # If True, will produce plots and/or verbose output to double-check\n",
    "%run -i \"../parameters/parameters.py\""
   ]
  },
  {
   "cell_type": "markdown",
   "metadata": {},
   "source": [
    "### Setup"
   ]
  },
  {
   "cell_type": "code",
   "execution_count": null,
   "metadata": {},
   "outputs": [],
   "source": [
    "bbox = {}\n",
    "bbox[\"inline\"] = (250,250)\n",
    "bbox[\"export\"] = (800,800)\n",
    "\n",
    "%run -i path.py\n",
    "%run -i setup.py\n",
    "\n",
    "%matplotlib inline\n",
    "%load_ext watermark\n",
    "%watermark -n -v -m -g -iv"
   ]
  },
  {
   "cell_type": "markdown",
   "metadata": {},
   "source": [
    "### Functions"
   ]
  },
  {
   "cell_type": "code",
   "execution_count": null,
   "metadata": {},
   "outputs": [],
   "source": [
    "%run -i functions.py"
   ]
  },
  {
   "cell_type": "markdown",
   "metadata": {},
   "source": [
    "## Plot"
   ]
  },
  {
   "cell_type": "markdown",
   "metadata": {},
   "source": [
    "Some plot functions love to plot inline. To suppress that and only export the plots, we use ``%%capture``.  \n",
    "To check that plots are being generated while running the code below, go into the ``plots/placeid`` folder."
   ]
  },
  {
   "cell_type": "code",
   "execution_count": null,
   "metadata": {},
   "outputs": [],
   "source": [
    "%%capture\n",
    "for placeid, placeinfo in cities.items():\n",
    "    print(placeid + \": Plotting results\")\n",
    "    \n",
    "    # EXISTING INFRASTRUCTURE\n",
    "    # Load networks\n",
    "    G_biketrack = csv_to_ig(PATH[\"data\"] + placeid + \"/\", placeid, 'biketrack')\n",
    "    G_carall = csv_to_ig(PATH[\"data\"] + placeid + \"/\", placeid, 'carall')\n",
    "    G_biketrackcarall = csv_to_ig(PATH[\"data\"] + placeid + \"/\", placeid, 'biketrackcarall')\n",
    "    G_bikeable = csv_to_ig(PATH[\"data\"] + placeid + \"/\", placeid, 'bikeable')\n",
    "\n",
    "    # Load POIs\n",
    "    with open(PATH[\"data\"] + placeid + \"/\" + placeid + '_poi_' + poi_source + '_nnidscarall.csv') as f:\n",
    "        nnids = [int(line.rstrip()) for line in f]\n",
    "    \n",
    "    # PLOT Maps\n",
    "    my_plot_reset(G_carall, nnids)\n",
    "    ig.plot(G_carall, PATH[\"plots\"] + placeid + \"/\" + placeid + '_carall_poi_' + poi_source + \".png\", bbox = bbox[\"export\"])\n",
    "    my_plot_reset(G_carall, [])\n",
    "    ig.plot(G_carall, PATH[\"plots\"] + placeid + \"/\" + placeid + '_carall.png', bbox=bbox[\"export\"])\n",
    "    my_plot_reset(G_biketrack, [])\n",
    "    ig.plot(G_biketrack, PATH[\"plots\"] + placeid + \"/\" + placeid + '_biketrack.png', bbox = bbox[\"export\"])\n",
    "    my_plot_reset(G_bikeable, [])\n",
    "    ig.plot(G_bikeable, PATH[\"plots\"] + placeid + \"/\" + placeid + '_bikeable.png', bbox = bbox[\"export\"])\n",
    "    my_plot_reset(G_biketrackcarall, [])\n",
    "    ig.plot(G_biketrackcarall, PATH[\"plots\"] + placeid + \"/\" + placeid + '_biketrackcarall.png', bbox = bbox[\"export\"])\n",
    "    # PLOT Analysis (to do)\n",
    "    \n",
    "    \n",
    "    \n",
    "    # GENERATED, POI BASED\n",
    "    # Load results\n",
    "    filename = placeid + '_poi_' + poi_source + \"_\" + prune_measure + \".pickle\"\n",
    "    with open(PATH[\"results\"] + placeid + \"/\" + filename, 'rb') as f:\n",
    "        res = pickle.load(f)\n",
    "    if debug: pp.pprint(res)\n",
    "    \n",
    "    # PLOT abstract greedy triangulation\n",
    "    for GT_abstract, prune_quantile in zip(res[\"GT_abstracts\"], res[\"prune_quantiles\"]):\n",
    "        color_nodes(GT_abstract, \"red\", False, False)\n",
    "        size_nodes(GT_abstract, 6, False, False)\n",
    "        ig.plot(GT_abstract, PATH[\"plots\"] + placeid + \"/\" + placeid + '_GTabstract_poi_'+ poi_source + \"_\" + prune_measures[prune_measure] + \"{:.3f}\".format(prune_quantile) + '.png', bbox = bbox[\"export\"])\n",
    "        \n",
    "    # PLOT just the bicycle network\n",
    "    for GT, prune_quantile in zip(res[\"GTs\"], res[\"prune_quantiles\"]):\n",
    "        size_nodes(GT, 0)\n",
    "        width_edges(GT, 2)\n",
    "        color_edges(GT, \"blue\")\n",
    "        ig.plot(GT, PATH[\"plots\"] + placeid + \"/\" + placeid + '_GTbonly_poi_' + poi_source + \"_\" + prune_measures[prune_measure] + \"{:.3f}\".format(prune_quantile) + '.png', bbox = bbox[\"export\"])\n",
    "        \n",
    "    # PLOT all together (this can take at least a minute per loop)\n",
    "    for GT, prune_quantile in zip(res[\"GTs\"], res[\"prune_quantiles\"]):\n",
    "        my_plot_reset(G_carall, nnids)\n",
    "        color_nodes(G_carall, \"red\", nnids)\n",
    "        size_nodes(G_carall, 6, nnids)\n",
    "        GT_ids = [v[\"id\"] for v in GT.vs]  \n",
    "        color_nodes(G_carall, \"blue\", GT_ids)\n",
    "        size_nodes(G_carall, 5, GT_ids)\n",
    "        color_nodes(G_carall, \"cyan\", list(set(GT_ids).intersection(set(nnids))))\n",
    "        ig.plot(G_carall, PATH[\"plots\"] + placeid + \"/\" + placeid + '_GTall_poi_' + poi_source + \"_\" + prune_measures[prune_measure] + \"{:.3f}\".format(prune_quantile) + '.png', bbox = bbox[\"export\"])\n",
    "        \n",
    "    # PLOT Analysis (to do)\n",
    "    \n",
    "    \n",
    "    \n",
    "    # GENERATED, CLUSTER BASED\n",
    "    # Load results\n",
    "    filename = placeid + '_clusters_' + prune_measure + \"_cutoff\" + cutofftype + \"{:.2f}\".format(cutoff) + \".pickle\"\n",
    "    with open(PATH[\"results\"] + placeid + \"/\" + filename, 'rb') as f:\n",
    "        res = pickle.load(f)\n",
    "    if debug: pp.pprint(res)\n",
    "        \n",
    "    # PLOT abstract greedy triangulation\n",
    "    for GT_abstract, prune_quantile in zip(res[\"GT_abstracts\"], res[\"prune_quantiles\"]):\n",
    "        color_nodes(GT_abstract, \"red\", False, False)\n",
    "        size_nodes(GT_abstract, 6, False, False)\n",
    "        ig.plot(GT_abstract, PATH[\"plots\"] + placeid + \"/\" + placeid + '_GTclustersabstract_biketrack_cutoff' + cutofftype + \"{:.2f}\".format(cutoff) + \"_\" + prune_measures[prune_measure] + \"{:.3f}\".format(prune_quantile) + '.png', bbox = bbox['export'])\n",
    "    \n",
    "    # PLOT clusters with their new connections (last prune_measure only)\n",
    "    plt.figure(figsize=[2*6.4, 2*4.8])\n",
    "    plt.plot(res[\"GTs\"][-1].vs['x'], res[\"GTs\"][-1].vs['y'], 'o', color='red', markersize=5)\n",
    "    for i in range(len(res[\"clusters\"])):\n",
    "        plt.plot(res[\"clusters\"][i].vs['x'], res[\"clusters\"][i].vs['y'], 'o', markersize=3)\n",
    "    plt.gca().invert_yaxis()\n",
    "    plt.savefig(PATH[\"plots\"] + placeid + \"/\" + placeid + '_GTclustersonly_biketrack_cutoff' + cutofftype + \"{:.2f}\".format(cutoff) + \"_\" + prune_measures[prune_measure] + \"{:.3f}\".format(res[\"prune_quantiles\"][-1]) + '.png')\n",
    "    %config InlineBackend.figure_format = 'retina'\n",
    "    \n",
    "    # PLOT the whole bike network and the new connections\n",
    "    for GT, prune_quantile in zip(res[\"GTs\"], res[\"prune_quantiles\"]):\n",
    "        plt.figure(figsize=[2*6.4, 2*4.8])\n",
    "        plt.plot(GT.vs['x'], GT.vs['y'], 'o', color='red', markersize=3)\n",
    "        plt.plot(G_biketrack.vs['x'], G_biketrack.vs['y'], 'o', color='black', markersize=1)\n",
    "        plt.gca().invert_yaxis()\n",
    "        %config InlineBackend.figure_format = 'retina'\n",
    "        plt.savefig(PATH[\"plots\"] + placeid + \"/\" + placeid + '_GTclusters_biketrack_cutoff' + cutofftype + \"{:.2f}\".format(cutoff) + \"_\" + prune_measures[prune_measure] + \"{:.3f}\".format(prune_quantile) + '.png')\n",
    "        \n",
    "    # PLOT Analysis (to do)"
   ]
  },
  {
   "cell_type": "markdown",
   "metadata": {},
   "source": [
    "Possibly look into folium:  \n",
    "https://towardsdatascience.com/data-101s-spatial-visualizations-and-analysis-in-python-with-folium-39730da2adf  \n",
    "https://github.com/socib/Leaflet.TimeDimension"
   ]
  },
  {
   "cell_type": "code",
   "execution_count": null,
   "metadata": {},
   "outputs": [],
   "source": [
    "Audio(sound_file, autoplay=True)"
   ]
  }
 ],
 "metadata": {
  "kernelspec": {
   "display_name": "OSMNX",
   "language": "python",
   "name": "osmnx"
  }
 },
 "nbformat": 4,
 "nbformat_minor": 2
}
