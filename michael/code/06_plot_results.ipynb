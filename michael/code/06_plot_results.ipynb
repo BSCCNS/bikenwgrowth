{
 "cells": [
  {
   "cell_type": "markdown",
   "metadata": {},
   "source": [
    "# Plot bicycle network results\n",
    "## Project: Bicycle network analysis with Gourab, Sayat, Tyler, Michael, Roberta"
   ]
  },
  {
   "cell_type": "markdown",
   "metadata": {},
   "source": [
    "This notebook takes the results from 03_poi_based_generation and 04_connect_clusters and 05_analyze_results, and plots them.\n",
    "\n",
    "Contact: Michael Szell (michael.szell@gmail.com)  \n",
    "Created: 2020-07-08  \n",
    "Last modified: 2020-07-15"
   ]
  },
  {
   "cell_type": "markdown",
   "metadata": {},
   "source": [
    "## Preliminaries"
   ]
  },
  {
   "cell_type": "markdown",
   "metadata": {},
   "source": [
    "### Parameters"
   ]
  },
  {
   "cell_type": "code",
   "execution_count": null,
   "metadata": {},
   "outputs": [],
   "source": [
    "debug = False\n",
    "\n",
    "placeid = \"vienna\"\n",
    "poi_source = \"railwaystation\" # railwaystation, grid, popdensity\n",
    "prune_measure = \"betweenness\"\n",
    "\n",
    "# cutofftype \"abs\" or \"rel\"\n",
    "# Case rel: cutoff (0-1) is fraction threshold of total length\n",
    "# Case abs: cutoff (in meters) is minimal length of cluster to be considered\n",
    "cutofftype = \"rel\" \n",
    "cutoff = 0.8"
   ]
  },
  {
   "cell_type": "markdown",
   "metadata": {},
   "source": [
    "### Setup"
   ]
  },
  {
   "cell_type": "code",
   "execution_count": null,
   "metadata": {},
   "outputs": [],
   "source": [
    "bbox = {}\n",
    "bbox[\"inline\"] = (250,250)\n",
    "bbox[\"export\"] = (800,800)\n",
    "\n",
    "%run -i path.py\n",
    "%run -i setup.py\n",
    "\n",
    "%matplotlib inline\n",
    "%load_ext watermark\n",
    "%watermark -n -v -m -g -iv"
   ]
  },
  {
   "cell_type": "markdown",
   "metadata": {},
   "source": [
    "### Functions"
   ]
  },
  {
   "cell_type": "code",
   "execution_count": null,
   "metadata": {},
   "outputs": [],
   "source": [
    "%run -i functions.py"
   ]
  },
  {
   "cell_type": "code",
   "execution_count": null,
   "metadata": {},
   "outputs": [],
   "source": [
    "placepath = PATH[\"data\"] + placeid + \"/\""
   ]
  },
  {
   "cell_type": "markdown",
   "metadata": {},
   "source": [
    "## Existing infrastructure"
   ]
  },
  {
   "cell_type": "code",
   "execution_count": null,
   "metadata": {},
   "outputs": [],
   "source": [
    "# Load networks\n",
    "G_biketrack = csv_to_ig(placepath, placeid, 'biketrack')\n",
    "G_carall = csv_to_ig(placepath, placeid, 'carall')\n",
    "G_biketrackcarall = csv_to_ig(placepath, placeid, 'biketrackcarall')\n",
    "G_bikeable = csv_to_ig(placepath, placeid, 'bikeable')\n",
    "\n",
    "# Load POIs\n",
    "with open(placepath + placeid + '_poi_' + poi_source + '_nnidscarall.csv') as f:\n",
    "    nnids = [int(line.rstrip()) for line in f]"
   ]
  },
  {
   "cell_type": "markdown",
   "metadata": {},
   "source": [
    "### Maps"
   ]
  },
  {
   "cell_type": "code",
   "execution_count": null,
   "metadata": {},
   "outputs": [],
   "source": [
    "%%capture\n",
    "my_plot_reset(G_carall, nnids)\n",
    "ig.plot(G_carall, PATH[\"plots\"] + placeid + '_carall_poi_' + poi_source + \".png\", bbox = bbox[\"export\"])\n",
    "ig.plot(G_carall, bbox = bbox[\"inline\"])"
   ]
  },
  {
   "cell_type": "code",
   "execution_count": null,
   "metadata": {},
   "outputs": [],
   "source": [
    "%%capture\n",
    "my_plot_reset(G_carall, [])\n",
    "ig.plot(G_carall, PATH[\"plots\"] + placeid + '_carall.png', bbox=bbox[\"export\"])\n",
    "ig.plot(G_carall, bbox=bbox[\"inline\"])"
   ]
  },
  {
   "cell_type": "code",
   "execution_count": null,
   "metadata": {},
   "outputs": [],
   "source": [
    "my_plot_reset(G_biketrack, [])\n",
    "ig.plot(G_biketrack, PATH[\"plots\"] + placeid + '_biketrack.png', bbox = bbox[\"export\"])\n",
    "ig.plot(G_biketrack, bbox = bbox[\"inline\"])"
   ]
  },
  {
   "cell_type": "code",
   "execution_count": null,
   "metadata": {},
   "outputs": [],
   "source": [
    "%%capture\n",
    "my_plot_reset(G_bikeable, [])\n",
    "ig.plot(G_bikeable, PATH[\"plots\"] + placeid + '_bikeable.png', bbox = bbox[\"export\"])\n",
    "ig.plot(G_bikeable, bbox = bbox[\"inline\"])"
   ]
  },
  {
   "cell_type": "code",
   "execution_count": null,
   "metadata": {},
   "outputs": [],
   "source": [
    "%%capture\n",
    "my_plot_reset(G_biketrackcarall, [])\n",
    "ig.plot(G_biketrackcarall, PATH[\"plots\"] + placeid + '_biketrackcarall.png', bbox = bbox[\"export\"])\n",
    "ig.plot(G_biketrackcarall, bbox=bbox[\"inline\"])"
   ]
  },
  {
   "cell_type": "markdown",
   "metadata": {},
   "source": [
    "#### Folium"
   ]
  },
  {
   "cell_type": "code",
   "execution_count": null,
   "metadata": {},
   "outputs": [],
   "source": [
    "# maptiles = ('cartodbpositron','openstreetmap')\n",
    "# edge_colors = ('#0033cc',)\n",
    "# ox.folium.plot_graph_folium(G_biketrack, graph_map=None, \n",
    "#                                               popup_attribute=None, \n",
    "#                                               tiles=maptiles[0], \n",
    "#                                               zoom=19, \n",
    "#                                               fit_bounds=True, \n",
    "#                                               edge_color=edge_colors[0], \n",
    "#                                               edge_width=2, \n",
    "#                                               edge_opacity=.64)"
   ]
  },
  {
   "cell_type": "markdown",
   "metadata": {},
   "source": [
    "### Analysis"
   ]
  },
  {
   "cell_type": "code",
   "execution_count": null,
   "metadata": {},
   "outputs": [],
   "source": []
  },
  {
   "cell_type": "markdown",
   "metadata": {},
   "source": [
    "## Generated, POI based"
   ]
  },
  {
   "cell_type": "markdown",
   "metadata": {},
   "source": [
    "### Load data"
   ]
  },
  {
   "cell_type": "code",
   "execution_count": null,
   "metadata": {},
   "outputs": [],
   "source": [
    "filename = placeid + '_poi_' + poi_source + \"_\" + prune_measure + \".pickle\"\n",
    "resultfile = open(PATH[\"results\"] + filename,'rb')\n",
    "res = pickle.load(resultfile)\n",
    "resultfile.close()\n",
    "if debug: pp.pprint(res)"
   ]
  },
  {
   "cell_type": "markdown",
   "metadata": {},
   "source": [
    "### Maps"
   ]
  },
  {
   "cell_type": "markdown",
   "metadata": {},
   "source": [
    "Abstract Greedy Triangulation"
   ]
  },
  {
   "cell_type": "code",
   "execution_count": null,
   "metadata": {},
   "outputs": [],
   "source": [
    "for GT_abstract, prune_quantile in zip(res[\"GT_abstracts\"], res[\"prune_quantiles\"]):\n",
    "    color_nodes(GT_abstract, \"red\", False, False)\n",
    "    size_nodes(GT_abstract, 6, False, False)\n",
    "    ig.plot(GT_abstract, PATH[\"plots\"] + placeid + '_GTabstract_poi_'+ poi_source + \"_\" + prune_measures[prune_measure] + \"{:.2f}\".format(prune_quantile) + '.png', bbox = bbox[\"export\"])"
   ]
  },
  {
   "cell_type": "markdown",
   "metadata": {},
   "source": [
    "Just the bicycle network"
   ]
  },
  {
   "cell_type": "code",
   "execution_count": null,
   "metadata": {},
   "outputs": [],
   "source": [
    "for GT, prune_quantile in zip(res[\"GTs\"], res[\"prune_quantiles\"]):\n",
    "    size_nodes(GT, 0)\n",
    "    width_edges(GT, 2)\n",
    "    color_edges(GT, \"blue\")\n",
    "    ig.plot(GT, PATH[\"plots\"] + placeid + '_GTbonly_poi_' + poi_source + \"_\" + prune_measures[prune_measure] + \"{:.2f}\".format(prune_quantile) + '.png', bbox=(800,800))"
   ]
  },
  {
   "cell_type": "markdown",
   "metadata": {},
   "source": [
    "All together"
   ]
  },
  {
   "cell_type": "code",
   "execution_count": null,
   "metadata": {},
   "outputs": [],
   "source": [
    "for GT, prune_quantile in zip(res[\"GTs\"], res[\"prune_quantiles\"]):\n",
    "    my_plot_reset(G_carall, nnids)\n",
    "    color_nodes(G_carall, \"red\", nnids)\n",
    "    size_nodes(G_carall, 8, nnids)\n",
    "    GT_ids = [v[\"id\"] for v in GT.vs]  \n",
    "    color_nodes(G_carall, \"blue\", GT_ids)\n",
    "    size_nodes(G_carall, 5, GT_ids)\n",
    "    ig.plot(G_carall, PATH[\"plots\"] + placeid + '_GTall_poi_' + poi_source + \"_\" + prune_measures[prune_measure] + \"{:.2f}\".format(prune_quantile) + '.png', bbox=(800,800))"
   ]
  },
  {
   "cell_type": "markdown",
   "metadata": {},
   "source": [
    "### Analysis"
   ]
  },
  {
   "cell_type": "code",
   "execution_count": null,
   "metadata": {},
   "outputs": [],
   "source": []
  },
  {
   "cell_type": "markdown",
   "metadata": {},
   "source": [
    "## Generated, Cluster based"
   ]
  },
  {
   "cell_type": "markdown",
   "metadata": {},
   "source": [
    "### Load data"
   ]
  },
  {
   "cell_type": "code",
   "execution_count": null,
   "metadata": {},
   "outputs": [],
   "source": [
    "filename = placeid + '_clusters_' + prune_measure + \"_cutoff\" + cutofftype + \"{:.2f}\".format(cutoff) + \".pickle\"\n",
    "resultfile = open(PATH[\"results\"] + filename,'rb')\n",
    "res = pickle.load(resultfile)\n",
    "resultfile.close()\n",
    "if debug: pp.pprint(res)"
   ]
  },
  {
   "cell_type": "markdown",
   "metadata": {},
   "source": [
    "### Maps"
   ]
  },
  {
   "cell_type": "markdown",
   "metadata": {},
   "source": [
    "Just clusters"
   ]
  },
  {
   "cell_type": "code",
   "execution_count": null,
   "metadata": {},
   "outputs": [],
   "source": [
    "plt.figure(figsize=[2*6.4, 2*4.8])\n",
    "for i in range(len(res[\"clusters\"])):\n",
    "    plt.plot(res[\"clusters\"][i].vs['x'],res[\"clusters\"][i].vs['y'],'.')\n",
    "plt.gca().invert_yaxis()\n",
    "%config InlineBackend.figure_format = 'retina'"
   ]
  },
  {
   "cell_type": "markdown",
   "metadata": {},
   "source": [
    "Abstract Greedy Triangulation"
   ]
  },
  {
   "cell_type": "code",
   "execution_count": null,
   "metadata": {},
   "outputs": [],
   "source": [
    "for GT_abstract, prune_quantile in zip(res[\"GT_abstracts\"], res[\"prune_quantiles\"]):\n",
    "    color_nodes(GT_abstract, \"red\", False, False)\n",
    "    size_nodes(GT_abstract, 6, False, False)\n",
    "    ig.plot(GT_abstract, PATH[\"plots\"] + placeid + '_GTclustersabstract_biketrack_cutoff' + cutofftype + \"{:.2f}\".format(cutoff) + \"_\" + prune_measures[prune_measure] + \"{:.2f}\".format(prune_quantile) + '.png', bbox = bbox['export'])"
   ]
  },
  {
   "cell_type": "markdown",
   "metadata": {},
   "source": [
    "Clusters with their new connections"
   ]
  },
  {
   "cell_type": "code",
   "execution_count": null,
   "metadata": {},
   "outputs": [],
   "source": [
    "plt.figure(figsize=[2*6.4, 2*4.8])\n",
    "plt.plot(res[\"GTs\"][-1].vs['x'], res[\"GTs\"][-1].vs['y'], 'o', color='red', markersize=5)\n",
    "for i in range(len(res[\"clusters\"])):\n",
    "    plt.plot(res[\"clusters\"][i].vs['x'], res[\"clusters\"][i].vs['y'], 'o', markersize=3)\n",
    "plt.gca().invert_yaxis()\n",
    "%config InlineBackend.figure_format = 'retina'"
   ]
  },
  {
   "cell_type": "markdown",
   "metadata": {},
   "source": [
    "Just the new connections"
   ]
  },
  {
   "cell_type": "code",
   "execution_count": null,
   "metadata": {},
   "outputs": [],
   "source": [
    "size_nodes(res[\"GTs\"][-1], 0)\n",
    "width_edges(res[\"GTs\"][-1], 2)\n",
    "color_edges(res[\"GTs\"][-1], \"blue\")\n",
    "ig.plot(res[\"GTs\"][-1])"
   ]
  },
  {
   "cell_type": "markdown",
   "metadata": {},
   "source": [
    "The whole bike network and the new connections"
   ]
  },
  {
   "cell_type": "code",
   "execution_count": null,
   "metadata": {},
   "outputs": [],
   "source": [
    "for GT, prune_quantile in zip(res[\"GTs\"], res[\"prune_quantiles\"]):\n",
    "    plt.figure(figsize=[2*6.4, 2*4.8])\n",
    "    plt.plot(GT.vs['x'], GT.vs['y'], 'o', color='red', markersize=3)\n",
    "    plt.plot(G_biketrack.vs['x'], G_biketrack.vs['y'], 'o', color='black', markersize=1)\n",
    "    plt.gca().invert_yaxis()\n",
    "    %config InlineBackend.figure_format = 'retina'\n",
    "    plt.savefig(PATH[\"plots\"] + placeid + '_GTclusters_biketrack_cutoff' + cutofftype + \"{:.2f}\".format(cutoff) + \"_\" + prune_measures[prune_measure] + \"{:.2f}\".format(prune_quantile) + '.png')"
   ]
  },
  {
   "cell_type": "markdown",
   "metadata": {},
   "source": [
    "### Analysis"
   ]
  },
  {
   "cell_type": "code",
   "execution_count": null,
   "metadata": {},
   "outputs": [],
   "source": []
  }
 ],
 "metadata": {
  "kernelspec": {
   "display_name": "OSMNX",
   "language": "python",
   "name": "osmnx"
  },
  "language_info": {
   "codemirror_mode": {
    "name": "ipython",
    "version": 3
   },
   "file_extension": ".py",
   "mimetype": "text/x-python",
   "name": "python",
   "nbconvert_exporter": "python",
   "pygments_lexer": "ipython3",
   "version": "3.8.2"
  }
 },
 "nbformat": 4,
 "nbformat_minor": 2
}
