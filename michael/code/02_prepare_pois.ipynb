{
 "cells": [
  {
   "cell_type": "markdown",
   "metadata": {},
   "source": [
    "# Prepare points of interest (POI) data for bicycle networks analysis\n",
    "## Project: Bicycle network analysis with Gourab, Sayat, Tyler, Michael, Roberta"
   ]
  },
  {
   "cell_type": "markdown",
   "metadata": {},
   "source": [
    "This notebook downloads and prepares points of interest data to be used for bicycle network design, snapping them to the networks created in 01_prepare_networks:\n",
    "* railway stations/halts and bus stops\n",
    "* high population density points\n",
    "* grid points\n",
    "\n",
    "Contact: Michael Szell (michael.szell@gmail.com)  \n",
    "Created: 2020-07-07  \n",
    "Last modified: 2020-07-07"
   ]
  },
  {
   "cell_type": "markdown",
   "metadata": {},
   "source": [
    "## Preliminaries"
   ]
  },
  {
   "cell_type": "markdown",
   "metadata": {},
   "source": [
    "### Imports and magics"
   ]
  },
  {
   "cell_type": "code",
   "execution_count": null,
   "metadata": {},
   "outputs": [],
   "source": [
    "import osmnx as ox\n",
    "import networkx as nx\n",
    "import watermark\n",
    "import numpy as np\n",
    "import pandas as pd\n",
    "\n",
    "import fiona\n",
    "import shapely\n",
    "import gdal\n",
    "import osr\n",
    "from haversine import haversine, haversine_vector\n",
    "\n",
    "import pyproj\n",
    "from shapely.geometry import Point, Polygon\n",
    "import shapely.ops as ops\n",
    "import math\n",
    "import matplotlib.pyplot as plt\n",
    "\n",
    "import pprint\n",
    "import sys\n",
    "pp = pprint.PrettyPrinter(indent=4)\n",
    "\n",
    "%load_ext watermark"
   ]
  },
  {
   "cell_type": "code",
   "execution_count": null,
   "metadata": {
    "scrolled": true
   },
   "outputs": [],
   "source": [
    "%watermark -n -v -m -g -iv"
   ]
  },
  {
   "cell_type": "markdown",
   "metadata": {},
   "source": [
    "### Parameters"
   ]
  },
  {
   "cell_type": "code",
   "execution_count": null,
   "metadata": {},
   "outputs": [],
   "source": [
    "datapath = \"../data/\"\n",
    "densityfolder = \"populationdensity\"\n",
    "\n",
    "# dict of placeid:placeinfo\n",
    "# If a city has a proper shapefile through nominatim\n",
    "# In case no (False), manual download of shapefile is necessary, see below\n",
    "cities = {#'london': \"greater london\",\n",
    "          #'bogota': \"bogota, colombia\",\n",
    "          'manhattan': {\"nominatimstring\": \"Manhattan, NYC, NY, USA\", \"countryid\": \"usa\"}#,\n",
    "          #'budapest': {\"nominatimstring\": \"Budapest, Hungary\", \"countryid\": \"hun\"},\n",
    "          #'paris':\"Paris, France\",\n",
    "          #'paris_grand': \"Métropole du Grand Paris\",\n",
    "          #'copenhagen': {\"nominatimstring\": False, \"countryid\": \"dnk\"}\n",
    "         } \n",
    "\n",
    "osmnxparameters = {'car30':{'network_type':'drive', 'custom_filter':'[\"maxspeed\"~\"30\"]'},\n",
    "                   'carall':{'network_type':'drive', 'custom_filter':''}\n",
    "                  }  \n",
    "\n",
    "# We get all the railway stations/halts (including metro) and bus stops\n",
    "poiparameters = {#\"railwaystation\":{'railway':['station','halt']}#,\n",
    "                 #\"busstop\":{'highway':'bus_stop'}\n",
    "                }"
   ]
  },
  {
   "cell_type": "markdown",
   "metadata": {},
   "source": [
    "To check for nominatimstring:\n",
    "* Go to e.g. https://nominatim.openstreetmap.org/search.php?q=paris%2C+france&polygon_geojson=1&viewbox= and enter the search string. If a correct polygon (or multipolygon) pops up it should be fine.\n",
    "\n",
    "To get shapefiles:\n",
    "* Go to [Overpass](overpass-turbo.eu), to the city, and run:\n",
    "    `relation[\"boundary\"=\"administrative\"][\"name:en\"=\"Copenhagen Municipality\"]({{bbox}});(._;>;);out skel;`\n",
    "* Export: Download as GPX\n",
    "* Use QGIS to create a polygon, with Vector > Join Multiple Lines, and Processing Toolbox > Polygonize (see https://gis.stackexchange.com/questions/98320/connecting-two-line-ends-in-qgis-without-resorting-to-other-software and https://gis.stackexchange.com/questions/207463/convert-a-line-to-polygon)"
   ]
  },
  {
   "cell_type": "markdown",
   "metadata": {},
   "source": [
    "## Download and wrangle data"
   ]
  },
  {
   "cell_type": "markdown",
   "metadata": {},
   "source": [
    "### Railway stations/halts and bus stops"
   ]
  },
  {
   "cell_type": "code",
   "execution_count": null,
   "metadata": {
    "scrolled": false
   },
   "outputs": [],
   "source": [
    "for placeid, placeinfo in cities.items():\n",
    "    if placeinfo[\"nominatimstring\"]:\n",
    "        location = ox.gdf_from_place(placeinfo[\"nominatimstring\"])\n",
    "        location = shapely.geometry.shape(location['geometry'][0])\n",
    "    else:\n",
    "        # https://gis.stackexchange.com/questions/113799/how-to-read-a-shapefile-in-python\n",
    "        shp = fiona.open(datapath+placeid+\".shp\")\n",
    "        first = shp.next()\n",
    "        location = shapely.geometry.shape(first['geometry'])\n",
    "    \n",
    "    cities[placeid][\"bbox\"] = location.bounds\n",
    "    \n",
    "    # We need the carall graph\n",
    "    parameterdict = osmnxparameters['carall']\n",
    "    G = ox.graph_from_polygon(location, \n",
    "                               network_type = parameterdict['network_type'],\n",
    "                               custom_filter = (parameterdict['custom_filter']),\n",
    "                               retain_all = True,\n",
    "                               simplify = False)\n",
    "    \n",
    "    for poiid, poitag in poiparameters.items():\n",
    "        gdf = ox.pois.pois_from_polygon(location, tags = poitag)\n",
    "        gdf = gdf[gdf['geometry'].type == \"Point\"] # only consider points, no polygons etc\n",
    "        # Now snap to closest nodes in street network, save the nearest node ids\n",
    "        nnids = ox.distance.get_nearest_nodes(G, gdf['geometry'].x, gdf['geometry'].y)\n",
    "        with open(datapath+placeid+'_'+'poi_'+poiid+'_nnidscarall.csv', 'w') as f:\n",
    "            for item in nnids:\n",
    "                f.write(\"%s\\n\" % item)\n",
    "        \n",
    "        gdf = gdf.apply(lambda c: c.astype(str) if c.name != 'geometry' else c, axis=0)\n",
    "        try: # For some cities writing the gdf does not work (i.e. London, New York)\n",
    "            gdf.to_file(datapath+placeid+'_'+'poi_'+poiid+'.gpkg', driver='GPKG')\n",
    "        except:\n",
    "            pass\n",
    "        gdf.plot(color='red')\n",
    "    cities[placeid][\"bbox\"] = location.bounds"
   ]
  },
  {
   "cell_type": "markdown",
   "metadata": {},
   "source": [
    "### Grid"
   ]
  },
  {
   "cell_type": "markdown",
   "metadata": {},
   "source": [
    "#### First, determine the most common bearing, for the best grid orientation\n",
    "Using the code from: https://github.com/gboeing/osmnx-examples/blob/v0.11/notebooks/17-street-network-orientations.ipynb"
   ]
  },
  {
   "cell_type": "code",
   "execution_count": null,
   "metadata": {},
   "outputs": [],
   "source": [
    "n = 72 # number of bins\n",
    "\n",
    "def reverse_bearing(x):\n",
    "    return x + 180 if x < 180 else x - 180\n",
    "\n",
    "\n",
    "bearings = {}    \n",
    "# calculate edge bearings\n",
    "Gu = ox.add_edge_bearings(ox.get_undirected(G))\n",
    "\n",
    "\n",
    "# weight bearings by length (meters)\n",
    "city_bearings = []\n",
    "for u, v, k, d in Gu.edges(keys=True, data=True):\n",
    "    city_bearings.extend([d['bearing']] * int(d['length']))\n",
    "b = pd.Series(city_bearings)\n",
    "bearings = pd.concat([b, b.map(reverse_bearing)]).reset_index(drop='True')\n",
    "    \n",
    "        \n",
    "def count_and_merge(n, bearings):\n",
    "    # make twice as many bins as desired, then merge them in pairs\n",
    "    # prevents bin-edge effects around common values like 0° and 90°\n",
    "    n = n * 2\n",
    "    bins = np.arange(n + 1) * 360 / n\n",
    "    count, _ = np.histogram(bearings, bins=bins)\n",
    "    \n",
    "    # move the last bin to the front, so eg 0.01° and 359.99° will be binned together\n",
    "    count = np.roll(count, 1)\n",
    "    return count[::2] + count[1::2]\n",
    "\n",
    "bins = np.arange(n + 1) * 360 / n\n",
    "count = count_and_merge(n, bearings)\n",
    "principalbearing = bins[np.where(count == max(count))][0] % 90 # Take it modulo 90 because it will be a square grid"
   ]
  },
  {
   "cell_type": "markdown",
   "metadata": {},
   "source": [
    "#### Second, construct the grid"
   ]
  },
  {
   "cell_type": "code",
   "execution_count": null,
   "metadata": {},
   "outputs": [],
   "source": [
    "gridl = 1000 # Length in m, for generating the grid\n",
    "\n",
    "# 1) Get lat lon window\n",
    "cities[placeid][\"bbox\"] = location.bounds\n",
    "\n",
    "# 2) Generate abstract grid points in window\n",
    "# https://stackoverflow.com/questions/40342355/how-can-i-generate-a-regular-geographic-grid-using-python\n",
    "# Set up projections\n",
    "p_ll = pyproj.Proj('+proj=longlat +datum=WGS84')\n",
    "aeqd_proj = '+proj=aeqd +lat_0={lat} +lon_0={lon} +x_0=0 +y_0=0'\n",
    "p_mt = pyproj.Proj(aeqd_proj.format(lat=location.centroid.y, lon=location.centroid.x)) # equidistant projection\n",
    "\n",
    "\n",
    "# Make the area larger to account for tilted grid\n",
    "deltax = cities[placeid][\"bbox\"][2] - cities[placeid][\"bbox\"][0]\n",
    "deltay = cities[placeid][\"bbox\"][3] - cities[placeid][\"bbox\"][1]\n",
    "deltamax = max(deltax, deltay)\n",
    "\n",
    "# Create corners of rectangle to be transformed to a grid\n",
    "sw = shapely.geometry.Point((cities[placeid][\"bbox\"][0], cities[placeid][\"bbox\"][1]))\n",
    "ne = shapely.geometry.Point((cities[placeid][\"bbox\"][2]+20*deltax, cities[placeid][\"bbox\"][3]+5*deltax))\n",
    "\n",
    "\n",
    "# Project corners to target projection\n",
    "transformed_sw = pyproj.transform(p_ll, p_mt, sw.x, sw.y) # Transform NW point to equidistant\n",
    "transformed_ne = pyproj.transform(p_ll, p_mt, ne.x, ne.y) # .. same for SE\n",
    "\n",
    "\n",
    "\n",
    "# Iterate over 2D area\n",
    "if principalbearing > 45:\n",
    "    principalbearing -= 90 # Make bearing fall btw -45 and 45\n",
    "principalbearing = max(min(principalbearing, 45), -45)\n",
    "dy = gridl * math.cos(math.radians(principalbearing))\n",
    "dx = gridl * math.sin(math.radians(principalbearing))\n",
    "\n",
    "if principalbearing >= 0:\n",
    "    shiftx = -2*deltax\n",
    "    shifty = 0\n",
    "else:\n",
    "    shiftx = deltax/2\n",
    "    shifty = -deltay\n",
    "gridpoints = []\n",
    "x = transformed_sw[0]\n",
    "baseliney = 0\n",
    "baselinex = 0\n",
    "while x < transformed_ne[0]:\n",
    "    x = transformed_sw[0] + baselinex\n",
    "    y = transformed_sw[1] + baseliney\n",
    "    while y < transformed_ne[1]:\n",
    "        p = shapely.geometry.Point(pyproj.transform(p_mt, p_ll, x, y))\n",
    "        gridpoints.append([p.x+shiftx, p.y+shifty])\n",
    "        x += dx\n",
    "        y += dy\n",
    "    baseliney -= dx\n",
    "    baselinex += dy\n",
    "    \n",
    "# gridpoints_cut = gridpoints\n",
    "# Cut back to bounding box\n",
    "gridpoints_cut = []\n",
    "for p in gridpoints:\n",
    "    if p[0] >= cities[placeid][\"bbox\"][0] and p[0] <= cities[placeid][\"bbox\"][2] and p[1] >= cities[placeid][\"bbox\"][1] and p[1] <= cities[placeid][\"bbox\"][3]:\n",
    "        gridpoints_cut.append(p)\n",
    "    \n",
    "# 3) Snap grid points to map\n",
    "threshold = 300 # in meters\n",
    "nnids = set()\n",
    "for g in gridpoints_cut:\n",
    "    n = ox.distance.get_nearest_node(G, [g[1], g[0]])\n",
    "    if not n in nnids and haversine((g[0], g[1]), (G.nodes[n][\"x\"], G.nodes[n][\"y\"]))*1000 <= threshold:\n",
    "        nnids.add(n)\n",
    "with open(datapath+placeid+'_poi_grid_nnidscarall.csv', 'w') as f:\n",
    "    for item in nnids:\n",
    "        f.write(\"%s\\n\" % item)\n"
   ]
  },
  {
   "cell_type": "code",
   "execution_count": null,
   "metadata": {},
   "outputs": [],
   "source": [
    "fig = plt.figure(figsize=[2*6.4, 2*4.8])\n",
    "ax = fig.add_axes([0, 0, 1, 1])\n",
    "ax.set_aspect('equal', adjustable='datalim')\n",
    "plt.plot([g[0] for g in gridpoints_cut], [g[1] for g in gridpoints_cut], \".\", color=\"red\")\n",
    "# gridpoints_cut"
   ]
  },
  {
   "cell_type": "markdown",
   "metadata": {},
   "source": [
    "### Population density"
   ]
  },
  {
   "cell_type": "code",
   "execution_count": null,
   "metadata": {
    "scrolled": false
   },
   "outputs": [],
   "source": [
    "# https://medium.com/@danielmoyo/raster-data-in-python-part-i-reading-and-visualising-raster-data-95cb072fcbfa\n",
    "import rasterio\n",
    "import matplotlib.pyplot as plt\n",
    "\n",
    "for placeid, placeinfo in cities.items():\n",
    "    raster_path = datapath + densityfolder + \"/\" + placeinfo['countryid'] + \"_ppp_2020_UNadj.tif\"\n",
    "    pop_raster = rasterio.open(raster_path)\n",
    "    \n",
    "    cities[placeid][\"bbox\"] = location.bounds\n",
    "\n",
    "    def plot_raster(arr, title=None, figsize=(30,10)):\n",
    "        \"\"\" helper function to plot a raster array \"\"\"\n",
    "        fig, ax = plt.subplots(figsize=figsize)\n",
    "        plt.imshow(arr)\n",
    "        plt.colorbar()\n",
    "        plt.title(f'{title}')\n",
    "        plt.xlabel('Column #')\n",
    "        plt.ylabel('Row #')\n",
    "        return fig, ax\n",
    "\n",
    "    pop_data = pop_raster.read(1)\n",
    "    pop_data[pop_data<0] = 0\n",
    "    pop_count = pop_data[pop_data>0].sum()\n",
    "    plot_raster(pop_data, title=pop_count)"
   ]
  },
  {
   "cell_type": "code",
   "execution_count": null,
   "metadata": {},
   "outputs": [],
   "source": [
    "# https://stackoverflow.com/questions/50191648/gis-geotiff-gdal-python-how-to-get-coordinates-from-pixel\n",
    "# https://gdal.org/api/gdaldataset_cpp.html#_CPPv4N11GDALDataset15GetGeoTransformEPd\n",
    "\n",
    "# Problems:\n",
    "# https://gis.stackexchange.com/questions/331908/notimplementederror-wrong-number-or-type-of-arguments-for-overloaded-function\n",
    "# https://gis.stackexchange.com/questions/44040/osr-python-testsr-importfromepsg4326-returns-empty-spatial-reference\n",
    "# https://www.programcreek.com/python/example/58591/osgeo.osr.SpatialReference\n",
    "\n",
    "\n",
    "def generate_latlons(raster_path):\n",
    "    # open the dataset and get the geo transform matrix\n",
    "    ds = gdal.Open(raster_path) \n",
    "    xoffset, px_w, rot1, yoffset, px_h, rot2 = ds.GetGeoTransform()\n",
    "    ds_arr = ds.ReadAsArray()\n",
    "    \n",
    "    x_arr = np.arange(0, ds_arr.shape[0], 1)\n",
    "    x_arr.shape = (len(x_arr), 1)\n",
    "    x_arr = np.repeat(x_arr, [ds_arr.shape[1]], axis=1)\n",
    "    \n",
    "    y_arr = np.arange(0, ds_arr.shape[1], 1)\n",
    "    y_arr.shape = (1, len(y_arr))\n",
    "    y_arr = np.repeat(y_arr, [ds_arr.shape[0]], axis=0)\n",
    "    \n",
    "    # supposing x and y are your pixel coordinate this \n",
    "    # is how to get the coordinate in space.\n",
    "    lon_arr = xoffset + px_w * y_arr + rot1 * x_arr + px_w / 2.0\n",
    "    lat_arr = yoffset + px_h * y_arr + rot2 * x_arr + px_h / 2.0\n",
    "    \n",
    "    return(lat_arr, lon_arr)\n",
    "\n",
    "for placeid, placeinfo in cities.items():\n",
    "    raster_path = datapath + densityfolder + \"/\" + placeinfo['countryid'] + \"_ppp_2020_UNadj.tif\"\n",
    "    pop_raster = rasterio.open(raster_path)\n",
    "    (lat, lon) = generate_latlons(raster_path)\n",
    "    \n",
    "# To do: only read the relevant window\n",
    "# https://medium.com/@danielmoyo/raster-data-in-python-part-ii-working-with-geographic-coordinates-a368708de5f2"
   ]
  },
  {
   "cell_type": "code",
   "execution_count": null,
   "metadata": {},
   "outputs": [],
   "source": [
    "indices = np.where(pop_data == pop_data.max())\n",
    "c_x = indices[0].item()\n",
    "c_y = indices[1].item()\n",
    "\n",
    "delta = 70\n",
    "plot_raster(pop_data[c_x-delta:c_x+delta, c_y-delta:c_y+delta], title=pop_count)"
   ]
  }
 ],
 "metadata": {
  "kernelspec": {
   "display_name": "OSMNX",
   "language": "python",
   "name": "osmnx"
  },
  "language_info": {
   "codemirror_mode": {
    "name": "ipython",
    "version": 3
   },
   "file_extension": ".py",
   "mimetype": "text/x-python",
   "name": "python",
   "nbconvert_exporter": "python",
   "pygments_lexer": "ipython3",
   "version": "3.8.2"
  }
 },
 "nbformat": 4,
 "nbformat_minor": 2
}
