{
 "cells": [
  {
   "cell_type": "markdown",
   "metadata": {},
   "source": [
    "# Prepare data for bicycle networks analysis\n",
    "## Project: Bicycle network analysis with Gourab, Sayat, Tyler, Michael, Roberta"
   ]
  },
  {
   "cell_type": "markdown",
   "metadata": {},
   "source": [
    "This notebook downloads bicycle and street network data sets and prepares them for analysis.\n",
    "\n",
    "Contact: Michael Szell (michael.szell@gmail.com)  \n",
    "Created: 2020-06-09  \n",
    "Last modified: 2020-06-25"
   ]
  },
  {
   "cell_type": "markdown",
   "metadata": {},
   "source": [
    "## Preliminaries"
   ]
  },
  {
   "cell_type": "markdown",
   "metadata": {},
   "source": [
    "### Imports and magics"
   ]
  },
  {
   "cell_type": "code",
   "execution_count": 1,
   "metadata": {},
   "outputs": [],
   "source": [
    "import osmnx as ox\n",
    "import networkx as nx\n",
    "import watermark\n",
    "\n",
    "import fiona\n",
    "import shapely\n",
    "from shapely.ops import cascaded_union\n",
    "\n",
    "%load_ext watermark"
   ]
  },
  {
   "cell_type": "code",
   "execution_count": 2,
   "metadata": {
    "scrolled": true
   },
   "outputs": [
    {
     "name": "stdout",
     "output_type": "stream",
     "text": [
      "fiona     1.8.13\n",
      "networkx  2.4\n",
      "osmnx     0.13.0\n",
      "shapely   1.7.0\n",
      "watermark 2.0.2\n",
      "Thu Jun 25 2020 \n",
      "\n",
      "CPython 3.8.2\n",
      "IPython 7.14.0\n",
      "\n",
      "compiler   : Clang 9.0.1 \n",
      "system     : Darwin\n",
      "release    : 19.5.0\n",
      "machine    : x86_64\n",
      "processor  : i386\n",
      "CPU cores  : 12\n",
      "interpreter: 64bit\n",
      "Git hash   :\n"
     ]
    }
   ],
   "source": [
    "%watermark -n -v -m -g -iv"
   ]
  },
  {
   "cell_type": "markdown",
   "metadata": {},
   "source": [
    "### Parameters"
   ]
  },
  {
   "cell_type": "code",
   "execution_count": 5,
   "metadata": {},
   "outputs": [],
   "source": [
    "datapath = \"../data/\"\n",
    "#cities = {'copenhagen':\"Copenhagen Municipality\", 'paris':\"Paris, France\"} # dict of placeid:nominativstring\n",
    "cities = {'copenhagen':\"Copenhagen Municipality\"}\n",
    "osmnxparameters = {'car30':{'network_type':'drive', 'custom_filter':'[\"maxspeed\"~\"30\"]'},\n",
    "                   'carall':{'network_type':'drive', 'custom_filter':''}\n",
    "                  }  \n",
    "# special case 'biketrack': \"cycleway\"~\"track\" OR \"highway\"~\"cycleway\" OR \"bicycle\"~\"designated\" OR \"cycleway:right=track\" OR \"cycleway:left=track\"\n",
    "# special case 'bikeable': biketrack OR car30\n",
    "# See: https://wiki.openstreetmap.org/wiki/Key:cycleway#Cycle_tracks\n",
    "\n",
    "# For now we get all the railway stations (including metro), and bus stops\n",
    "poiparameters = {\"railwaystation\":{'railway':['station','halt']},\n",
    "                 \"busstop\":{'highway':'bus_stop'}\n",
    "                }\n",
    "\n",
    "plotnetworks = True\n",
    "maptiles = ('cartodbpositron','openstreetmap')\n",
    "edge_colors = ('#0033cc',)"
   ]
  },
  {
   "cell_type": "markdown",
   "metadata": {},
   "source": [
    "To get shapefiles:\n",
    "* Go to [Overpass](overpass-turbo.eu), to the city, and run:\n",
    "    `relation[\"boundary\"=\"administrative\"][\"name:en\"=\"Copenhagen Municipality\"]({{bbox}});(._;>;);out skel;`\n",
    "* Export: Download as GPX\n",
    "* Use QGIS to create a polygon, with Vector > Join Multiple Lines, and Processing Toolbox > Polygonize (see https://gis.stackexchange.com/questions/98320/connecting-two-line-ends-in-qgis-without-resorting-to-other-software and https://gis.stackexchange.com/questions/207463/convert-a-line-to-polygon)"
   ]
  },
  {
   "cell_type": "markdown",
   "metadata": {},
   "source": [
    "## Download and wrangle data"
   ]
  },
  {
   "cell_type": "markdown",
   "metadata": {},
   "source": [
    "### Networks"
   ]
  },
  {
   "cell_type": "code",
   "execution_count": 89,
   "metadata": {
    "scrolled": true
   },
   "outputs": [
    {
     "name": "stderr",
     "output_type": "stream",
     "text": [
      "<ipython-input-89-64d2eab5a5a6>:5: FionaDeprecationWarning: Collection.__next__() is buggy and will be removed in Fiona 2.0. Switch to `next(iter(collection))`.\n",
      "  first = shp.next()\n"
     ]
    }
   ],
   "source": [
    "for placeid, nominativstring in cities.items():\n",
    "    #location = ox.gdf_from_place(nominativstring)\n",
    "    # https://gis.stackexchange.com/questions/113799/how-to-read-a-shapefile-in-python\n",
    "    shp = fiona.open(datapath+placeid+\".shp\")\n",
    "    first = shp.next()\n",
    "    location = shapely.geometry.shape(first['geometry'])\n",
    "    # Cases in osmnxparameters\n",
    "    for parameterid, parameterdict in osmnxparameters.items():\n",
    "        G = ox.graph_from_polygon(location, \n",
    "                               network_type = parameterdict['network_type'],\n",
    "                               custom_filter = (parameterdict['custom_filter']),\n",
    "                               retain_all = True,\n",
    "                               simplify = False)\n",
    "        node,edge = ox.graph_to_gdfs(G)\n",
    "        node.to_csv(datapath+placeid+'_'+parameterid+'_nodes.csv',index=False)\n",
    "        edge.to_csv(datapath+placeid+'_'+parameterid+'_edges.csv',index=False)\n",
    "    \n",
    "    # Special cases biketrack and bikeable\n",
    "    G1 = ox.graph_from_polygon(location,\n",
    "                               network_type = 'bike',\n",
    "                               custom_filter = ('[\"cycleway\"~\"track\"]'),\n",
    "                               retain_all = True,\n",
    "                               simplify = False)\n",
    "    G2 = ox.graph_from_polygon(location, \n",
    "                               network_type = 'bike',\n",
    "                               custom_filter = ('[\"highway\"~\"cycleway\"]'),\n",
    "                               retain_all = True,\n",
    "                               simplify = False)\n",
    "    G3 = ox.graph_from_polygon(location, \n",
    "                               network_type = 'bike',\n",
    "                               custom_filter = ('[\"bicycle\"~\"designated\"]'),\n",
    "                               retain_all = True,\n",
    "                               simplify = False)\n",
    "    G4 = ox.graph_from_polygon(location, \n",
    "                               network_type = 'bike',\n",
    "                               custom_filter = ('[\"cycleway:right\"~\"track\"]'),\n",
    "                               retain_all = True,\n",
    "                               simplify = False)\n",
    "    G5 = ox.graph_from_polygon(location, \n",
    "                               network_type = 'bike',\n",
    "                               custom_filter = ('[\"cycleway:left\"~\"track\"]'),\n",
    "                               retain_all = True,\n",
    "                               simplify = False)\n",
    "    Gcar30 = ox.graph_from_polygon(location, \n",
    "                               network_type = osmnxparameters['car30']['network_type'],\n",
    "                               custom_filter = (osmnxparameters['car30']['custom_filter']),\n",
    "                               retain_all = True,\n",
    "                               simplify = False)\n",
    "    \n",
    "    parameterid = 'biketrack'\n",
    "    G = nx.compose(G5,nx.compose(G1,nx.compose(G2,nx.compose(G3,G4))))\n",
    "    node,edge = ox.graph_to_gdfs(G)\n",
    "    node.to_csv(datapath+placeid+'_'+parameterid+'_nodes.csv',index=False)\n",
    "    edge.to_csv(datapath+placeid+'_'+parameterid+'_edges.csv',index=False)\n",
    "    \n",
    "    parameterid = 'bikeable'\n",
    "    G = nx.compose(Gcar30,G)\n",
    "    node,edge = ox.graph_to_gdfs(G)\n",
    "    node.to_csv(datapath+placeid+'_'+parameterid+'_nodes.csv',index=False)\n",
    "    edge.to_csv(datapath+placeid+'_'+parameterid+'_edges.csv',index=False)"
   ]
  },
  {
   "cell_type": "markdown",
   "metadata": {},
   "source": [
    "### POIs"
   ]
  },
  {
   "cell_type": "code",
   "execution_count": 6,
   "metadata": {
    "scrolled": false
   },
   "outputs": [
    {
     "name": "stderr",
     "output_type": "stream",
     "text": [
      "<ipython-input-6-1eb5e230de59>:3: FionaDeprecationWarning: Collection.__next__() is buggy and will be removed in Fiona 2.0. Switch to `next(iter(collection))`.\n",
      "  first = shp.next()\n"
     ]
    },
    {
     "data": {
      "image/png": "[encoded data removed]",
      "text/plain": [
       "<Figure size 432x288 with 1 Axes>"
      ]
     },
     "metadata": {
      "needs_background": "light"
     },
     "output_type": "display_data"
    }
   ],
   "source": [
    "for placeid, nominativstring in cities.items():\n",
    "    shp = fiona.open(datapath+placeid+\".shp\")\n",
    "    first = shp.next()\n",
    "    location = shapely.geometry.shape(first['geometry'])\n",
    "    \n",
    "    # We need the carall graph\n",
    "    parameterdict = osmnxparameters['carall']\n",
    "    G = ox.graph_from_polygon(location, \n",
    "                               network_type = parameterdict['network_type'],\n",
    "                               custom_filter = (parameterdict['custom_filter']),\n",
    "                               retain_all = True,\n",
    "                               simplify = False)\n",
    "    \n",
    "    for poiid, poitag in poiparameters.items():\n",
    "        gdf = ox.pois.pois_from_polygon(location, tags = poitag)\n",
    "        gdf = gdf[gdf['geometry'].type == \"Point\"] # only consider points, no polygons etc\n",
    "        # Now snap to closest nodes in street network, save the nearest node ids\n",
    "        nnids = ox.distance.get_nearest_nodes(G, gdf['geometry'].x, gdf['geometry'].y)\n",
    "        with open(datapath+placeid+'_'+'poi_'+poiid+'_nnidscarall.csv', 'w') as f:\n",
    "            for item in nnids:\n",
    "                f.write(\"%s\\n\" % item)\n",
    "        \n",
    "        gdf = gdf.apply(lambda c: c.astype(str) if c.name != 'geometry' else c, axis=0)\n",
    "        gdf.to_file(datapath+placeid+'_'+'poi_'+poiid+'.gpkg', driver='GPKG')\n",
    "        gdf.plot(color='red')"
   ]
  },
  {
   "cell_type": "markdown",
   "metadata": {},
   "source": [
    "## Plot"
   ]
  },
  {
   "cell_type": "code",
   "execution_count": 90,
   "metadata": {},
   "outputs": [
    {
     "data": {
      "text/plain": [
       "'bikeable'"
      ]
     },
     "execution_count": 90,
     "metadata": {},
     "output_type": "execute_result"
    }
   ],
   "source": [
    "parameterid"
   ]
  },
  {
   "cell_type": "code",
   "execution_count": null,
   "metadata": {},
   "outputs": [],
   "source": [
    "ox.folium.plot_graph_folium(G, graph_map=None, \n",
    "                                              popup_attribute=None, \n",
    "                                              tiles=maptiles[0], \n",
    "                                              zoom=19, \n",
    "                                              fit_bounds=True, \n",
    "                                              edge_color=edge_colors[0], \n",
    "                                              edge_width=2, \n",
    "                                              edge_opacity=.64)"
   ]
  }
 ],
 "metadata": {
  "kernelspec": {
   "display_name": "OSMNX",
   "language": "python",
   "name": "osmnx"
  },
  "language_info": {
   "codemirror_mode": {
    "name": "ipython",
    "version": 3
   },
   "file_extension": ".py",
   "mimetype": "text/x-python",
   "name": "python",
   "nbconvert_exporter": "python",
   "pygments_lexer": "ipython3",
   "version": "3.8.2"
  }
 },
 "nbformat": 4,
 "nbformat_minor": 2
}
