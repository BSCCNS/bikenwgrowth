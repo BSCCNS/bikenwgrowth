{
 "cells": [
  {
   "cell_type": "markdown",
   "metadata": {},
   "source": [
    "# Prepare network data for bicycle networks analysis\n",
    "## Project: Bicycle network analysis with Gourab, Sayat, Tyler, Michael, Roberta"
   ]
  },
  {
   "cell_type": "markdown",
   "metadata": {},
   "source": [
    "This notebook downloads bicycle and street network data sets and prepares them for analysis.\n",
    "\n",
    "Contact: Michael Szell (michael.szell@gmail.com)  \n",
    "Created: 2020-06-09  \n",
    "Last modified: 2020-07-07"
   ]
  },
  {
   "cell_type": "markdown",
   "metadata": {},
   "source": [
    "## Preliminaries"
   ]
  },
  {
   "cell_type": "markdown",
   "metadata": {},
   "source": [
    "### Imports and magics"
   ]
  },
  {
   "cell_type": "code",
   "execution_count": 1,
   "metadata": {},
   "outputs": [],
   "source": [
    "import osmnx as ox\n",
    "import networkx as nx\n",
    "import watermark\n",
    "\n",
    "import fiona\n",
    "import shapely\n",
    "\n",
    "%load_ext watermark"
   ]
  },
  {
   "cell_type": "code",
   "execution_count": 2,
   "metadata": {
    "scrolled": true
   },
   "outputs": [
    {
     "name": "stdout",
     "output_type": "stream",
     "text": [
      "watermark 2.0.2\n",
      "fiona     1.8.13\n",
      "shapely   1.7.0\n",
      "networkx  2.4\n",
      "osmnx     0.13.0\n",
      "Mon Jul 06 2020 \n",
      "\n",
      "CPython 3.8.2\n",
      "IPython 7.14.0\n",
      "\n",
      "compiler   : Clang 9.0.1 \n",
      "system     : Darwin\n",
      "release    : 19.5.0\n",
      "machine    : x86_64\n",
      "processor  : i386\n",
      "CPU cores  : 12\n",
      "interpreter: 64bit\n",
      "Git hash   :\n"
     ]
    }
   ],
   "source": [
    "%watermark -n -v -m -g -iv"
   ]
  },
  {
   "cell_type": "markdown",
   "metadata": {},
   "source": [
    "### Parameters"
   ]
  },
  {
   "cell_type": "code",
   "execution_count": 3,
   "metadata": {},
   "outputs": [],
   "source": [
    "datapath = \"../data/\"\n",
    "\n",
    "# dict of placeid:nominatimstring\n",
    "# If a city has a proper shapefile through nominatim\n",
    "# In case no (False), manual download of shapefile is necessary, see below\n",
    "cities = {#'london': \"greater london\",\n",
    "          #'bogota': \"bogota, colombia\",\n",
    "          #'manhattan': \"manhattan\"#,\n",
    "          #'budapest':\"Budapest, Hungary\",\n",
    "          #'paris':\"Paris, France\",\n",
    "          'paris_grand': \"Métropole du Grand Paris\",\n",
    "          #'copenhagen': False\n",
    "         } \n",
    "\n",
    "osmnxparameters = {'car30':{'network_type':'drive', 'custom_filter':'[\"maxspeed\"~\"30\"]'},\n",
    "                   'carall':{'network_type':'drive', 'custom_filter':''}\n",
    "                  }  \n",
    "# Special case 'biketrack': \"cycleway\"~\"track\" OR \"highway\"~\"cycleway\" OR \"bicycle\"~\"designated\" OR \"cycleway:right=track\" OR \"cycleway:left=track\"\n",
    "# Special case 'bikeable': biketrack OR car30\n",
    "# See: https://wiki.openstreetmap.org/wiki/Key:cycleway#Cycle_tracks\n",
    "\n",
    "maptiles = ('cartodbpositron','openstreetmap')\n",
    "edge_colors = ('#0033cc',)"
   ]
  },
  {
   "cell_type": "markdown",
   "metadata": {},
   "source": [
    "To check for nominatimstring:\n",
    "* Go to e.g. https://nominatim.openstreetmap.org/search.php?q=paris%2C+france&polygon_geojson=1&viewbox= and enter the search string. If a correct polygon (or multipolygon) pops up it should be fine.\n",
    "\n",
    "To get shapefiles:\n",
    "* Go to [Overpass](overpass-turbo.eu), to the city, and run:\n",
    "    `relation[\"boundary\"=\"administrative\"][\"name:en\"=\"Copenhagen Municipality\"]({{bbox}});(._;>;);out skel;`\n",
    "* Export: Download as GPX\n",
    "* Use QGIS to create a polygon, with Vector > Join Multiple Lines, and Processing Toolbox > Polygonize (see https://gis.stackexchange.com/questions/98320/connecting-two-line-ends-in-qgis-without-resorting-to-other-software and https://gis.stackexchange.com/questions/207463/convert-a-line-to-polygon)"
   ]
  },
  {
   "cell_type": "markdown",
   "metadata": {},
   "source": [
    "## Download and wrangle data"
   ]
  },
  {
   "cell_type": "markdown",
   "metadata": {},
   "source": [
    "### Networks"
   ]
  },
  {
   "cell_type": "code",
   "execution_count": 4,
   "metadata": {
    "scrolled": true
   },
   "outputs": [],
   "source": [
    "for placeid, nominatimstring in cities.items():\n",
    "    if nominatimstring:\n",
    "        location = ox.gdf_from_place(nominatimstring)\n",
    "        location = shapely.geometry.shape(location['geometry'][0])\n",
    "    else:\n",
    "        # https://gis.stackexchange.com/questions/113799/how-to-read-a-shapefile-in-python\n",
    "        shp = fiona.open(datapath+placeid+\".shp\")\n",
    "        first = shp.next()\n",
    "        location = shapely.geometry.shape(first['geometry'])\n",
    "    \n",
    "    # Cases in osmnxparameters\n",
    "    for parameterid, parameterdict in osmnxparameters.items():\n",
    "        G = ox.graph_from_polygon(location, \n",
    "                               network_type = parameterdict['network_type'],\n",
    "                               custom_filter = (parameterdict['custom_filter']),\n",
    "                               retain_all = True,\n",
    "                               simplify = False)\n",
    "        node,edge = ox.graph_to_gdfs(G)\n",
    "        node.to_csv(datapath+placeid+'_'+parameterid+'_nodes.csv',index=False)\n",
    "        edge.to_csv(datapath+placeid+'_'+parameterid+'_edges.csv',index=False)\n",
    "    \n",
    "    # Special cases biketrack and bikeable\n",
    "    G1 = ox.graph_from_polygon(location,\n",
    "                               network_type = 'bike',\n",
    "                               custom_filter = ('[\"cycleway\"~\"track\"]'),\n",
    "                               retain_all = True,\n",
    "                               simplify = False)\n",
    "    G2 = ox.graph_from_polygon(location, \n",
    "                               network_type = 'bike',\n",
    "                               custom_filter = ('[\"highway\"~\"cycleway\"]'),\n",
    "                               retain_all = True,\n",
    "                               simplify = False)\n",
    "    G3 = ox.graph_from_polygon(location, \n",
    "                               network_type = 'bike',\n",
    "                               custom_filter = ('[\"bicycle\"~\"designated\"]'),\n",
    "                               retain_all = True,\n",
    "                               simplify = False)\n",
    "    G4 = ox.graph_from_polygon(location, \n",
    "                               network_type = 'bike',\n",
    "                               custom_filter = ('[\"cycleway:right\"~\"track\"]'),\n",
    "                               retain_all = True,\n",
    "                               simplify = False)\n",
    "    G5 = ox.graph_from_polygon(location, \n",
    "                               network_type = 'bike',\n",
    "                               custom_filter = ('[\"cycleway:left\"~\"track\"]'),\n",
    "                               retain_all = True,\n",
    "                               simplify = False)\n",
    "    Gcar30 = ox.graph_from_polygon(location, \n",
    "                               network_type = osmnxparameters['car30']['network_type'],\n",
    "                               custom_filter = (osmnxparameters['car30']['custom_filter']),\n",
    "                               retain_all = True,\n",
    "                               simplify = False)\n",
    "    \n",
    "    parameterid = 'biketrack'\n",
    "    G = nx.compose(G5,nx.compose(G1,nx.compose(G2,nx.compose(G3,G4))))\n",
    "    node,edge = ox.graph_to_gdfs(G)\n",
    "    node.to_csv(datapath+placeid+'_'+parameterid+'_nodes.csv',index=False)\n",
    "    edge.to_csv(datapath+placeid+'_'+parameterid+'_edges.csv',index=False)\n",
    "    \n",
    "    parameterid = 'bikeable'\n",
    "    G = nx.compose(Gcar30,G)\n",
    "    node,edge = ox.graph_to_gdfs(G)\n",
    "    node.to_csv(datapath+placeid+'_'+parameterid+'_nodes.csv',index=False)\n",
    "    edge.to_csv(datapath+placeid+'_'+parameterid+'_edges.csv',index=False)"
   ]
  },
  {
   "cell_type": "markdown",
   "metadata": {},
   "source": [
    "## Plot"
   ]
  },
  {
   "cell_type": "code",
   "execution_count": null,
   "metadata": {},
   "outputs": [],
   "source": [
    "# ox.folium.plot_graph_folium(G, graph_map=None, \n",
    "#                                               popup_attribute=None, \n",
    "#                                               tiles=maptiles[0], \n",
    "#                                               zoom=19, \n",
    "#                                               fit_bounds=True, \n",
    "#                                               edge_color=edge_colors[0], \n",
    "#                                               edge_width=2, \n",
    "#                                               edge_opacity=.64)"
   ]
  }
 ],
 "metadata": {
  "kernelspec": {
   "display_name": "OSMNX",
   "language": "python",
   "name": "osmnx"
  },
  "language_info": {
   "codemirror_mode": {
    "name": "ipython",
    "version": 3
   },
   "file_extension": ".py",
   "mimetype": "text/x-python",
   "name": "python",
   "nbconvert_exporter": "python",
   "pygments_lexer": "ipython3",
   "version": "3.8.2"
  }
 },
 "nbformat": 4,
 "nbformat_minor": 2
}
