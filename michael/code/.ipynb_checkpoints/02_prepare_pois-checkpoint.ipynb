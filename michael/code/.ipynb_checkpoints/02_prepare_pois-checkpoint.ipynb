{
 "cells": [
  {
   "cell_type": "markdown",
   "metadata": {},
   "source": [
    "# Prepare points of interest (POI) data for bicycle networks analysis\n",
    "## Project: Bicycle network analysis with Gourab, Sayat, Tyler, Michael, Roberta"
   ]
  },
  {
   "cell_type": "markdown",
   "metadata": {},
   "source": [
    "This notebook downloads and prepares points of interest data to be used for bicycle network design, snapping them to the networks created in 01_prepare_networks:\n",
    "* railway stations/halts and bus stops\n",
    "* high population density points\n",
    "* grid points\n",
    "\n",
    "Contact: Michael Szell (michael.szell@gmail.com)  \n",
    "Created: 2020-07-07  \n",
    "Last modified: 2020-07-07"
   ]
  },
  {
   "cell_type": "markdown",
   "metadata": {},
   "source": [
    "## Preliminaries"
   ]
  },
  {
   "cell_type": "markdown",
   "metadata": {},
   "source": [
    "### Imports and magics"
   ]
  },
  {
   "cell_type": "code",
   "execution_count": 1,
   "metadata": {},
   "outputs": [],
   "source": [
    "import osmnx as ox\n",
    "import networkx as nx\n",
    "import watermark\n",
    "\n",
    "import fiona\n",
    "import shapely\n",
    "\n",
    "%load_ext watermark"
   ]
  },
  {
   "cell_type": "code",
   "execution_count": 2,
   "metadata": {
    "scrolled": true
   },
   "outputs": [
    {
     "name": "stdout",
     "output_type": "stream",
     "text": [
      "watermark 2.0.2\n",
      "fiona     1.8.13\n",
      "shapely   1.7.0\n",
      "networkx  2.4\n",
      "osmnx     0.13.0\n",
      "Mon Jul 06 2020 \n",
      "\n",
      "CPython 3.8.2\n",
      "IPython 7.14.0\n",
      "\n",
      "compiler   : Clang 9.0.1 \n",
      "system     : Darwin\n",
      "release    : 19.5.0\n",
      "machine    : x86_64\n",
      "processor  : i386\n",
      "CPU cores  : 12\n",
      "interpreter: 64bit\n",
      "Git hash   :\n"
     ]
    }
   ],
   "source": [
    "%watermark -n -v -m -g -iv"
   ]
  },
  {
   "cell_type": "markdown",
   "metadata": {},
   "source": [
    "### Parameters"
   ]
  },
  {
   "cell_type": "code",
   "execution_count": 3,
   "metadata": {},
   "outputs": [],
   "source": [
    "datapath = \"../data/\"\n",
    "\n",
    "# dict of placeid:nominatimstring\n",
    "# If a city has a proper shapefile through nominatim\n",
    "# In case no (False), manual download of shapefile is necessary, see below\n",
    "cities = {#'london': \"greater london\",\n",
    "          #'bogota': \"bogota, colombia\",\n",
    "          #'manhattan': \"manhattan\",\n",
    "          'budapest':\"Budapest, Hungary\"#,\n",
    "          #'paris':\"Paris, France\",\n",
    "          #'paris_grand': \"Métropole du Grand Paris\",\n",
    "          #'copenhagen': False\n",
    "         } \n",
    "\n",
    "osmnxparameters = {'car30':{'network_type':'drive', 'custom_filter':'[\"maxspeed\"~\"30\"]'},\n",
    "                   'carall':{'network_type':'drive', 'custom_filter':''}\n",
    "                  }  \n",
    "\n",
    "# We get all the railway stations/halts (including metro) and bus stops\n",
    "poiparameters = {\"railwaystation\":{'railway':['station','halt']}#,\n",
    "                 #\"busstop\":{'highway':'bus_stop'}\n",
    "                }"
   ]
  },
  {
   "cell_type": "markdown",
   "metadata": {},
   "source": [
    "To check for nominatimstring:\n",
    "* Go to e.g. https://nominatim.openstreetmap.org/search.php?q=paris%2C+france&polygon_geojson=1&viewbox= and enter the search string. If a correct polygon (or multipolygon) pops up it should be fine.\n",
    "\n",
    "To get shapefiles:\n",
    "* Go to [Overpass](overpass-turbo.eu), to the city, and run:\n",
    "    `relation[\"boundary\"=\"administrative\"][\"name:en\"=\"Copenhagen Municipality\"]({{bbox}});(._;>;);out skel;`\n",
    "* Export: Download as GPX\n",
    "* Use QGIS to create a polygon, with Vector > Join Multiple Lines, and Processing Toolbox > Polygonize (see https://gis.stackexchange.com/questions/98320/connecting-two-line-ends-in-qgis-without-resorting-to-other-software and https://gis.stackexchange.com/questions/207463/convert-a-line-to-polygon)"
   ]
  },
  {
   "cell_type": "markdown",
   "metadata": {},
   "source": [
    "## Download and wrangle data"
   ]
  },
  {
   "cell_type": "markdown",
   "metadata": {},
   "source": [
    "### Railway stations/halts and bus stops"
   ]
  },
  {
   "cell_type": "code",
   "execution_count": null,
   "metadata": {
    "scrolled": false
   },
   "outputs": [],
   "source": [
    "for placeid, nominatimstring in cities.items():\n",
    "    if nominatimstring:\n",
    "        location = ox.gdf_from_place(nominatimstring)\n",
    "        location = shapely.geometry.shape(location['geometry'][0])\n",
    "    else:\n",
    "        # https://gis.stackexchange.com/questions/113799/how-to-read-a-shapefile-in-python\n",
    "        shp = fiona.open(datapath+placeid+\".shp\")\n",
    "        first = shp.next()\n",
    "        location = shapely.geometry.shape(first['geometry'])\n",
    "    \n",
    "    # We need the carall graph\n",
    "    parameterdict = osmnxparameters['carall']\n",
    "    G = ox.graph_from_polygon(location, \n",
    "                               network_type = parameterdict['network_type'],\n",
    "                               custom_filter = (parameterdict['custom_filter']),\n",
    "                               retain_all = True,\n",
    "                               simplify = False)\n",
    "    \n",
    "    for poiid, poitag in poiparameters.items():\n",
    "        gdf = ox.pois.pois_from_polygon(location, tags = poitag)\n",
    "        gdf = gdf[gdf['geometry'].type == \"Point\"] # only consider points, no polygons etc\n",
    "        # Now snap to closest nodes in street network, save the nearest node ids\n",
    "        nnids = ox.distance.get_nearest_nodes(G, gdf['geometry'].x, gdf['geometry'].y)\n",
    "        with open(datapath+placeid+'_'+'poi_'+poiid+'_nnidscarall.csv', 'w') as f:\n",
    "            for item in nnids:\n",
    "                f.write(\"%s\\n\" % item)\n",
    "        \n",
    "        gdf = gdf.apply(lambda c: c.astype(str) if c.name != 'geometry' else c, axis=0)\n",
    "        try: # For some cities writing the gdf does not work (i.e. London, New York)\n",
    "            gdf.to_file(datapath+placeid+'_'+'poi_'+poiid+'.gpkg', driver='GPKG')\n",
    "        except:\n",
    "            pass\n",
    "        gdf.plot(color='red')"
   ]
  },
  {
   "cell_type": "markdown",
   "metadata": {},
   "source": [
    "### Population density"
   ]
  },
  {
   "cell_type": "code",
   "execution_count": null,
   "metadata": {},
   "outputs": [],
   "source": []
  },
  {
   "cell_type": "markdown",
   "metadata": {},
   "source": [
    "### Grid"
   ]
  },
  {
   "cell_type": "code",
   "execution_count": null,
   "metadata": {},
   "outputs": [],
   "source": []
  }
 ],
 "metadata": {
  "kernelspec": {
   "display_name": "OSMNX",
   "language": "python",
   "name": "osmnx"
  },
  "language_info": {
   "codemirror_mode": {
    "name": "ipython",
    "version": 3
   },
   "file_extension": ".py",
   "mimetype": "text/x-python",
   "name": "python",
   "nbconvert_exporter": "python",
   "pygments_lexer": "ipython3",
   "version": "3.8.2"
  }
 },
 "nbformat": 4,
 "nbformat_minor": 2
}
