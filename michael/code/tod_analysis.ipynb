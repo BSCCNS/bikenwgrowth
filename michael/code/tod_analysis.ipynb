{
 "cells": [
  {
   "cell_type": "markdown",
   "metadata": {},
   "source": [
    "# Transit-oriented bicycle network development analysis\n",
    "## Project: Bicycle network analysis with Gourab, Sayat, Tyler, Michael, Roberta"
   ]
  },
  {
   "cell_type": "markdown",
   "metadata": {},
   "source": [
    "This notebook follows the transit-oriented development approach of palominos2020ica and applies cardillo2006spp: Take the greedy triangulation between railway/underground stations. These will be one foundation for the bike network development.\n",
    "\n",
    "Contact: Michael Szell (michael.szell@gmail.com)  \n",
    "Created: 2020-06-18  \n",
    "Last modified: 2020-07-02"
   ]
  },
  {
   "cell_type": "markdown",
   "metadata": {},
   "source": [
    "## Preliminaries"
   ]
  },
  {
   "cell_type": "markdown",
   "metadata": {},
   "source": [
    "### Imports and magics"
   ]
  },
  {
   "cell_type": "code",
   "execution_count": null,
   "metadata": {
    "scrolled": false
   },
   "outputs": [],
   "source": [
    "import networkx as nx\n",
    "import igraph as ig\n",
    "import osmnx as ox\n",
    "import numpy as np\n",
    "import itertools\n",
    "from matplotlib import cm\n",
    "from haversine import haversine\n",
    "import pandas as pd\n",
    "from shapely.geometry import Point,MultiPoint,LineString,Polygon\n",
    "import pandas as pd\n",
    "import geopandas as gpd\n",
    "import csv\n",
    "import copy\n",
    "import math\n",
    "\n",
    "%matplotlib inline\n",
    "import matplotlib.pyplot as plt\n",
    "\n",
    "import watermark\n",
    "%load_ext watermark"
   ]
  },
  {
   "cell_type": "code",
   "execution_count": null,
   "metadata": {
    "scrolled": false
   },
   "outputs": [],
   "source": [
    "%watermark -n -v -m -g -iv"
   ]
  },
  {
   "cell_type": "markdown",
   "metadata": {},
   "source": [
    "## Parameters"
   ]
  },
  {
   "cell_type": "code",
   "execution_count": null,
   "metadata": {
    "scrolled": false
   },
   "outputs": [],
   "source": [
    "placeid = \"budapest\"\n",
    "BWq = 0.5 # Betweenness quantile\n",
    "\n",
    "datapath = \"../data/\"\n",
    "outpath = \"../output/\"\n",
    "\n",
    "# Graph plotting\n",
    "ymirrored = False"
   ]
  },
  {
   "cell_type": "markdown",
   "metadata": {},
   "source": [
    "### Functions"
   ]
  },
  {
   "cell_type": "code",
   "execution_count": null,
   "metadata": {
    "scrolled": false
   },
   "outputs": [],
   "source": [
    "# Graph plotting preparation functions\n",
    "def my_plot_reset(G, nids = False):\n",
    "    reset_plot_attributes(G)\n",
    "    color_nodes(G, \"red\", nids)\n",
    "    size_nodes(G, 8, nids)\n",
    "\n",
    "def reset_plot_attributes(G):\n",
    "    \"\"\"Resets node attributes for plotting.\n",
    "    All black and size 0.\n",
    "    \"\"\"\n",
    "    G.vs[\"color\"] = \"black\"\n",
    "    G.vs[\"size\"] = 0\n",
    "        \n",
    "def color_nodes(G, color = \"blue\", nids = False, use_id = True):\n",
    "    \"\"\"Sets the color attribute of a set of nodes nids.\n",
    "    \"\"\"\n",
    "    if nids is False:\n",
    "        nids = [v.index for v in G.vs]\n",
    "        use_id = False\n",
    "    if use_id:\n",
    "        for nid in set(nids):\n",
    "            G.vs.find(id = nid)[\"color\"] = color\n",
    "    else:\n",
    "        G.vs[nids][\"color\"] = color\n",
    "\n",
    "def size_nodes(G, size = 5, nids = False, use_id = True):\n",
    "    \"\"\"Sets the size attribute of a set of nodes nids.\n",
    "    \"\"\"\n",
    "    if nids is False:\n",
    "        nids = [v.index for v in G.vs]\n",
    "        use_id = False\n",
    "    if use_id:\n",
    "        for nid in set(nids):\n",
    "            G.vs.find(id = nid)[\"size\"] = size\n",
    "    else:\n",
    "        G.vs[nids][\"size\"] = size\n",
    "\n",
    "def color_edges(G, color = \"blue\", eids = False):\n",
    "    \"\"\"Sets the color attribute of a set of edge nids.\n",
    "    \"\"\"\n",
    "    if eids is False:\n",
    "        G.es[\"color\"] = color\n",
    "    else:\n",
    "        G.es[eids][\"color\"] = color\n",
    "        \n",
    "def width_edges(G, width = 1, eids = False):\n",
    "    \"\"\"Sets the width attribute of a set of edge nids.\n",
    "    \"\"\"\n",
    "    if eids is False:\n",
    "        G.es[\"width\"] = width\n",
    "    else:\n",
    "        G.es[eids][\"width\"] = width\n",
    "        \n",
    "# Other functions\n",
    "def round_coordinates(G, r = 7):\n",
    "    for v in G.vs:\n",
    "        G.vs[v.index][\"x\"] = round(G.vs[v.index][\"x\"], r)\n",
    "        G.vs[v.index][\"y\"] = round(G.vs[v.index][\"y\"], r)\n",
    "\n",
    "def mirror_y(G):\n",
    "    for v in G.vs:\n",
    "        y = G.vs[v.index][\"y\"]\n",
    "        G.vs[v.index][\"y\"] = -y\n",
    "\n",
    "def dist(v1,v2):\n",
    "    dist = haversine((v1['x'],v1['y']),(v2['x'],v2['y']))\n",
    "    return dist\n",
    "\n",
    "\n",
    "def graph_from_plc(graph):\n",
    "    \"\"\"This function takes a open street map object \n",
    "    and returns an igraph network with edges weighted \n",
    "    with distance between nodes\n",
    "    \"\"\"\n",
    "    nodes, edges = ox.graph_to_gdfs(graph)\n",
    "    g = ig.Graph(directed=False)\n",
    "    x = nodes['x'].tolist()\n",
    "    y= nodes['y'].tolist()\n",
    "    ids = nodes['osmid'].tolist()\n",
    "    for i in range(len(x)):\n",
    "        g.add_vertex(x=x[i],y=y[i],id=ids[i])\n",
    "    df1 = pd.DataFrame(data=g.vs['id'],columns={'id'})\n",
    "    df1['number'] = np.arange(0,len(list(g.vs())))\n",
    "    edges1 = pd.merge(df1,edges,left_on='id',right_on='u')\n",
    "    edges2 = pd.merge(df1,edges1,left_on='id',right_on='v')\n",
    "    edgelist = (np.stack([edges2['number_x'].tolist(),edges2['number_y'].tolist()]).T).tolist()\n",
    "    g.add_edges(edgelist)\n",
    "    g.simplify()\n",
    "    edge_list = g.get_edgelist()\n",
    "    weights=[]\n",
    "    for k in range(len(edge_list)):\n",
    "        d = dist(g.vs()[edge_list[k][0]],g.vs()[edge_list[k][1]])\n",
    "        weights.append(d)\n",
    "    g.es()['weight'] = weights\n",
    "    \n",
    "    #bc = g.betweenness(weights='weight')\n",
    "    return g\n",
    "\n",
    "\n",
    "## Tyler's code from here\n",
    "\n",
    "def osm_to_ig(node_imported,edge_imported):\n",
    "    #node,edge = ox.graph_to_gdfs(G)\n",
    "    node,edge = node_imported,edge_imported\n",
    "    g = ig.Graph(directed=False)\n",
    "\n",
    "    x_coords = node['x'].tolist() \n",
    "    y_coords = node['y'].tolist()\n",
    "    ids = node['osmid'].tolist()\n",
    "    coords=[]\n",
    "\n",
    "    for i in range(len(x_coords)):\n",
    "        g.add_vertex(x=x_coords[i],y=y_coords[i],id=ids[i])\n",
    "        coords.append((x_coords[i],y_coords[i]))\n",
    "\n",
    "    id_dict = dict(zip(g.vs['id'],np.arange(0,g.vcount()).tolist()))\n",
    "    coords_dict = dict(zip(np.arange(0,g.vcount()).tolist(),coords))\n",
    "\n",
    "\n",
    "    edge_list = []\n",
    "    for i in range(len(edge)):\n",
    "        edge_list.append([id_dict.get(edge['u'][i]),id_dict.get(edge['v'][i])])\n",
    "        \n",
    "    g.add_edges(edge_list)\n",
    "    g.simplify()\n",
    "    new_edges=g.get_edgelist()\n",
    "    \n",
    "    distances_list = []\n",
    "    for i in range(len(new_edges)):\n",
    "        distances_list.append(haversine(coords_dict.get(new_edges[i][0]),coords_dict.get(new_edges[i][1])))\n",
    "\n",
    "    g.es()['weight']=distances_list\n",
    "    return g   "
   ]
  },
  {
   "cell_type": "markdown",
   "metadata": {},
   "source": [
    "## Exploratory Data Analysis"
   ]
  },
  {
   "cell_type": "markdown",
   "metadata": {},
   "source": [
    "### Load networks and POIs"
   ]
  },
  {
   "cell_type": "code",
   "execution_count": null,
   "metadata": {
    "scrolled": false
   },
   "outputs": [],
   "source": [
    "node_bikeable = pd.read_csv(datapath+placeid+'_bikeable_nodes.csv')\n",
    "edge_bikeable = pd.read_csv(datapath+placeid+'_bikeable_edges.csv')\n",
    "G_bikeable = osm_to_ig(node_bikeable, edge_bikeable)\n",
    "\n",
    "node_carall = pd.read_csv(datapath+placeid+'_carall_nodes.csv')\n",
    "edge_carall = pd.read_csv(datapath+placeid+'_carall_edges.csv')\n",
    "G_carall = osm_to_ig(node_carall, edge_carall)\n",
    "\n",
    "with open(datapath+placeid+'_poi_railwaystation_nnidscarall.csv') as f:\n",
    "    nnids = [int(line.rstrip()) for line in f]\n",
    "\n",
    "round_coordinates(G_bikeable)\n",
    "round_coordinates(G_carall)\n",
    "\n",
    "# This loop is only for plotting, executed once, to mirror all y values\n",
    "if not ymirrored:\n",
    "    mirror_y(G_carall)\n",
    "    ymirrored = True"
   ]
  },
  {
   "cell_type": "markdown",
   "metadata": {},
   "source": [
    "## Plot the starting point"
   ]
  },
  {
   "cell_type": "code",
   "execution_count": null,
   "metadata": {
    "scrolled": false
   },
   "outputs": [],
   "source": [
    "my_plot_reset(G_carall, nnids)\n",
    "\n",
    "#ig.plot(G_carall, outpath + placeid + '_carall_poirailway.pdf')\n",
    "#ig.plot(G_carall, outpath + placeid + '_carall_poirailway.png', bbox=(800,800))\n",
    "#ig.plot(G_carall)"
   ]
  },
  {
   "cell_type": "markdown",
   "metadata": {},
   "source": [
    "## Routing (shortest paths)"
   ]
  },
  {
   "cell_type": "code",
   "execution_count": null,
   "metadata": {
    "scrolled": false
   },
   "outputs": [],
   "source": [
    "def greedy_triangulation(GT, poipairs, betweenness_quantile = 1):\n",
    "    \"\"\"Greedy Triangulation (GT) of a graph GT with an empty edge set.\n",
    "    Distances between pairs of nodes are given by poipairs.\n",
    "    \n",
    "    The GT connects pairs of nodes in ascending order of their distance provided\n",
    "    that no edge crossing is introduced. It leads to a maximal connected planar\n",
    "    graph, while minimizing the total length of edges considered. \n",
    "    See: cardillo2006spp\n",
    "    \"\"\"\n",
    "    \n",
    "    for poipair, poipair_distance in poipairs:\n",
    "        poipair_ind = (GT.vs.find(id = poipair[0]).index, GT.vs.find(id = poipair[1]).index)\n",
    "        if not new_edge_intersects(GT, (GT.vs[poipair_ind[0]][\"x\"], GT.vs[poipair_ind[0]][\"y\"], GT.vs[poipair_ind[1]][\"x\"], GT.vs[poipair_ind[1]][\"y\"])):\n",
    "            GT.add_edge(poipair_ind[0], poipair_ind[1], weight = poipair_distance)\n",
    "            \n",
    "    # Get betweenness for prioritization\n",
    "    BW = GT.edge_betweenness(False, None, \"weight\")\n",
    "    qt = np.quantile(BW, 1-betweenness_quantile)\n",
    "    sub_edges = []\n",
    "    for c, e in enumerate(GT.es):\n",
    "        if BW[c] >= qt: \n",
    "            sub_edges.append(c)\n",
    "        GT.es[c][\"bw\"] = BW[c]\n",
    "        GT.es[c][\"width\"] = math.sqrt(BW[c]+1)*0.5\n",
    "    # Prune\n",
    "    GT = GT.subgraph_edges(sub_edges)\n",
    "    \n",
    "    return GT\n",
    "    \n",
    "\n",
    "def greedy_triangulation_routing(G, pois, betweenness_quantile = 1):\n",
    "    \"\"\"Greedy Triangulation (GT) of a graph G's node subset pois,\n",
    "    then routing to connect the GT (up to a quantile of betweenness\n",
    "    betweenness_quantile).\n",
    "    G is an ipgraph graph, pois is a list of node ids.\n",
    "    \n",
    "    The GT connects pairs of nodes in ascending order of their distance provided\n",
    "    that no edge crossing is introduced. It leads to a maximal connected planar\n",
    "    graph, while minimizing the total length of edges considered. \n",
    "    See: cardillo2006spp\n",
    "    \n",
    "    Distance here is routing distance, while edge crossing is checked on an abstract \n",
    "    level.\n",
    "    \"\"\"\n",
    "    \n",
    "    # GT is the Graph with the routing of the greedy triangulation\n",
    "    GT_indices = set()\n",
    "    # GT_abstract is the graph with same nodes but euclidian links to keep track of edge crossings\n",
    "    pois_indices = set()\n",
    "    for poi in pois:\n",
    "        pois_indices.add(G.vs.find(id = poi).index)\n",
    "    G_temp = copy.deepcopy(G)\n",
    "    for e in G_temp.es: # delete all edges\n",
    "        G_temp.es.delete(e)\n",
    "    GT_abstract = G_temp.subgraph(pois_indices)\n",
    "    \n",
    "    poipairs = poipairs_by_distance(G, pois, True)\n",
    "    GT_abstract = greedy_triangulation(GT_abstract, poipairs, betweenness_quantile)\n",
    "    \n",
    "    # Get node pairs we need to route, sorted by distance\n",
    "    routenodepairs = {}\n",
    "    for e in GT_abstract.es:\n",
    "        routenodepairs[(e.source_vertex[\"id\"], e.target_vertex[\"id\"])] = e[\"weight\"]\n",
    "    routenodepairs = sorted(routenodepairs.items(), key = lambda x: x[1])\n",
    "    \n",
    "    # Do the routing\n",
    "    for poipair, poipair_distance in routenodepairs:\n",
    "        poipair_ind = (G.vs.find(id = poipair[0]).index, G.vs.find(id = poipair[1]).index)\n",
    "        sp = set(G.get_shortest_paths(poipair_ind[0], poipair_ind[1], weights = \"weight\", output = \"vpath\")[0])\n",
    "        GT_indices = GT_indices.union(sp)\n",
    "\n",
    "    GT = G.induced_subgraph(GT_indices)\n",
    "    \n",
    "    return (GT, GT_abstract)\n",
    "    \n",
    "    \n",
    "def poipairs_by_distance(G, pois, return_distances = False):\n",
    "    \"\"\"Calculates the (weighted) graph distances on G for a subset of nodes pois.\n",
    "    Returns all pairs of poi ids in ascending order of their distance. \n",
    "    If return_distances, then distances are also returned.\n",
    "    \"\"\"\n",
    "    \n",
    "    # Get poi indices\n",
    "    indices = []\n",
    "    for poi in pois:\n",
    "        indices.append(G_carall.vs.find(id = poi).index)\n",
    "    \n",
    "    # Get sequences of nodes and edges in shortest paths between all pairs of pois\n",
    "    poi_nodes = []\n",
    "    poi_edges = []\n",
    "    for c, v in enumerate(indices):\n",
    "        poi_nodes.append(G.get_shortest_paths(v, indices[c:], weights = \"weight\", output = \"vpath\"))\n",
    "        poi_edges.append(G.get_shortest_paths(v, indices[c:], weights = \"weight\", output = \"epath\"))\n",
    "\n",
    "    # Sum up weights (distances) of all paths\n",
    "    poi_dist = {}\n",
    "    for paths_n, paths_e in zip(poi_nodes, poi_edges):\n",
    "        for path_n, path_e in zip(paths_n, paths_e):\n",
    "            # Sum up distances of path segments from first to last node\n",
    "            path_dist = sum([G.es[e]['weight'] for e in path_e])\n",
    "            if path_dist > 0:\n",
    "                poi_dist[(path_n[0],path_n[-1])] = path_dist\n",
    "            \n",
    "    temp = sorted(poi_dist.items(), key = lambda x: x[1])\n",
    "    # Back to ids\n",
    "    output = []\n",
    "    for p in temp:\n",
    "        output.append([(G.vs[p[0][0]][\"id\"], G.vs[p[0][1]][\"id\"]), p[1]])\n",
    "    \n",
    "    if return_distances:\n",
    "        return output\n",
    "    else:\n",
    "        return [o[0] for o in output]\n",
    "\n",
    "\n",
    "class Point:\n",
    "    def __init__(self,x,y):\n",
    "        self.x = x\n",
    "        self.y = y\n",
    "        \n",
    "def ccw(A,B,C):\n",
    "    return (C.y-A.y) * (B.x-A.x) > (B.y-A.y) * (C.x-A.x)\n",
    "\n",
    "def segments_intersect(A,B,C,D):\n",
    "    \"\"\"Check if two line segments intersect (except for colinearity)\n",
    "    Returns true if line segments AB and CD intersect properly.\n",
    "    Adapted from: https://stackoverflow.com/questions/3838329/how-can-i-check-if-two-segments-intersect\n",
    "    \"\"\"\n",
    "    if (A.x == C.x and A.y == C.y) or (A.x == D.x and A.y == D.y) or (B.x == C.x and B.y == C.y) or (B.x == D.x and B.y == D.y): return False # If the segments share an endpoint they do not intersect properly\n",
    "    return ccw(A,C,D) != ccw(B,C,D) and ccw(A,B,C) != ccw(A,B,D)\n",
    "\n",
    "def new_edge_intersects(G, enew):\n",
    "    \"\"\"Given a graph G and a potential new edge enew,\n",
    "    check if enew will intersect any old edge.\n",
    "    \"\"\"\n",
    "    E1 = Point(enew[0], enew[1])\n",
    "    E2 = Point(enew[2], enew[3])\n",
    "    for e in G.es():\n",
    "        O1 = Point(e.source_vertex[\"x\"], e.source_vertex[\"y\"])\n",
    "        O2 = Point(e.target_vertex[\"x\"], e.target_vertex[\"y\"])\n",
    "        if segments_intersect(E1, E2, O1, O2):\n",
    "            return True\n",
    "    return False\n",
    "    "
   ]
  },
  {
   "cell_type": "code",
   "execution_count": null,
   "metadata": {},
   "outputs": [],
   "source": [
    "(GT, GT_abstract) = greedy_triangulation_routing(G_carall, nnids, BWq)"
   ]
  },
  {
   "cell_type": "markdown",
   "metadata": {},
   "source": [
    "## Plot results"
   ]
  },
  {
   "cell_type": "markdown",
   "metadata": {},
   "source": [
    "### Plot the abstract Greedy Triangulation"
   ]
  },
  {
   "cell_type": "code",
   "execution_count": null,
   "metadata": {
    "scrolled": false
   },
   "outputs": [],
   "source": [
    "color_nodes(GT_abstract, \"red\", False, False)\n",
    "size_nodes(GT_abstract, 4, False, False)\n",
    "\n",
    "ig.plot(GT_abstract, outpath + placeid + '_GTabstract_' + \"BWq{:.2f}\".format(BWq) + '.pdf')\n",
    "ig.plot(GT_abstract, outpath + placeid + '_GTabstract_' + \"BWq{:.2f}\".format(BWq) + '.png', bbox=(800,800))\n",
    "ig.plot(GT_abstract)"
   ]
  },
  {
   "cell_type": "markdown",
   "metadata": {},
   "source": [
    "### Plot just the bicycle network"
   ]
  },
  {
   "cell_type": "code",
   "execution_count": null,
   "metadata": {
    "scrolled": false
   },
   "outputs": [],
   "source": [
    "size_nodes(GT, 0)\n",
    "width_edges(GT, 2)\n",
    "color_edges(GT, \"blue\")\n",
    "\n",
    "ig.plot(GT, outpath + placeid + '_GTbonly_' + \"BWq{:.2f}\".format(BWq) + '.pdf')\n",
    "ig.plot(GT, outpath + placeid + '_GTbonly_' + \"BWq{:.2f}\".format(BWq) + '.png', bbox=(800,800))\n",
    "ig.plot(GT)"
   ]
  },
  {
   "cell_type": "markdown",
   "metadata": {},
   "source": [
    "### Plot all together"
   ]
  },
  {
   "cell_type": "code",
   "execution_count": null,
   "metadata": {},
   "outputs": [],
   "source": [
    "my_plot_reset(G_carall, nnids)\n",
    "GT_ids = [v[\"id\"] for v in GT.vs]  \n",
    "color_nodes(G_carall, \"blue\", GT_ids)\n",
    "size_nodes(G_carall, 5, GT_ids)\n",
    "color_nodes(G_carall, \"red\", nnids)\n",
    "size_nodes(G_carall, 8, nnids)\n",
    "\n",
    "ig.plot(G_carall, outpath + placeid + '_GTall_' + \"BWq{:.2f}\".format(BWq) + '.pdf')\n",
    "ig.plot(G_carall, outpath + placeid + '_GTall_' + \"BWq{:.2f}\".format(BWq) + '.png', bbox=(800,800))\n",
    "ig.plot(G_carall)"
   ]
  }
 ],
 "metadata": {
  "kernelspec": {
   "display_name": "OSMNX",
   "language": "python",
   "name": "osmnx"
  },
  "language_info": {
   "codemirror_mode": {
    "name": "ipython",
    "version": 3
   },
   "file_extension": ".py",
   "mimetype": "text/x-python",
   "name": "python",
   "nbconvert_exporter": "python",
   "pygments_lexer": "ipython3",
   "version": "3.8.2"
  }
 },
 "nbformat": 4,
 "nbformat_minor": 2
}
