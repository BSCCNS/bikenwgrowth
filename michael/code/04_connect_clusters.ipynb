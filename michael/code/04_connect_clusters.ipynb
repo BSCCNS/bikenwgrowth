{
 "cells": [
  {
   "cell_type": "markdown",
   "metadata": {},
   "source": [
    "# Connecting existing clusters of a bicycle network\n",
    "## Project: Bicycle network analysis with Gourab, Sayat, Tyler, Michael, Roberta"
   ]
  },
  {
   "cell_type": "markdown",
   "metadata": {},
   "source": [
    "This notebook takes a city's existing bicycle network, as prepared in 01_prepare_networks, then connects the biggest clusters following greedy triangulation. Code adapted from Tyler.\n",
    "\n",
    "Contact: Michael Szell (michael.szell@gmail.com)  \n",
    "Created: 2020-06-29  \n",
    "Last modified: 2020-07-16"
   ]
  },
  {
   "cell_type": "markdown",
   "metadata": {},
   "source": [
    "## Preliminaries"
   ]
  },
  {
   "cell_type": "markdown",
   "metadata": {},
   "source": [
    "### Parameters"
   ]
  },
  {
   "cell_type": "code",
   "execution_count": 14,
   "metadata": {},
   "outputs": [],
   "source": [
    "debug = False # If True, will produce plots and/or verbose output to double-check\n",
    "\n",
    "prune_measure = \"betweenness\"\n",
    "\n",
    "# cutofftype \"abs\" or \"rel\"\n",
    "# Case rel: cutoff (0-1) is fraction threshold of total length\n",
    "# Case abs: cutoff (in meters) is minimal length of cluster to be considered\n",
    "cutofftype = \"rel\" \n",
    "cutoff = 0.5"
   ]
  },
  {
   "cell_type": "markdown",
   "metadata": {},
   "source": [
    "### Setup"
   ]
  },
  {
   "cell_type": "code",
   "execution_count": 15,
   "metadata": {},
   "outputs": [
    {
     "name": "stdout",
     "output_type": "stream",
     "text": [
      "Loaded PATH\n",
      "\n",
      "\n",
      "=== Cities ===\n",
      "{'budapest': {'countryid': 'hun', 'nominatimstring': 'Budapest, Hungary'}}\n",
      "==============\n",
      "\n",
      "\n",
      "Setup finished\n",
      "\n",
      "The watermark extension is already loaded. To reload it, use:\n",
      "  %reload_ext watermark\n",
      "pandas    1.0.3\n",
      "geopandas 0.7.0\n",
      "fiona     1.8.13\n",
      "osmnx     0.13.0\n",
      "shapely   1.7.0\n",
      "networkx  2.4\n",
      "pyproj    2.6.1.post1\n",
      "watermark 2.0.2\n",
      "csv       1.0\n",
      "igraph    0.8.2\n",
      "numpy     1.18.4\n",
      "Wed Jul 15 2020 \n",
      "\n",
      "CPython 3.8.2\n",
      "IPython 7.14.0\n",
      "\n",
      "compiler   : Clang 9.0.1 \n",
      "system     : Darwin\n",
      "release    : 19.5.0\n",
      "machine    : x86_64\n",
      "processor  : i386\n",
      "CPU cores  : 12\n",
      "interpreter: 64bit\n",
      "Git hash   :\n"
     ]
    }
   ],
   "source": [
    "%run -i path.py\n",
    "%run -i setup.py\n",
    "\n",
    "%matplotlib inline\n",
    "%load_ext watermark\n",
    "%watermark -n -v -m -g -iv"
   ]
  },
  {
   "cell_type": "markdown",
   "metadata": {},
   "source": [
    "### Functions"
   ]
  },
  {
   "cell_type": "code",
   "execution_count": 18,
   "metadata": {},
   "outputs": [
    {
     "name": "stdout",
     "output_type": "stream",
     "text": [
      "Loaded functions\n"
     ]
    }
   ],
   "source": [
    "%run -i functions.py"
   ]
  },
  {
   "cell_type": "markdown",
   "metadata": {},
   "source": [
    "## Cluster Analysis"
   ]
  },
  {
   "cell_type": "code",
   "execution_count": 17,
   "metadata": {},
   "outputs": [
    {
     "name": "stdout",
     "output_type": "stream",
     "text": [
      "budapest: Generating cluster connections\n"
     ]
    },
    {
     "name": "stderr",
     "output_type": "stream",
     "text": [
      "/Users/misz/.local/lib/python3.8/site-packages/IPython/core/interactiveshell.py:3254: DtypeWarning: Columns (16,18) have mixed types.Specify dtype option on import or set low_memory=False.\n",
      "  if (await self.run_code(code, result,  async_=asy)):\n",
      "/Users/misz/.local/lib/python3.8/site-packages/IPython/core/interactiveshell.py:3254: DtypeWarning: Columns (14,18) have mixed types.Specify dtype option on import or set low_memory=False.\n",
      "  if (await self.run_code(code, result,  async_=asy)):\n"
     ]
    },
    {
     "name": "stdout",
     "output_type": "stream",
     "text": [
      "12 largest clusters of 192 considered. Length covered: 136.42 km (51% of total length)\n",
      "Working on cluster 1 of 12...\n"
     ]
    },
    {
     "name": "stderr",
     "output_type": "stream",
     "text": [
      "/Users/misz/Github/bikenetworks/michael/code/functions.py:330: RuntimeWarning: Couldn't reach some vertices at /Users/runner/miniforge3/conda-bld/python-igraph_1588168241529/work/vendor/source/igraph/src/structural_properties.c:4726\n",
      "  sp = G_total.get_shortest_paths(a, c2_indices, weights = \"weight\", output = \"epath\")\n"
     ]
    },
    {
     "name": "stdout",
     "output_type": "stream",
     "text": [
      "Working on cluster 2 of 12...\n",
      "Working on cluster 3 of 12...\n",
      "Working on cluster 4 of 12...\n",
      "Working on cluster 5 of 12...\n",
      "Working on cluster 6 of 12...\n",
      "Working on cluster 7 of 12...\n",
      "Working on cluster 8 of 12...\n",
      "Working on cluster 9 of 12...\n",
      "Working on cluster 10 of 12...\n",
      "Working on cluster 11 of 12...\n"
     ]
    }
   ],
   "source": [
    "for placeid, placeinfo in cities.items():\n",
    "    print(placeid + \": Generating cluster connections\")\n",
    "    placepath = PATH[\"data\"] + placeid + \"/\"\n",
    "\n",
    "    # Load networks\n",
    "    G_biketrack = csv_to_ig(placepath, placeid, 'biketrack')\n",
    "    G_carall = csv_to_ig(placepath, placeid, 'carall')\n",
    "    G_biketrackcarall = csv_to_ig(placepath, placeid, 'biketrackcarall')\n",
    "    G = copy.deepcopy(G_biketrack) # G is the bike graph we are working with\n",
    "    \n",
    "    # Prepare clusterinfo\n",
    "    clusters = []\n",
    "    clusterinfo = {}\n",
    "    i = 0\n",
    "    total_length = sum(G.es[\"weight\"])\n",
    "    for j in range(len(list(G.components()))):\n",
    "        if len(list(G.components())[j]) > 1:\n",
    "            clusterinfo[i] = {\"size\": G.subgraph(list(G.components())[j]).vcount(), \n",
    "                              \"centroid_id\": highest_closeness_node(G.subgraph(list(G.components())[j]))[0],\n",
    "                              \"length\": sum(G.subgraph(list(G.components())[j]).es[\"weight\"])\n",
    "                              }\n",
    "            clusterinfo[i][\"centroid_index\"] = G.vs.find(id = clusterinfo[i]['centroid_id']).index\n",
    "            i += 1\n",
    "\n",
    "    cluster_indices = clusterindices_by_length(clusterinfo)\n",
    "\n",
    "    clusterinfo_temp = {}\n",
    "    length_covered = 0\n",
    "    \n",
    "    numclusters = 0\n",
    "    for c in cluster_indices:\n",
    "        if cutofftype == \"abs\" and clusterinfo[c][\"length\"] < cutoff:\n",
    "            break\n",
    "        clusters.append(G.subgraph(list(G.components())[c]))\n",
    "        clusterinfo_temp[numclusters] = clusterinfo[c]\n",
    "        length_covered += clusterinfo[c][\"length\"]\n",
    "        numclusters += 1\n",
    "        if cutofftype == \"rel\" and length_covered >= cutoff*total_length:\n",
    "            break\n",
    "\n",
    "    print('{:d}'.format(numclusters) + \" largest clusters of \" + '{:d}'.format(len(list(G.components()))) + \" considered. Length covered: \" + '{:.2f}'.format(length_covered) + \" km (\" + '{:.0f}'.format(100*length_covered/total_length) + \"% of total length)\")\n",
    "\n",
    "    if numclusters > 1: # Only run this if we have at least 2 clusters to connect\n",
    "        clusterinfo = copy.deepcopy(clusterinfo_temp)\n",
    "        cluster_indices = clusterindices_by_length(clusterinfo)\n",
    "    \n",
    "        # Generation\n",
    "        GTs, GT_abstracts = greedy_triangulation_routing_clusters(G, G_biketrackcarall, clusters, clusterinfo, prune_quantiles, prune_measure)\n",
    "\n",
    "        for GT in GTs:\n",
    "            delete_overlaps(GT, G_biketrack)\n",
    "    \n",
    "        # Write results\n",
    "        results = {\"placeid\": placeid, \"prune_measure\": prune_measure, \"prune_quantiles\": prune_quantiles, \"GTs\": GTs, \"GT_abstracts\": GT_abstracts, \"clusters\": clusters, \"clusterinfo\": clusterinfo, \"cutoff\": cutoff, \"cutofftype\": cutofftype}\n",
    "\n",
    "        filename = placeid + '_clusters_' + prune_measure + \"_cutoff\" + cutofftype + \"{:.2f}\".format(cutoff) + \".pickle\"\n",
    "        resultfile = open(PATH[\"results\"] + filename, 'wb')\n",
    "        pickle.dump(results, resultfile)\n",
    "        resultfile.close()\n",
    "    else:\n",
    "        print(\"Stopped execution due to insufficient number of clusters.\")"
   ]
  },
  {
   "cell_type": "code",
   "execution_count": null,
   "metadata": {
    "scrolled": false
   },
   "outputs": [],
   "source": [
    "if debug:\n",
    "    pp.pprint(clusterinfo)\n",
    "\n",
    "    plt.figure(figsize=[2*6.4, 2*4.8])\n",
    "    for i in range(len(clusters)):\n",
    "        plt.plot(clusters[i].vs['x'],clusters[i].vs['y'],'.')\n",
    "    plt.gca().invert_yaxis()\n",
    "    %config InlineBackend.figure_format = 'retina'"
   ]
  },
  {
   "cell_type": "code",
   "execution_count": null,
   "metadata": {
    "scrolled": false
   },
   "outputs": [],
   "source": [
    "# # For testing\n",
    "# # Get the pairs of distances between all clusters, where distance is routing distance of the closest nodes\n",
    "# clusterpairs = clusterpairs_by_distance(G, G_biketrackcarall, clusters, clusterinfo, True, False, False)\n",
    "# clusterpairs"
   ]
  },
  {
   "cell_type": "code",
   "execution_count": null,
   "metadata": {},
   "outputs": [],
   "source": [
    "# # For testing\n",
    "# temp_list = set()\n",
    "# for x in clusterpairs:\n",
    "#     temp_list.add(x[1][0])\n",
    "#     temp_list.add(x[1][1])\n",
    "# temp_list = list(temp_list)\n",
    "# temp_list\n",
    "# my_plot_reset(G_biketrack, temp_list)\n",
    "# ig.plot(G_biketrack)"
   ]
  },
  {
   "cell_type": "code",
   "execution_count": null,
   "metadata": {},
   "outputs": [],
   "source": [
    "if debug:\n",
    "    for GT_abstract, prune_quantile in zip(GT_abstracts, prune_quantiles):\n",
    "        ig.plot(GT_abstract, PATH[\"plots\"] + placeid + '_GTclustersabstract_biketrack_cutoff' + cutofftype + \"{:.2f}\".format(cutoff) + \"_\" + prune_measures[prune_measure] + \"{:.2f}\".format(prune_quantile) + '.png', bbox=(800,800))"
   ]
  },
  {
   "cell_type": "markdown",
   "metadata": {},
   "source": [
    "### Plot the whole bike network and its new connections"
   ]
  },
  {
   "cell_type": "code",
   "execution_count": null,
   "metadata": {
    "scrolled": false
   },
   "outputs": [],
   "source": [
    "if debug:\n",
    "    for GT, prune_quantile in zip(GTs, prune_quantiles):\n",
    "        plt.figure(figsize=[2*6.4, 2*4.8])\n",
    "        plt.plot(GT.vs['x'], GT.vs['y'], 'o', color='red', markersize=3)\n",
    "        plt.plot(G_biketrack.vs['x'], G_biketrack.vs['y'], 'o', color='black', markersize=1)\n",
    "        plt.gca().invert_yaxis()\n",
    "        %config InlineBackend.figure_format = 'retina'\n",
    "        plt.savefig(PATH[\"plots\"] + placeid + '_GTclusters_biketrack_cutoff' + cutofftype + \"{:.2f}\".format(cutoff) + \"_\" + prune_measures[prune_measure] + \"{:.2f}\".format(prune_quantile) + '.png')"
   ]
  }
 ],
 "metadata": {
  "kernelspec": {
   "display_name": "OSMNX",
   "language": "python",
   "name": "osmnx"
  },
  "language_info": {
   "codemirror_mode": {
    "name": "ipython",
    "version": 3
   },
   "file_extension": ".py",
   "mimetype": "text/x-python",
   "name": "python",
   "nbconvert_exporter": "python",
   "pygments_lexer": "ipython3",
   "version": "3.8.2"
  }
 },
 "nbformat": 4,
 "nbformat_minor": 2
}
