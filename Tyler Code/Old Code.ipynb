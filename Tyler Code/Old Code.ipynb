{
 "cells": [
  {
   "cell_type": "code",
   "execution_count": 1,
   "metadata": {},
   "outputs": [
    {
     "ename": "NameError",
     "evalue": "name 'clusters' is not defined",
     "output_type": "error",
     "traceback": [
      "\u001b[1;31m---------------------------------------------------------------------------\u001b[0m",
      "\u001b[1;31mNameError\u001b[0m                                 Traceback (most recent call last)",
      "\u001b[1;32m<ipython-input-1-5c65a7dc96b5>\u001b[0m in \u001b[0;36m<module>\u001b[1;34m\u001b[0m\n\u001b[1;32m----> 1\u001b[1;33m \u001b[1;32mfor\u001b[0m \u001b[0mi\u001b[0m \u001b[1;32min\u001b[0m \u001b[0mrange\u001b[0m\u001b[1;33m(\u001b[0m\u001b[0mlen\u001b[0m\u001b[1;33m(\u001b[0m\u001b[0mclusters\u001b[0m\u001b[1;33m)\u001b[0m\u001b[1;33m)\u001b[0m\u001b[1;33m:\u001b[0m\u001b[1;33m\u001b[0m\u001b[1;33m\u001b[0m\u001b[0m\n\u001b[0m\u001b[0;32m      2\u001b[0m     \u001b[0mclusters\u001b[0m\u001b[1;33m[\u001b[0m\u001b[0mcluster_indices\u001b[0m\u001b[1;33m[\u001b[0m\u001b[0mi\u001b[0m\u001b[1;33m]\u001b[0m\u001b[1;33m]\u001b[0m\u001b[1;33m.\u001b[0m\u001b[0mes\u001b[0m\u001b[1;33m(\u001b[0m\u001b[1;33m)\u001b[0m\u001b[1;33m[\u001b[0m\u001b[1;34m'closeness'\u001b[0m\u001b[1;33m]\u001b[0m\u001b[1;33m=\u001b[0m\u001b[0mclusters\u001b[0m\u001b[1;33m[\u001b[0m\u001b[0mcluster_indices\u001b[0m\u001b[1;33m[\u001b[0m\u001b[0mi\u001b[0m\u001b[1;33m]\u001b[0m\u001b[1;33m]\u001b[0m\u001b[1;33m.\u001b[0m\u001b[0mcloseness\u001b[0m\u001b[1;33m(\u001b[0m\u001b[0mmode\u001b[0m\u001b[1;33m=\u001b[0m\u001b[1;34m\"All\"\u001b[0m\u001b[1;33m)\u001b[0m\u001b[1;33m\u001b[0m\u001b[1;33m\u001b[0m\u001b[0m\n",
      "\u001b[1;31mNameError\u001b[0m: name 'clusters' is not defined"
     ]
    }
   ],
   "source": [
    "for i in range(len(clusters)):\n",
    "    clusters[cluster_indices[i]].es()['closeness']=clusters[cluster_indices[i]].closeness(mode=\"All\")"
   ]
  },
  {
   "cell_type": "code",
   "execution_count": null,
   "metadata": {},
   "outputs": [],
   "source": [
    "ids = []\n",
    "max_closeness = []\n",
    "for i in range(len(clusters)):\n",
    "    id_current = 0\n",
    "    max_close = 0\n",
    "    for j in range(len(clusters[cluster_indices[i]].vs())):\n",
    "        if (clusters[cluster_indices[i]].es['closeness'][j] > max_close):\n",
    "                    max_close = clusters[cluster_indices[i]].es['closeness'][j]\n",
    "                    id_current = clusters[cluster_indices[i]].vs['id'][j]\n",
    "    ids.append(id_current)\n",
    "    max_closeness.append(max_close)"
   ]
  },
  {
   "cell_type": "code",
   "execution_count": null,
   "metadata": {},
   "outputs": [],
   "source": [
    "paths_to_add_ids = []\n",
    "for i in range(len(cluster_indices) - 1):\n",
    "    paths_to_add_ids.append([ids[i],ids[i+1]])"
   ]
  },
  {
   "cell_type": "code",
   "execution_count": null,
   "metadata": {},
   "outputs": [],
   "source": [
    "paths_to_add_ids"
   ]
  },
  {
   "cell_type": "code",
   "execution_count": null,
   "metadata": {},
   "outputs": [],
   "source": [
    "paths = []\n",
    "for i in range(len(paths_to_add_ids)):\n",
    "    paths.append(g_allbike.get_all_shortest_paths(g_allbike.vs()[id_dict.get(paths_to_add_ids[0][0])],g_allbike.vs()[id_dict.get(paths_to_add_ids[0][1])],weights='weight')[0])"
   ]
  },
  {
   "cell_type": "code",
   "execution_count": null,
   "metadata": {},
   "outputs": [],
   "source": [
    "nodes_temp = []\n",
    "edges_temp = []\n",
    "for i in range(len(paths)):\n",
    "    for j in range(len(paths[i])):\n",
    "        nodes_temp.append(paths[i][j])\n",
    "        if j != len(paths[i]) - 1:\n",
    "            edges_temp.append((paths[i][j],paths[i][j+1]))"
   ]
  },
  {
   "cell_type": "code",
   "execution_count": null,
   "metadata": {},
   "outputs": [],
   "source": [
    "subgraph_of_paths = g_allbike.subgraph_edges(edges_temp)"
   ]
  },
  {
   "cell_type": "code",
   "execution_count": null,
   "metadata": {},
   "outputs": [],
   "source": [
    "sum_of_12_and_path = []\n",
    "sum_of_12_and_path += subgraph_of_paths.vs()['id']\n",
    "for i in range(len(cluster_indices)):\n",
    "    sum_of_12_and_path += clusters[cluster_indices[i]].vs()['id']\n",
    "subnetwork_id_12biggestandpath = np.unique(sum_of_12_and_path)\n",
    "G_all12andpath = g_biggest.subgraph([id_dict.get(i) for i in subnetwork_id_12biggestandpath])"
   ]
  },
  {
   "cell_type": "code",
   "execution_count": null,
   "metadata": {},
   "outputs": [],
   "source": [
    "plt.figure(figsize=[4*6.4,4*4.8])\n",
    "%config InlineBackend.figure_format = 'retina'\n",
    "color=iter(cm.gist_rainbow(np.linspace(0,1,len(clusters))))\n",
    "for i in range(len(clusters)):\n",
    "    c = next(color)\n",
    "    plt.plot(clusters[i].vs['x'],clusters[i].vs['y'],'.',color=c)\n",
    "plt.plot(subgraph_of_paths.vs['x'],subgraph_of_paths.vs['y'],'.',color='black')"
   ]
  },
  {
   "cell_type": "code",
   "execution_count": null,
   "metadata": {},
   "outputs": [],
   "source": [
    "plt.figure(figsize=[4*6.4,4*4.8])\n",
    "plt.plot(subgraph_of_paths.vs['x'],subgraph_of_paths.vs['y'],'.',color='red')\n",
    "%config InlineBackend.figure_format = 'retina'"
   ]
  },
  {
   "cell_type": "code",
   "execution_count": null,
   "metadata": {},
   "outputs": [],
   "source": []
  }
 ],
 "metadata": {
  "kernelspec": {
   "display_name": "Python 3",
   "language": "python",
   "name": "python3"
  },
  "language_info": {
   "codemirror_mode": {
    "name": "ipython",
    "version": 3
   },
   "file_extension": ".py",
   "mimetype": "text/x-python",
   "name": "python",
   "nbconvert_exporter": "python",
   "pygments_lexer": "ipython3",
   "version": "3.7.4"
  }
 },
 "nbformat": 4,
 "nbformat_minor": 2
}
