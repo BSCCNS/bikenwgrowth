{
 "cells": [
  {
   "cell_type": "code",
   "execution_count": 1,
   "metadata": {},
   "outputs": [],
   "source": [
    "import osmnx as ox\n",
    "import numpy as np\n",
    "import igraph as ig\n",
    "import matplotlib.pyplot as plt\n",
    "from scipy.spatial import distance\n",
    "import pandas as pd"
   ]
  },
  {
   "cell_type": "code",
   "execution_count": 27,
   "metadata": {},
   "outputs": [],
   "source": [
    "location = ox.gdf_from_place('Paris, France')\n",
    "G = ox.graph_from_bbox(location['bbox_north'][0], location['bbox_south'][0], location['bbox_east'][0], location['bbox_west'][0], network_type='bike',\n",
    "                       #custom_filter = ('[\"cycleway\" ~ \"track\"]'),\n",
    "                       custom_filter=('[\"maxspeed\" ~ \"30\"]'),\n",
    "                       retain_all=True,simplify=False)\n",
    "G_projected = ox.project_graph(G)\n",
    "#ox.plot_graph(G_projected)"
   ]
  },
  {
   "cell_type": "code",
   "execution_count": 28,
   "metadata": {},
   "outputs": [],
   "source": [
    "node,edge = ox.graph_to_gdfs(G)"
   ]
  },
  {
   "cell_type": "code",
   "execution_count": 29,
   "metadata": {},
   "outputs": [],
   "source": [
    "node.to_csv('place_node_30.csv',index=False) #remember to edit before run"
   ]
  },
  {
   "cell_type": "code",
   "execution_count": 30,
   "metadata": {},
   "outputs": [],
   "source": [
    "edge.to_csv('place_edge_30.csv',index=False) #remember to edit before run"
   ]
  }
 ],
 "metadata": {
  "kernelspec": {
   "display_name": "Python 3",
   "language": "python",
   "name": "python3"
  },
  "language_info": {
   "codemirror_mode": {
    "name": "ipython",
    "version": 3
   },
   "file_extension": ".py",
   "mimetype": "text/x-python",
   "name": "python",
   "nbconvert_exporter": "python",
   "pygments_lexer": "ipython3",
   "version": "3.7.4"
  }
 },
 "nbformat": 4,
 "nbformat_minor": 2
}
