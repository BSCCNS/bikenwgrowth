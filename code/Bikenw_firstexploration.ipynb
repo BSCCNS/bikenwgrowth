{
 "cells": [
  {
   "cell_type": "markdown",
   "metadata": {},
   "source": [
    "# First exploration and growth of Copenhagen bicycle networks\n",
    "## Project: Bicycle network analysis with Gourab, Sayat, Tyler, Michael, Roberta"
   ]
  },
  {
   "cell_type": "markdown",
   "metadata": {},
   "source": [
    "This notebook is a first exploration in the project studying the systematic switch from streets to cycling networks in cities.\n",
    "\n",
    "Contact: Michael Szell (michael.szell@gmail.com)  \n",
    "Created: 2020-05-26 (Based on Sayat's code)  \n",
    "Last modified: 2020-05-28"
   ]
  },
  {
   "cell_type": "markdown",
   "metadata": {},
   "source": [
    "## Preliminaries"
   ]
  },
  {
   "cell_type": "markdown",
   "metadata": {},
   "source": [
    "### Imports and magics"
   ]
  },
  {
   "cell_type": "code",
   "execution_count": 6,
   "metadata": {},
   "outputs": [
    {
     "name": "stdout",
     "output_type": "stream",
     "text": [
      "The watermark extension is already loaded. To reload it, use:\n",
      "  %reload_ext watermark\n"
     ]
    }
   ],
   "source": [
    "import networkx as nx\n",
    "import igraph as ig\n",
    "import osmnx as ox\n",
    "import numpy as np\n",
    "import itertools\n",
    "from matplotlib import cm\n",
    "import pandas as pd\n",
    "from scipy.spatial import distance\n",
    "from shapely.geometry import Point,MultiPoint,LineString,Polygon\n",
    "import pandas as pd\n",
    "import geopandas as gpd\n",
    "\n",
    "%matplotlib inline\n",
    "import matplotlib.pyplot as plt\n",
    "\n",
    "import watermark\n",
    "%load_ext watermark"
   ]
  },
  {
   "cell_type": "code",
   "execution_count": 7,
   "metadata": {},
   "outputs": [
    {
     "name": "stdout",
     "output_type": "stream",
     "text": [
      "osmnx     0.13.0\n",
      "geopandas 0.7.0\n",
      "numpy     1.18.4\n",
      "watermark 2.0.2\n",
      "pandas    1.0.3\n",
      "igraph    0.8.2\n",
      "networkx  2.4\n",
      "Fri May 29 2020 \n",
      "\n",
      "CPython 3.8.2\n",
      "IPython 7.14.0\n",
      "\n",
      "compiler   : Clang 9.0.1 \n",
      "system     : Darwin\n",
      "release    : 19.3.0\n",
      "machine    : x86_64\n",
      "processor  : i386\n",
      "CPU cores  : 12\n",
      "interpreter: 64bit\n",
      "Git hash   :\n"
     ]
    }
   ],
   "source": [
    "%watermark -n -v -m -g -iv"
   ]
  },
  {
   "cell_type": "markdown",
   "metadata": {},
   "source": [
    "### Functions"
   ]
  },
  {
   "cell_type": "code",
   "execution_count": 8,
   "metadata": {},
   "outputs": [],
   "source": [
    "def dist(v1,v2):\n",
    "    dist = distance.euclidean((v1['x'],v1['y']),(v2['x'],v2['y']))\n",
    "    return dist\n",
    "\n",
    "\n",
    "def graph_from_plc(graph):\n",
    "    '''This function takes a open street map object \n",
    "    and returns an igraph network with edges weighted \n",
    "    with distance between nodes'''\n",
    "    nodes, edges = ox.graph_to_gdfs(graph)\n",
    "    g = ig.Graph(directed=False)\n",
    "    x = nodes['x'].tolist()\n",
    "    y= nodes['y'].tolist()\n",
    "    ids = nodes['osmid'].tolist()\n",
    "    for i in range(len(x)):\n",
    "        g.add_vertex(x=x[i],y=y[i],id=ids[i])\n",
    "    df1 = pd.DataFrame(data=g.vs['id'],columns={'id'})\n",
    "    df1['number'] = np.arange(0,len(list(g.vs())))\n",
    "    edges1 = pd.merge(df1,edges,left_on='id',right_on='u')\n",
    "    edges2 = pd.merge(df1,edges1,left_on='id',right_on='v')\n",
    "    edgelist = (np.stack([edges2['number_x'].tolist(),edges2['number_y'].tolist()]).T).tolist()\n",
    "    g.add_edges(edgelist)\n",
    "    g.simplify()\n",
    "    edge_list = g.get_edgelist()\n",
    "    weights=[]\n",
    "    for k in range(len(edge_list)):\n",
    "        d = dist(g.vs()[edge_list[k][0]],g.vs()[edge_list[k][1]])\n",
    "        weights.append(d)\n",
    "    g.es()['weight'] = weights\n",
    "    \n",
    "    #bc = g.betweenness(weights='weight')\n",
    "    return g\n",
    "\n",
    "\n",
    "def bins_counts(array,a,b,c):\n",
    "    '''Makes histograms'''\n",
    "    count, bins = np.histogram(array, bins=np.logspace(a,b,c),density=1)\n",
    "    t =[]\n",
    "    for i in range(len(count)):\n",
    "        t.append((bins[i + 1] + bins[i])/float(2))\n",
    "    return t,count\n",
    "\n",
    "\n",
    "def detour (graph):\n",
    "    '''Calculates the detour factor of a graph'''\n",
    "    v_x= list(graph.vs()['x'])\n",
    "    v_y= list(graph.vs()['y'])\n",
    "    v_x_y = list(zip(v_x, v_y))\n",
    "    d_g = np.array(graph.shortest_paths_dijkstra(source=list(range(len(v_x_y))),target=list(range(len(v_x_y))),weights='weight')).flatten()\n",
    "    d_e = scipy.spatial.distance.cdist(v_x_y ,v_x_y ).flatten()\n",
    "    dist_g=d_g[d_e>0.]\n",
    "    dist_e=d_e[d_e>0.]\n",
    "    return(np.mean(np.divide(dist_g,dist_e)))\n",
    "\n",
    "\n",
    "def closeness(graph):\n",
    "    '''Finds the node with highest closeness centrality'''\n",
    "    closeness_values = graph.closeness(weights='weight')\n",
    "    max_closeness = max(closeness_values)\n",
    "    index = closeness_values.index(max_closeness)\n",
    "    return graph.vs(index)['id']"
   ]
  },
  {
   "cell_type": "markdown",
   "metadata": {},
   "source": [
    "## Exploratory Data Analysis"
   ]
  },
  {
   "cell_type": "markdown",
   "metadata": {},
   "source": [
    "### Download and prepare bike network of Copenhagen"
   ]
  },
  {
   "cell_type": "code",
   "execution_count": 17,
   "metadata": {},
   "outputs": [],
   "source": [
    "# This doesnt include Frederiksberg and bridges: ox.graph_from_place(\"Copenhagen Municipality\",\n",
    "# To do: get shape file with Frederiksberg and bridges\n",
    "\n",
    "OX_bikeall = ox.graph_from_bbox(55.846724,55.526724,12.730072,12.410072,\n",
    "                                network_type='bike',\n",
    "                                retain_all=True,simplify=False)\n",
    "G_bikeall = graph_from_plc(OX_bikeall)\n",
    "G_bikeall_lcc = G_bike.subgraph((list(G_bikeall.components()))[0]) # bike network largest connected component\n",
    "\n",
    "\n",
    "OX_biketrack = ox.graph_from_bbox(55.846724,55.526724,12.730072,12.410072,\n",
    "                                  network_type='bike',\n",
    "                                  custom_filter=('[\"cycleway\"~\"track\"]'),\n",
    "                                  retain_all=True,simplify=False)\n",
    "G_biketrack = graph_from_plc(OX_biketrack)\n",
    "\n",
    "\n",
    "OX_bikelane30 = ox.graph_from_bbox(55.846724,55.526724,12.730072,12.410072,\n",
    "                                  network_type='bike',\n",
    "                                  custom_filter=('[\"cycleway\"~\"lane\"][\"maxspeed\"~\"30\"]'),\n",
    "                                  retain_all=True,simplify=False)\n",
    "G_bikelane30 = graph_from_plc(OX_bikelane30)\n",
    "\n",
    "\n",
    "OX_street30 = ox.graph_from_bbox(55.846724,55.526724,12.730072,12.410072,\n",
    "                                  network_type='drive',\n",
    "                                  custom_filter=('[\"maxspeed\"~\"30\"]'),\n",
    "                                  retain_all=True,simplify=False)\n",
    "G_street30 = graph_from_plc(OX_street30)"
   ]
  },
  {
   "cell_type": "markdown",
   "metadata": {},
   "source": [
    "### Cluster preparations"
   ]
  },
  {
   "cell_type": "code",
   "execution_count": 34,
   "metadata": {},
   "outputs": [],
   "source": [
    "network_id = np.unique(G_biketrack.vs()['id']+G_bikelane30.vs()['id']+G_street30.vs()['id']).tolist() # list of all the node id's in the network\n",
    "id_dict = dict(zip((G_bikeall_lcc.vs()['id']), np.arange(0,len(list(G_bikeall_lcc.vs()))).tolist())) # dictionary of node id's with consecutive indices\n",
    "\n",
    "G_agg = G_bikeall_lcc.subgraph([id_dict.get(key) for key in network_id])\n",
    "# aggregate network of bikeable roads that we want to connect its clusters\n",
    "\n",
    "# Filtering clusters of size 200 and above\n",
    "index=[]\n",
    "for i in range(len(list(G_agg.components()))):\n",
    "    if len(list(G_agg.components())[i]) > 200:\n",
    "        index.append(i)\n",
    "\n",
    "\n",
    "# List of all clusters\n",
    "clusters=[]\n",
    "for i in range(len(index)):\n",
    "    clusters.append(G_agg.subgraph(G_agg.components()[index[i]]))\n",
    "\n",
    "# Size of clusters\n",
    "size=[]\n",
    "for i in range(len(clusters)):\n",
    "    size.append(len(clusters[i].vs()['id']))\n",
    "\n",
    "# Indexes of clusters in sorted form (from largest to smallest)\n",
    "sizeframe= pd.DataFrame(data=size, columns={'cluster_size'})\n",
    "sizeframe['index'] = np.arange(len(clusters))\n",
    "sorted_size=sizeframe.sort_values('cluster_size',ascending=False)['index'].tolist()"
   ]
  },
  {
   "cell_type": "markdown",
   "metadata": {},
   "source": [
    "### Connect clusters"
   ]
  },
  {
   "cell_type": "code",
   "execution_count": null,
   "metadata": {},
   "outputs": [],
   "source": [
    "# Connecting clusters from largest to second largest and so on until all of them are connected\n",
    "# Each sh_pt is a type of connection\n",
    "#\tbelow sh_pt connects closest nodes\n",
    "#\t\tsh_pt_1 connects nodes at random\n",
    "#\tone can add any other type of connection connection\n",
    "\n",
    "G_1 = clusters[sorted_size[0]].copy()\n",
    "closest_list=[]\n",
    "for i in range(1,len(clusters)):\n",
    "    closest_pair = {'i': 0, 'j': 0, 'dist': np.inf}\n",
    "    for a in list(G_1.vs()):\n",
    "        for b in list(clusters[sorted_size[i]].vs()):\n",
    "            dist_nodes = dist(a,b)\n",
    "            if dist_nodes < closest_pair['dist']:\n",
    "                closest_pair['i'] = a['id']\n",
    "                closest_pair['j'] = b['id']\n",
    "                closest_pair['dist'] = dist_nodes\n",
    "    closest_list.append([closest_pair['i'],closest_pair['j']])\n",
    "    sh_pt = G_bikeall_lcc.get_all_shortest_paths(id_dict.get(closest_pair['i']) ,id_dict.get(closest_pair['j']) ,weights='weight')[0]\n",
    "    #sh_pt1 = G_bikeall_lcc.get_all_shortest_paths((np.random.choice([id_dict.get(key) for key in G_grw_st_test_r_cl.vs()['id']])),np.random.choice([id_dict.get(key) for key in clusters[sorted_size[i]].vs()['id']]),weights='weight')[0]\n",
    "    \n",
    "    nw = np.unique(G_1.vs()['id'] + clusters[sorted_size[i]].vs()['id'] +G_bikeall_lcc.vs(sh_pt)['id'])\n",
    "    G_1 = G_bikeall_lcc.subgraph([id_dict.get(key) for key in nw])\n",
    "    print(i,G_1.vcount(),G_1.ecount())\n",
    "\n",
    "\n",
    "# This is a way to sort nodes according to their betweenness centrality\n",
    "df1_grw_st= pd.DataFrame(data=G_grw_st.betweenness(weights='weight'),columns={'BC'})\n",
    "df1_grw_st['x'] = (((G_grw_st.vs())['x']))\n",
    "df1_grw_st['y'] = (((G_grw_st.vs())['y']))\n",
    "df1_grw_st['id'] = (((G_grw_st.vs())['id']))\n",
    "df1_grw_st['no'] = np.arange(0,len(df1_grw_st['x'].tolist())).tolist()\n",
    "df2_grw_st = df1_grw_st.sort_values('BC',ascending=False)[0:int(len(df1_grw_st['x'])/10)]"
   ]
  },
  {
   "cell_type": "markdown",
   "metadata": {},
   "source": [
    "## Plotting"
   ]
  },
  {
   "cell_type": "code",
   "execution_count": null,
   "metadata": {},
   "outputs": [],
   "source": [
    "plt.figure(figsize=[4*6.4, 4*4.8])\n",
    "plt.plot(G_grw_st.vs()['x'],G_grw_st.vs()['y'],'.',color='black')\n",
    "\n",
    "color=iter(cm.gist_rainbow(np.linspace(0,1,len(clusters))))\n",
    "for i in range(len(clusters)):\n",
    "    c=next(color)\n",
    "    plt.plot(clusters[i].vs['x'],clusters[i].vs['y'],'.',color=c)\n",
    "#plt.plot(G_grw_st_cl.vs()['x'],G_grw_st_cl.vs()['y'],'.')\n",
    "plt.axis('off')"
   ]
  }
 ],
 "metadata": {
  "kernelspec": {
   "display_name": "OSMNX",
   "language": "python",
   "name": "osmnx"
  },
  "language_info": {
   "codemirror_mode": {
    "name": "ipython",
    "version": 3
   },
   "file_extension": ".py",
   "mimetype": "text/x-python",
   "name": "python",
   "nbconvert_exporter": "python",
   "pygments_lexer": "ipython3",
   "version": "3.8.2"
  }
 },
 "nbformat": 4,
 "nbformat_minor": 2
}
