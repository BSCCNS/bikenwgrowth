{
 "cells": [
  {
   "cell_type": "markdown",
   "metadata": {},
   "source": [
    "# Step 8 - Exploratory analysis\n",
    "## Project: Algorithmic bicycle network growth"
   ]
  },
  {
   "cell_type": "markdown",
   "metadata": {},
   "source": [
    "This notebook is a sandbox for exploring results.\n",
    "\n",
    "Contact: Michael Szell (michael.szell@gmail.com)  \n",
    "Created: 2021-02-08  \n",
    "Last modified: 2021-02-08"
   ]
  },
  {
   "cell_type": "markdown",
   "metadata": {},
   "source": [
    "## Preliminaries"
   ]
  },
  {
   "cell_type": "markdown",
   "metadata": {},
   "source": [
    "### Parameters"
   ]
  },
  {
   "cell_type": "code",
   "execution_count": null,
   "metadata": {},
   "outputs": [],
   "source": [
    "debug = False # If True, will produce plots and/or verbose output to double-check\n",
    "%run -i \"../parameters/parameters.py\""
   ]
  },
  {
   "cell_type": "markdown",
   "metadata": {},
   "source": [
    "### Setup"
   ]
  },
  {
   "cell_type": "code",
   "execution_count": null,
   "metadata": {},
   "outputs": [],
   "source": [
    "%run -i path.py\n",
    "%run -i setup.py\n",
    "\n",
    "%load_ext watermark\n",
    "%watermark -n -v -m -g -iv"
   ]
  },
  {
   "cell_type": "markdown",
   "metadata": {},
   "source": [
    "### Functions"
   ]
  },
  {
   "cell_type": "code",
   "execution_count": null,
   "metadata": {},
   "outputs": [],
   "source": [
    "%run -i functions.py"
   ]
  },
  {
   "cell_type": "markdown",
   "metadata": {},
   "source": [
    "### Constants"
   ]
  },
  {
   "cell_type": "code",
   "execution_count": null,
   "metadata": {},
   "outputs": [],
   "source": [
    "pois = [\"grid\", \"railwaystation\"]\n",
    "measures = [\"betweenness\", \"closeness\"]\n",
    "combs = list(itertools.product(pois, measures))\n",
    "print(combs)"
   ]
  },
  {
   "cell_type": "markdown",
   "metadata": {},
   "source": [
    "## Directness and Efficiency for all cities"
   ]
  },
  {
   "cell_type": "code",
   "execution_count": null,
   "metadata": {
    "scrolled": true
   },
   "outputs": [],
   "source": [
    "# Load results\n",
    "analysis_result = {}\n",
    "for p in pois:\n",
    "    analysis_result[p] = {}\n",
    "    for m in measures:\n",
    "        analysis_result[p][m] = {}\n",
    "        \n",
    "        for placeid, placeinfo in tqdm(cities.items(), desc=\"Cities\"):\n",
    "            # PLOT Analysis\n",
    "            filename = placeid + '_poi_' + p + \"_\" + m + \".csv\"\n",
    "            analysis_result[p][m][placeid] = np.genfromtxt(PATH[\"results\"] + placeid + \"/\" + filename, delimiter=',', names=True)\n",
    "            if len(analysis_result[p][m][placeid]) == 0:\n",
    "                analysis_result[p][m][placeid] = analysis_result[p][m][list(cities.keys())[0]]\n",
    "                for n in analysis_result[p][m][placeid].dtype.names:\n",
    "                    analysis_result[p][m][placeid][n] = [-1]*len(analysis_result[p][m][placeid][n])"
   ]
  },
  {
   "cell_type": "markdown",
   "metadata": {},
   "source": [
    "### Directness min/max/end"
   ]
  },
  {
   "cell_type": "code",
   "execution_count": null,
   "metadata": {},
   "outputs": [],
   "source": [
    "directness_lcc = {}\n",
    "for p in pois:\n",
    "    directness_lcc[p] = {}\n",
    "    for m in measures:\n",
    "        directness_lcc[p][m] = {}\n",
    "        directness_lcc[p][m][\"x\"] = {}\n",
    "        directness_lcc[p][m][\"y\"] = {}\n",
    "\n",
    "        directness_lcc[p][m][\"y\"][\"min\"] = [min(analysis_result[p][m][placeid][\"directness_lcc\"]) for placeid in cities.keys()]\n",
    "        directness_lcc[p][m][\"y\"][\"max\"] = [max(analysis_result[p][m][placeid][\"directness_lcc\"]) for placeid in cities.keys()]\n",
    "        directness_lcc[p][m][\"y\"][\"end\"] = [analysis_result[p][m][placeid][\"directness_lcc\"][-1] for placeid in cities.keys()]\n",
    "\n",
    "        directness_lcc[p][m][\"x\"][\"min\"] = [np.where(analysis_result[p][m][placeid][\"directness_lcc\"] == min(analysis_result[p][m][placeid][\"directness_lcc\"]))[0][-1] for placeid in cities.keys()]\n",
    "        directness_lcc[p][m][\"x\"][\"max\"] = [np.where(analysis_result[p][m][placeid][\"directness_lcc\"] == max(analysis_result[p][m][placeid][\"directness_lcc\"]))[0][-1] for placeid in cities.keys()]\n",
    "        directness_lcc[p][m][\"x\"][\"end\"] = [np.where(analysis_result[p][m][placeid][\"directness_lcc\"] == analysis_result[p][m][placeid][\"directness_lcc\"][-1])[0][-1] for placeid in cities.keys()]       "
   ]
  },
  {
   "cell_type": "code",
   "execution_count": null,
   "metadata": {},
   "outputs": [],
   "source": [
    "fig, axes = plt.subplots(nrows = 2, ncols = 2, figsize = (10, 8), squeeze = True)\n",
    "axes = axes.flatten()\n",
    "\n",
    "# Plot data\n",
    "for i,ax in enumerate(axes):\n",
    "    ind = np.where(np.asarray(directness_lcc[combs[i][0]][combs[i][1]][\"x\"][\"min\"]) > np.asarray(directness_lcc[combs[i][0]][combs[i][1]][\"x\"][\"max\"]))[0]\n",
    "    ax.plot([np.asarray(directness_lcc[combs[i][0]][combs[i][1]][\"x\"][\"max\"])[ind], np.asarray(directness_lcc[combs[i][0]][combs[i][1]][\"x\"][\"min\"])[ind]], [np.asarray(directness_lcc[combs[i][0]][combs[i][1]][\"y\"][\"max\"])[ind], np.asarray(directness_lcc[combs[i][0]][combs[i][1]][\"y\"][\"min\"])[ind]], ':', color=\"red\", alpha=0.3);\n",
    "    \n",
    "#     ind = np.where(np.asarray(directness_lcc[combs[i][0]][combs[i][1]][\"y\"][\"min\"]) >= 0)[0]\n",
    "    ax.plot([np.asarray(directness_lcc[combs[i][0]][combs[i][1]][\"x\"][\"min\"])[ind], np.asarray(directness_lcc[combs[i][0]][combs[i][1]][\"x\"][\"end\"])[ind]], [np.asarray(directness_lcc[combs[i][0]][combs[i][1]][\"y\"][\"min\"])[ind], np.asarray(directness_lcc[combs[i][0]][combs[i][1]][\"y\"][\"end\"])[ind]], ':', color=\"green\", alpha=0.3);\n",
    "    \n",
    "    ax.plot(np.asarray(directness_lcc[combs[i][0]][combs[i][1]][\"x\"][\"max\"])[ind], np.asarray(directness_lcc[combs[i][0]][combs[i][1]][\"y\"][\"max\"])[ind], '^r', label='max');\n",
    "    ax.plot(np.asarray(directness_lcc[combs[i][0]][combs[i][1]][\"x\"][\"min\"])[ind], np.asarray(directness_lcc[combs[i][0]][combs[i][1]][\"y\"][\"min\"])[ind], 'vg', label='min');\n",
    "    ax.plot(np.asarray(directness_lcc[combs[i][0]][combs[i][1]][\"x\"][\"end\"])[ind], np.asarray(directness_lcc[combs[i][0]][combs[i][1]][\"y\"][\"end\"])[ind], 'ok', label='end', markerfacecolor='none');\n",
    "    \n",
    "\n",
    "    ax.set_xlabel(combs[i][1] + ' quantile')\n",
    "    ax.set_ylabel('Directness of LCC')\n",
    "    ax.set_xlim([-1,40])\n",
    "    ax.set_ylim([0.4,1]) #0.35\n",
    "    if i == 0: ax.legend(loc='lower right');\n",
    "    if i == 1 or i == 3:\n",
    "        ax.set_ylabel('')\n",
    "        ax.set_yticklabels([])\n",
    "        ax.text(42, 0.8, combs[i][0], rotation = 90, horizontalalignment = \"center\", verticalalignment='center')\n",
    "    if i == 0 or i == 1:\n",
    "        ax.set_xlabel('')\n",
    "        ax.set_xticklabels([])"
   ]
  },
  {
   "cell_type": "markdown",
   "metadata": {},
   "source": [
    "### Efficiency min/max/end"
   ]
  },
  {
   "cell_type": "code",
   "execution_count": null,
   "metadata": {},
   "outputs": [],
   "source": [
    "efficiency_global = {}\n",
    "for p in pois:\n",
    "    efficiency_global[p] = {}\n",
    "    for m in measures:\n",
    "        efficiency_global[p][m] = {}\n",
    "        efficiency_global[p][m][\"x\"] = {}\n",
    "        efficiency_global[p][m][\"y\"] = {}\n",
    "\n",
    "        efficiency_global[p][m][\"y\"][\"min\"] = [min(analysis_result[p][m][placeid][\"efficiency_global\"]) for placeid in cities.keys()]\n",
    "        efficiency_global[p][m][\"y\"][\"max\"] = [max(analysis_result[p][m][placeid][\"efficiency_global\"]) for placeid in cities.keys()]\n",
    "        efficiency_global[p][m][\"y\"][\"end\"] = [analysis_result[p][m][placeid][\"efficiency_global\"][-1] for placeid in cities.keys()]\n",
    "\n",
    "        efficiency_global[p][m][\"x\"][\"min\"] = [np.where(analysis_result[p][m][placeid][\"efficiency_global\"] == min(analysis_result[p][m][placeid][\"efficiency_global\"]))[0][-1] for placeid in cities.keys()]\n",
    "        efficiency_global[p][m][\"x\"][\"max\"] = [np.where(analysis_result[p][m][placeid][\"efficiency_global\"] == max(analysis_result[p][m][placeid][\"efficiency_global\"]))[0][-1] for placeid in cities.keys()]\n",
    "        efficiency_global[p][m][\"x\"][\"end\"] = [np.where(analysis_result[p][m][placeid][\"efficiency_global\"] == analysis_result[p][m][placeid][\"efficiency_global\"][-1])[0][-1] for placeid in cities.keys()]       "
   ]
  },
  {
   "cell_type": "code",
   "execution_count": null,
   "metadata": {},
   "outputs": [],
   "source": [
    "fig, axes = plt.subplots(nrows = 2, ncols = 2, figsize = (10, 8), squeeze = True)\n",
    "axes = axes.flatten()\n",
    "\n",
    "# Plot data\n",
    "for i,ax in enumerate(axes):\n",
    "   \n",
    "    ind = np.where(np.asarray(efficiency_global[combs[i][0]][combs[i][1]][\"x\"][\"min\"]) > np.asarray(efficiency_global[combs[i][0]][combs[i][1]][\"x\"][\"max\"]))[0]\n",
    "    ax.plot([np.asarray(efficiency_global[combs[i][0]][combs[i][1]][\"x\"][\"max\"])[ind], np.asarray(efficiency_global[combs[i][0]][combs[i][1]][\"x\"][\"min\"])[ind]], [np.asarray(efficiency_global[combs[i][0]][combs[i][1]][\"y\"][\"max\"])[ind], np.asarray(efficiency_global[combs[i][0]][combs[i][1]][\"y\"][\"min\"])[ind]], ':', color=\"red\", alpha=0.3);\n",
    "    \n",
    "#     ind = np.where(np.asarray(efficiency_global[combs[i][0]][combs[i][1]][\"y\"][\"min\"]) >= 0)[0]\n",
    "    ax.plot([np.asarray(efficiency_global[combs[i][0]][combs[i][1]][\"x\"][\"min\"])[ind], np.asarray(efficiency_global[combs[i][0]][combs[i][1]][\"x\"][\"end\"])[ind]], [np.asarray(efficiency_global[combs[i][0]][combs[i][1]][\"y\"][\"min\"])[ind], np.asarray(efficiency_global[combs[i][0]][combs[i][1]][\"y\"][\"end\"])[ind]], ':', color=\"green\", alpha=0.3);\n",
    "    \n",
    "    ax.plot(np.asarray(efficiency_global[combs[i][0]][combs[i][1]][\"x\"][\"max\"])[ind], np.asarray(efficiency_global[combs[i][0]][combs[i][1]][\"y\"][\"max\"])[ind], '^r', label='max');\n",
    "    ax.plot(np.asarray(efficiency_global[combs[i][0]][combs[i][1]][\"x\"][\"min\"])[ind], np.asarray(efficiency_global[combs[i][0]][combs[i][1]][\"y\"][\"min\"])[ind], 'vg', label='min');\n",
    "    ax.plot(np.asarray(efficiency_global[combs[i][0]][combs[i][1]][\"x\"][\"end\"])[ind], np.asarray(efficiency_global[combs[i][0]][combs[i][1]][\"y\"][\"end\"])[ind], 'ok', label='end', markerfacecolor='none');\n",
    "    \n",
    "\n",
    "    \n",
    "    ax.set_xlabel(combs[i][1] + ' quantile')\n",
    "    ax.set_ylabel('Global Efficiency')\n",
    "    ax.set_xlim([-1,40])\n",
    "    ax.set_ylim([0,1])\n",
    "    if i == 0: ax.legend(loc='lower center');\n",
    "    if i == 1 or i == 3:\n",
    "        ax.set_ylabel('')\n",
    "        ax.set_yticklabels([])\n",
    "        ax.text(42, 0.55, combs[i][0], rotation = 90, horizontalalignment = \"center\", verticalalignment='center')\n",
    "    if i == 0 or i == 1:\n",
    "        ax.set_xlabel('')\n",
    "        ax.set_xticklabels([])"
   ]
  }
 ],
 "metadata": {
  "kernelspec": {
   "display_name": "OSMNX",
   "language": "python",
   "name": "osmnx"
  },
  "language_info": {
   "codemirror_mode": {
    "name": "ipython",
    "version": 3
   },
   "file_extension": ".py",
   "mimetype": "text/x-python",
   "name": "python",
   "nbconvert_exporter": "python",
   "pygments_lexer": "ipython3",
   "version": "3.8.2"
  }
 },
 "nbformat": 4,
 "nbformat_minor": 2
}
