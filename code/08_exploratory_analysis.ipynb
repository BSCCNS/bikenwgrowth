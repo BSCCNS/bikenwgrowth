{
 "cells": [
  {
   "cell_type": "markdown",
   "metadata": {},
   "source": [
    "# Step 8 - Exploratory analysis\n",
    "## Project: Algorithmic bicycle network growth"
   ]
  },
  {
   "cell_type": "markdown",
   "metadata": {},
   "source": [
    "This notebook is a sandbox for exploring results.\n",
    "\n",
    "Contact: Michael Szell (michael.szell@gmail.com)  \n",
    "Created: 2021-02-08  \n",
    "Last modified: 2021-04-23"
   ]
  },
  {
   "cell_type": "markdown",
   "metadata": {},
   "source": [
    "## Preliminaries"
   ]
  },
  {
   "cell_type": "markdown",
   "metadata": {},
   "source": [
    "### Parameters"
   ]
  },
  {
   "cell_type": "code",
   "execution_count": null,
   "metadata": {},
   "outputs": [],
   "source": [
    "debug = False # If True, will produce plots and/or verbose output to double-check\n",
    "%run -i \"../parameters/parameters.py\""
   ]
  },
  {
   "cell_type": "markdown",
   "metadata": {},
   "source": [
    "### Setup"
   ]
  },
  {
   "cell_type": "code",
   "execution_count": null,
   "metadata": {},
   "outputs": [],
   "source": [
    "%run -i path.py\n",
    "%run -i setup.py\n",
    "\n",
    "%load_ext watermark\n",
    "%watermark -n -v -m -g -iv"
   ]
  },
  {
   "cell_type": "markdown",
   "metadata": {},
   "source": [
    "### Functions"
   ]
  },
  {
   "cell_type": "code",
   "execution_count": null,
   "metadata": {},
   "outputs": [],
   "source": [
    "%run -i functions.py"
   ]
  },
  {
   "cell_type": "markdown",
   "metadata": {},
   "source": [
    "### Constants"
   ]
  },
  {
   "cell_type": "code",
   "execution_count": null,
   "metadata": {
    "scrolled": true
   },
   "outputs": [],
   "source": [
    "pois = [\"grid\", \"railwaystation\"]\n",
    "measures = [\"betweenness\", \"closeness\"]\n",
    "combs = list(itertools.product(pois, measures))\n",
    "print(combs)"
   ]
  },
  {
   "cell_type": "code",
   "execution_count": null,
   "metadata": {},
   "outputs": [],
   "source": [
    "numcitiestotal = len(cities.keys())"
   ]
  },
  {
   "cell_type": "markdown",
   "metadata": {},
   "source": [
    "### Load all results"
   ]
  },
  {
   "cell_type": "code",
   "execution_count": null,
   "metadata": {},
   "outputs": [],
   "source": [
    "analysis_result = {}\n",
    "for p in pois:\n",
    "    analysis_result[p] = {}\n",
    "    for m in measures:\n",
    "        analysis_result[p][m] = {}\n",
    "        \n",
    "        for placeid, placeinfo in tqdm(cities.items(), desc=\"Cities\"):\n",
    "            filename = placeid + '_poi_' + p + \"_\" + m + \".csv\"\n",
    "            analysis_result[p][m][placeid] = np.genfromtxt(PATH[\"results\"] + placeid + \"/\" + filename, delimiter=',', names=True)\n",
    "            if len(analysis_result[p][m][placeid]) == 0:\n",
    "                analysis_result[p][m][placeid] = analysis_result[p][m][list(cities.keys())[0]]\n",
    "                for n in analysis_result[p][m][placeid].dtype.names:\n",
    "                    analysis_result[p][m][placeid][n] = [-1]*len(analysis_result[p][m][placeid][n])"
   ]
  },
  {
   "cell_type": "code",
   "execution_count": null,
   "metadata": {},
   "outputs": [],
   "source": [
    "analysis_existing = {}\n",
    "for placeid, placeinfo in tqdm(cities.items(), desc=\"Cities\"):\n",
    "    filename = placeid + '_existing.csv'\n",
    "    analysis_existing[placeid] = np.genfromtxt(PATH[\"results\"] + placeid + \"/\" + filename, delimiter=',', names=True, usecols = (1,2,3,4,5,6,7,8,9,10,11))"
   ]
  },
  {
   "cell_type": "markdown",
   "metadata": {},
   "source": [
    "## Directness and Efficiency for all cities"
   ]
  },
  {
   "cell_type": "markdown",
   "metadata": {},
   "source": [
    "In this section, we want to check the hypothesis that there is a \"dip\" in the metrics of directness and efficiency, i.e. that there is a U-shaped form where the metric starts at a high value, then falls  (due to percolation / emergence of the giant component) and then grows back to an intermediate value. We do that for each combination of [('grid', 'betweenness'), ('grid', 'closeness'), ('railwaystation', 'betweenness'), ('railwaystation', 'closeness')]\n",
    "\n",
    "To do that, first we select all cities where the minimum values of the metric are to the right of the maximum value. For those cities we then only plot the (x,y) pairs of the min, max, and end values."
   ]
  },
  {
   "cell_type": "markdown",
   "metadata": {},
   "source": [
    "### Directness min/max/end"
   ]
  },
  {
   "cell_type": "code",
   "execution_count": null,
   "metadata": {},
   "outputs": [],
   "source": [
    "directness_lcc = {}\n",
    "for p in pois:\n",
    "    directness_lcc[p] = {}\n",
    "    for m in measures:\n",
    "        directness_lcc[p][m] = {}\n",
    "        directness_lcc[p][m][\"x\"] = {}\n",
    "        directness_lcc[p][m][\"y\"] = {}\n",
    "\n",
    "        directness_lcc[p][m][\"y\"][\"min\"] = [min(analysis_result[p][m][placeid][\"directness_lcc\"]) for placeid in cities.keys()]\n",
    "        directness_lcc[p][m][\"y\"][\"max\"] = [max(analysis_result[p][m][placeid][\"directness_lcc\"]) for placeid in cities.keys()]\n",
    "        directness_lcc[p][m][\"y\"][\"end\"] = [analysis_result[p][m][placeid][\"directness_lcc\"][-1] for placeid in cities.keys()]\n",
    "\n",
    "        directness_lcc[p][m][\"x\"][\"min\"] = [np.where(analysis_result[p][m][placeid][\"directness_lcc\"] == min(analysis_result[p][m][placeid][\"directness_lcc\"]))[0][-1] for placeid in cities.keys()]\n",
    "        directness_lcc[p][m][\"x\"][\"max\"] = [np.where(analysis_result[p][m][placeid][\"directness_lcc\"] == max(analysis_result[p][m][placeid][\"directness_lcc\"]))[0][-1] for placeid in cities.keys()]\n",
    "        directness_lcc[p][m][\"x\"][\"end\"] = [np.where(analysis_result[p][m][placeid][\"directness_lcc\"] == analysis_result[p][m][placeid][\"directness_lcc\"][-1])[0][-1] for placeid in cities.keys()]       "
   ]
  },
  {
   "cell_type": "code",
   "execution_count": null,
   "metadata": {
    "scrolled": false
   },
   "outputs": [],
   "source": [
    "fig, axes = plt.subplots(nrows = 2, ncols = 2, figsize = (10, 8), squeeze = True)\n",
    "axes = axes.flatten()\n",
    "\n",
    "# Plot data\n",
    "for i,ax in enumerate(axes):\n",
    "    ind = np.where(np.asarray(directness_lcc[combs[i][0]][combs[i][1]][\"x\"][\"min\"]) > np.asarray(directness_lcc[combs[i][0]][combs[i][1]][\"x\"][\"max\"]))[0]\n",
    "    print(str(len(ind)) + \"/\" + str(numcitiestotal) + \" cities found with x_min>x_max for \"+ str(combs[i]))\n",
    "    ax.plot([np.asarray(directness_lcc[combs[i][0]][combs[i][1]][\"x\"][\"max\"])[ind], np.asarray(directness_lcc[combs[i][0]][combs[i][1]][\"x\"][\"min\"])[ind]], [np.asarray(directness_lcc[combs[i][0]][combs[i][1]][\"y\"][\"max\"])[ind], np.asarray(directness_lcc[combs[i][0]][combs[i][1]][\"y\"][\"min\"])[ind]], ':', color=\"red\", alpha=0.3);\n",
    "    \n",
    "#     ind = np.where(np.asarray(directness_lcc[combs[i][0]][combs[i][1]][\"y\"][\"min\"]) >= 0)[0]\n",
    "    ax.plot([np.asarray(directness_lcc[combs[i][0]][combs[i][1]][\"x\"][\"min\"])[ind], np.asarray(directness_lcc[combs[i][0]][combs[i][1]][\"x\"][\"end\"])[ind]], [np.asarray(directness_lcc[combs[i][0]][combs[i][1]][\"y\"][\"min\"])[ind], np.asarray(directness_lcc[combs[i][0]][combs[i][1]][\"y\"][\"end\"])[ind]], ':', color=\"green\", alpha=0.3);\n",
    "    \n",
    "    ax.plot(np.asarray(directness_lcc[combs[i][0]][combs[i][1]][\"x\"][\"max\"])[ind], np.asarray(directness_lcc[combs[i][0]][combs[i][1]][\"y\"][\"max\"])[ind], '^r', label='max');\n",
    "    ax.plot(np.asarray(directness_lcc[combs[i][0]][combs[i][1]][\"x\"][\"min\"])[ind], np.asarray(directness_lcc[combs[i][0]][combs[i][1]][\"y\"][\"min\"])[ind], 'vg', label='min');\n",
    "    ax.plot(np.asarray(directness_lcc[combs[i][0]][combs[i][1]][\"x\"][\"end\"])[ind], np.asarray(directness_lcc[combs[i][0]][combs[i][1]][\"y\"][\"end\"])[ind], 'ok', label='end', markerfacecolor='none');\n",
    "    \n",
    "    ax.set_xlabel(combs[i][1] + ' quantile')\n",
    "    ax.set_ylabel('Directness of LCC')\n",
    "    ax.set_xlim([-1,40])\n",
    "    ax.set_ylim([0.4,1]) #0.35\n",
    "    if i == 0: ax.legend(loc='lower right');\n",
    "    if i == 1 or i == 3:\n",
    "        ax.set_ylabel('')\n",
    "        ax.set_yticklabels([])\n",
    "        ax.text(42, 0.8, combs[i][0], rotation = 90, horizontalalignment = \"center\", verticalalignment='center')\n",
    "    if i == 0 or i == 1:\n",
    "        ax.set_xlabel('')\n",
    "        ax.set_xticklabels([])"
   ]
  },
  {
   "cell_type": "markdown",
   "metadata": {},
   "source": [
    "### Efficiency min/max/end"
   ]
  },
  {
   "cell_type": "code",
   "execution_count": null,
   "metadata": {},
   "outputs": [],
   "source": [
    "efficiency_global = {}\n",
    "for p in pois:\n",
    "    efficiency_global[p] = {}\n",
    "    for m in measures:\n",
    "        efficiency_global[p][m] = {}\n",
    "        efficiency_global[p][m][\"x\"] = {}\n",
    "        efficiency_global[p][m][\"y\"] = {}\n",
    "\n",
    "        efficiency_global[p][m][\"y\"][\"min\"] = [min(analysis_result[p][m][placeid][\"efficiency_global\"]) for placeid in cities.keys()]\n",
    "        efficiency_global[p][m][\"y\"][\"max\"] = [max(analysis_result[p][m][placeid][\"efficiency_global\"]) for placeid in cities.keys()]\n",
    "        efficiency_global[p][m][\"y\"][\"end\"] = [analysis_result[p][m][placeid][\"efficiency_global\"][-1] for placeid in cities.keys()]\n",
    "\n",
    "        efficiency_global[p][m][\"x\"][\"min\"] = [np.where(analysis_result[p][m][placeid][\"efficiency_global\"] == min(analysis_result[p][m][placeid][\"efficiency_global\"]))[0][-1] for placeid in cities.keys()]\n",
    "        efficiency_global[p][m][\"x\"][\"max\"] = [np.where(analysis_result[p][m][placeid][\"efficiency_global\"] == max(analysis_result[p][m][placeid][\"efficiency_global\"]))[0][-1] for placeid in cities.keys()]\n",
    "        efficiency_global[p][m][\"x\"][\"end\"] = [np.where(analysis_result[p][m][placeid][\"efficiency_global\"] == analysis_result[p][m][placeid][\"efficiency_global\"][-1])[0][-1] for placeid in cities.keys()]       "
   ]
  },
  {
   "cell_type": "code",
   "execution_count": null,
   "metadata": {
    "scrolled": false
   },
   "outputs": [],
   "source": [
    "fig, axes = plt.subplots(nrows = 2, ncols = 2, figsize = (10, 8), squeeze = True)\n",
    "axes = axes.flatten()\n",
    "\n",
    "# Plot data\n",
    "for i,ax in enumerate(axes):\n",
    "   \n",
    "    ind = np.where(np.asarray(efficiency_global[combs[i][0]][combs[i][1]][\"x\"][\"min\"]) > np.asarray(efficiency_global[combs[i][0]][combs[i][1]][\"x\"][\"max\"]))[0]\n",
    "    print(str(len(ind)) + \"/\" + str(numcitiestotal) + \" cities found with x_min>x_max for \"+ str(combs[i]))\n",
    "    ax.plot([np.asarray(efficiency_global[combs[i][0]][combs[i][1]][\"x\"][\"max\"])[ind], np.asarray(efficiency_global[combs[i][0]][combs[i][1]][\"x\"][\"min\"])[ind]], [np.asarray(efficiency_global[combs[i][0]][combs[i][1]][\"y\"][\"max\"])[ind], np.asarray(efficiency_global[combs[i][0]][combs[i][1]][\"y\"][\"min\"])[ind]], ':', color=\"red\", alpha=0.3);\n",
    "    \n",
    "#     ind = np.where(np.asarray(efficiency_global[combs[i][0]][combs[i][1]][\"y\"][\"min\"]) >= 0)[0]\n",
    "    ax.plot([np.asarray(efficiency_global[combs[i][0]][combs[i][1]][\"x\"][\"min\"])[ind], np.asarray(efficiency_global[combs[i][0]][combs[i][1]][\"x\"][\"end\"])[ind]], [np.asarray(efficiency_global[combs[i][0]][combs[i][1]][\"y\"][\"min\"])[ind], np.asarray(efficiency_global[combs[i][0]][combs[i][1]][\"y\"][\"end\"])[ind]], ':', color=\"green\", alpha=0.3);\n",
    "    \n",
    "    ax.plot(np.asarray(efficiency_global[combs[i][0]][combs[i][1]][\"x\"][\"max\"])[ind], np.asarray(efficiency_global[combs[i][0]][combs[i][1]][\"y\"][\"max\"])[ind], '^r', label='max');\n",
    "    ax.plot(np.asarray(efficiency_global[combs[i][0]][combs[i][1]][\"x\"][\"min\"])[ind], np.asarray(efficiency_global[combs[i][0]][combs[i][1]][\"y\"][\"min\"])[ind], 'vg', label='min');\n",
    "    ax.plot(np.asarray(efficiency_global[combs[i][0]][combs[i][1]][\"x\"][\"end\"])[ind], np.asarray(efficiency_global[combs[i][0]][combs[i][1]][\"y\"][\"end\"])[ind], 'ok', label='end', markerfacecolor='none');\n",
    "    \n",
    "    ax.set_xlabel(combs[i][1] + ' quantile')\n",
    "    ax.set_ylabel('Global Efficiency')\n",
    "    ax.set_xlim([-1,40])\n",
    "    ax.set_ylim([0,1])\n",
    "    if i == 0: ax.legend(loc='lower center');\n",
    "    if i == 1 or i == 3:\n",
    "        ax.set_ylabel('')\n",
    "        ax.set_yticklabels([])\n",
    "        ax.text(42, 0.55, combs[i][0], rotation = 90, horizontalalignment = \"center\", verticalalignment='center')\n",
    "    if i == 0 or i == 1:\n",
    "        ax.set_xlabel('')\n",
    "        ax.set_xticklabels([])"
   ]
  },
  {
   "cell_type": "markdown",
   "metadata": {},
   "source": [
    "## Comparing grown with existing metrics"
   ]
  },
  {
   "cell_type": "markdown",
   "metadata": {},
   "source": [
    "Here we plot for some metrics how much higher the metric of the grown network is compared to the existing network of same length. This only works for cities that have a small enough existing length which is at some point reached by the grown network."
   ]
  },
  {
   "cell_type": "code",
   "execution_count": null,
   "metadata": {},
   "outputs": [],
   "source": [
    "comp_keys = [\"length_lcc\", \"efficiency_global_routed\", \"efficiency_local_routed\", \"coverage\"]\n",
    "comp_labels = [\"Length of LCC\", \"Global Efficiency\", \"Local Efficiency\", \"Coverage\"]\n",
    "\n",
    "for p in pois:\n",
    "    for m in measures:\n",
    "        numcities = 0\n",
    "        values = []\n",
    "\n",
    "        if debug: fig = plt.figure(figsize=(400/plotparam[\"dpi\"], 400/plotparam[\"dpi\"]), dpi=plotparam[\"dpi\"])\n",
    "        if debug: plt.semilogy([min(x), max(x)], [1,1], \"k--\")\n",
    "        for placeid, placeinfo in tqdm(cities.items(), desc=\"Cities\"):\n",
    "            length_existing = analysis_existing[placeid][analysis_existing_rowkeys[\"biketrack\"]][\"length\"]\n",
    "            if length_existing and np.argmax(analysis_result[p][m][placeid][\"length\"] > length_existing):\n",
    "                numcities += 1\n",
    "                id_samelen = np.argmax(analysis_result[p][m][placeid][\"length\"] > length_existing) - 1\n",
    "\n",
    "                x = list(range(len(comp_keys)))\n",
    "                y = [[analysis_result[p][m][placeid][comp_keys[i]][id_samelen] / analysis_existing[placeid][analysis_existing_rowkeys[\"biketrack\"]][comp_keys[i]]] for i in x]\n",
    "                values.append(y)\n",
    "                if debug: plt.semilogy(x, y, \"o\")\n",
    "\n",
    "        print(str(numcities) + \" cities found where L_grown=L for \" + p + \" | \" + m)\n",
    "        values = np.log10(np.array(values))\n",
    "        fig = plt.figure(figsize=(300/plotparam[\"dpi\"], 300/plotparam[\"dpi\"]), dpi=plotparam[\"dpi\"])\n",
    "        axes = fig.add_axes([0, 0, 1, 1])\n",
    "        axes.plot([0,0], [min(x), max(x)+2],\"k:\")\n",
    "        # https://stackoverflow.com/questions/18500011/horizontal-box-plots-in-matplotlib-pandas#56088231\n",
    "        axes.boxplot([values[np.isfinite(values[:,i]).flatten(),i].flatten().tolist() for i in x], vert=False, showfliers=False); #with isfinite we exclude zeros, infs, or nans which sometimes happen for e.g. local efficiency\n",
    "        #axes.set_xlabel('$M_{grown}/M$ at $L_{grown}=L$')\n",
    "        axes.set_xlabel('Grown vs. existing metric (at same length)')\n",
    "        axes.set_yticklabels([comp_labels[i] for i in x]);\n",
    "        axes.set_ylim([min(x)+0.5, max(x)+1.5])\n",
    "        # fig.autofmt_xdate(rotation=45)\n",
    "\n",
    "        axes.set_xlim([-0.5, 1.55])\n",
    "        axes.set_xticks([-0.301,0,0.301, 0.699, 1, 1.301])\n",
    "        axes.set_xticklabels([0.5, 1, 2,5, 10, 20])\n",
    "        axes.xaxis.set_minor_locator(matplotlib.ticker.FixedLocator(np.log10(np.concatenate((np.linspace(0,1,10, endpoint=False),np.linspace(1, 10,9, endpoint=False),np.linspace(10, 100,9, endpoint=False))))))\n",
    "        axes.text(1.5, 4.3, p + \" | \" + m, fontsize=10, horizontalalignment='right');\n",
    "        fig.savefig(PATH[\"plots\"] + 'grownvsexisting_poi_' + p + \"_\" + m + '.png', facecolor = \"white\", edgecolor = 'none', bbox_inches=\"tight\")"
   ]
  }
 ],
 "metadata": {
  "kernelspec": {
   "display_name": "OSMNX",
   "language": "python",
   "name": "osmnx"
  },
  "language_info": {
   "codemirror_mode": {
    "name": "ipython",
    "version": 3
   },
   "file_extension": ".py",
   "mimetype": "text/x-python",
   "name": "python",
   "nbconvert_exporter": "python",
   "pygments_lexer": "ipython3",
   "version": "3.8.2"
  }
 },
 "nbformat": 4,
 "nbformat_minor": 2
}
