{
 "cells": [
  {
   "cell_type": "markdown",
   "metadata": {},
   "source": [
    "# Step 9 - Supplements\n",
    "## Project: Growing Urban Bicycle Networks"
   ]
  },
  {
   "cell_type": "markdown",
   "metadata": {},
   "source": [
    "This notebook supplements some calculations.\n",
    "\n",
    "Contact: Michael Szell (michael.szell@gmail.com)  \n",
    "Created: 2021-02-15  \n",
    "Last modified: 2021-02-15"
   ]
  },
  {
   "cell_type": "markdown",
   "metadata": {},
   "source": [
    "## Preliminaries"
   ]
  },
  {
   "cell_type": "markdown",
   "metadata": {},
   "source": [
    "### Parameters"
   ]
  },
  {
   "cell_type": "code",
   "execution_count": null,
   "metadata": {},
   "outputs": [],
   "source": [
    "debug = True # If True, will produce plots and/or verbose output to double-check\n",
    "%run -i \"../parameters/parameters.py\""
   ]
  },
  {
   "cell_type": "markdown",
   "metadata": {},
   "source": [
    "### Setup"
   ]
  },
  {
   "cell_type": "code",
   "execution_count": null,
   "metadata": {},
   "outputs": [],
   "source": [
    "%run -i path.py\n",
    "%run -i setup.py\n",
    "\n",
    "%load_ext watermark\n",
    "%watermark -n -v -m -g -iv"
   ]
  },
  {
   "cell_type": "markdown",
   "metadata": {},
   "source": [
    "### Functions"
   ]
  },
  {
   "cell_type": "code",
   "execution_count": null,
   "metadata": {},
   "outputs": [],
   "source": [
    "%run -i functions.py"
   ]
  },
  {
   "cell_type": "markdown",
   "metadata": {},
   "source": [
    "## Calculate efficiencies on the simplified routed graphs"
   ]
  },
  {
   "cell_type": "code",
   "execution_count": null,
   "metadata": {},
   "outputs": [],
   "source": [
    "pois = [\"grid\", \"railwaystation\"]\n",
    "measures = [\"betweenness\", \"closeness\", \"random\"]\n",
    "combs = list(itertools.product(pois, measures))\n",
    "# combs = [combs[4]]\n",
    "pp.pprint(combs)\n"
   ]
  },
  {
   "cell_type": "code",
   "execution_count": null,
   "metadata": {
    "scrolled": true
   },
   "outputs": [],
   "source": [
    "for placeid, placeinfo in tqdm(cities.items(), desc = \"Cities\"):\n",
    "    print(placeid + \": Analyzing results\")\n",
    "\n",
    "    # Load networks\n",
    "    G_carall = csv_to_ig(PATH[\"data\"] + placeid + \"/\", placeid, 'carall')\n",
    "        \n",
    "    for c in combs:\n",
    "        poi_source = c[0]\n",
    "        prune_measure = c[1]\n",
    "\n",
    "        # Load POIs\n",
    "        with open(PATH[\"data\"] + placeid + \"/\" + placeid + '_poi_' + poi_source + '_nnidscarall.csv') as f:\n",
    "            nnids = [int(line.rstrip()) for line in f]\n",
    "\n",
    "        # Load results\n",
    "        filename = placeid + '_poi_' + poi_source + \"_\" + prune_measure\n",
    "        resultfile = open(PATH[\"results\"] + placeid + \"/\" + filename + \".pickle\",'rb')\n",
    "        res = pickle.load(resultfile)\n",
    "        resultfile.close()\n",
    "\n",
    "        # Calculate\n",
    "        # output contains lists for all the prune_quantile values of the corresponding results\n",
    "        output, covs = calculate_metrics_additively(res[\"GTs\"], res[\"GT_abstracts\"], res[\"prune_quantiles\"], G_carall, nnids, buffer_walk = buffer_walk, numnodepairs = numnodepairs, verbose = False, return_cov = True, Gexisting = {}, output = {\"efficiency_global_routed\": [], \"efficiency_local_routed\": []})\n",
    "\n",
    "        # Read old results\n",
    "        filename = placeid + '_poi_' + poi_source + \"_\" + prune_measure + \".csv\"\n",
    "        results_old = np.genfromtxt(PATH[\"results\"] + placeid + \"/\" + filename, delimiter=',', names = True)\n",
    "\n",
    "        # Stitch the results together\n",
    "        output_final = {}\n",
    "        for fieldname in results_old.dtype.names:\n",
    "            if fieldname != \"efficiency_global_routed\" and fieldname != \"efficiency_local_routed\":\n",
    "                output_final[fieldname] = list(results_old[fieldname])\n",
    "        for fieldname in list(output.keys()):\n",
    "            output_final[fieldname] = output[fieldname]\n",
    "\n",
    "        # Overwrite old stuff\n",
    "        write_result(output_final, \"dict\", placeid, poi_source, prune_measure, \".csv\")\n",
    "\n",
    "    #     # Testing the simplification\n",
    "    #     fig = initplot()\n",
    "    #     map_center = nxdraw(G_carall, \"carall\")\n",
    "    #     nxdraw(G_simplified, \"abstract\", map_center, weighted = 6)"
   ]
  },
  {
   "cell_type": "code",
   "execution_count": null,
   "metadata": {},
   "outputs": [],
   "source": [
    "# # Testing stuff\n",
    "# # print(ig.Graph.from_networkx(ox.simplify_graph(nx.MultiDiGraph(res['GTs'][1].to_networkx()))))\n",
    "# G = res['GTs'][1]\n",
    "# print(G)\n",
    "# G_temp = copy.deepcopy(G)\n",
    "# G_temp.es[\"length\"] = G_temp.es[\"weight\"]\n",
    "# output = ig.Graph.from_networkx(ox.simplify_graph(nx.MultiDiGraph(G_temp.to_networkx())).to_undirected())\n",
    "# print(output)\n",
    "# output.es[\"weight\"] = output.es[\"length\"]\n",
    "\n",
    "# # for e in res['GTs'][2].es:\n",
    "# #     print(e)"
   ]
  }
 ],
 "metadata": {
  "kernelspec": {
   "display_name": "OSMNX",
   "language": "python",
   "name": "osmnx"
  },
  "language_info": {
   "codemirror_mode": {
    "name": "ipython",
    "version": 3
   },
   "file_extension": ".py",
   "mimetype": "text/x-python",
   "name": "python",
   "nbconvert_exporter": "python",
   "pygments_lexer": "ipython3",
   "version": "3.8.2"
  }
 },
 "nbformat": 4,
 "nbformat_minor": 2
}
