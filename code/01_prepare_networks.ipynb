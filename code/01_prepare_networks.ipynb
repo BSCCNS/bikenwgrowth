{
 "cells": [
  {
   "cell_type": "markdown",
   "metadata": {},
   "source": [
    "# Step 1 - Prepare network data\n",
    "## Project: Algorithmic bicycle network design\n",
    "#### Michael Szell, Tyler Perlman, Sayat Mimar, Gourab Ghoshal, Roberta Sinatra"
   ]
  },
  {
   "cell_type": "markdown",
   "metadata": {},
   "source": [
    "This notebook downloads bicycle and street network data sets and prepares them for analysis.\n",
    "\n",
    "Contact: Michael Szell (michael.szell@gmail.com)  \n",
    "Created: 2020-06-09  \n",
    "Last modified: 2020-08-31"
   ]
  },
  {
   "cell_type": "markdown",
   "metadata": {},
   "source": [
    "## Preliminaries"
   ]
  },
  {
   "cell_type": "markdown",
   "metadata": {},
   "source": [
    "### Parameters"
   ]
  },
  {
   "cell_type": "code",
   "execution_count": null,
   "metadata": {},
   "outputs": [],
   "source": [
    "debug = False # If True, will produce plots and/or verbose output to double-check\n",
    "%run -i \"../parameters/parameters.py\""
   ]
  },
  {
   "cell_type": "markdown",
   "metadata": {},
   "source": [
    "### Setup"
   ]
  },
  {
   "cell_type": "code",
   "execution_count": null,
   "metadata": {},
   "outputs": [],
   "source": [
    "%run -i path.py\n",
    "%run -i setup.py\n",
    "\n",
    "%matplotlib inline\n",
    "%load_ext watermark\n",
    "%watermark -n -v -m -g -iv"
   ]
  },
  {
   "cell_type": "markdown",
   "metadata": {},
   "source": [
    "To check for nominatimstring:\n",
    "* Go to e.g. https://nominatim.openstreetmap.org/search.php?q=paris%2C+france&polygon_geojson=1&viewbox= and enter the search string. If a correct polygon (or multipolygon) pops up it should be fine.\n",
    "\n",
    "To get shapefiles:\n",
    "* Go to [Overpass](overpass-turbo.eu), to the city, and run:\n",
    "    `relation[\"boundary\"=\"administrative\"][\"name:en\"=\"Copenhagen Municipality\"]({{bbox}});(._;>;);out skel;`\n",
    "* Export: Download as GPX\n",
    "* Use QGIS to create a polygon, with Vector > Join Multiple Lines, and Processing Toolbox > Polygonize (see https://gis.stackexchange.com/questions/98320/connecting-two-line-ends-in-qgis-without-resorting-to-other-software and https://gis.stackexchange.com/questions/207463/convert-a-line-to-polygon)"
   ]
  },
  {
   "cell_type": "markdown",
   "metadata": {},
   "source": [
    "### Functions"
   ]
  },
  {
   "cell_type": "code",
   "execution_count": null,
   "metadata": {},
   "outputs": [],
   "source": [
    "%run -i functions.py"
   ]
  },
  {
   "cell_type": "markdown",
   "metadata": {},
   "source": [
    "## Download and wrangle data"
   ]
  },
  {
   "cell_type": "markdown",
   "metadata": {},
   "source": [
    "### Networks"
   ]
  },
  {
   "cell_type": "code",
   "execution_count": null,
   "metadata": {
    "scrolled": true
   },
   "outputs": [],
   "source": [
    "for placeid, placeinfo in cities.items():\n",
    "    if placeinfo[\"nominatimstring\"] != '':\n",
    "        location = ox.gdf_from_place(placeinfo[\"nominatimstring\"])\n",
    "        location = shapely.geometry.shape(location['geometry'][0])\n",
    "    else:\n",
    "        # https://gis.stackexchange.com/questions/113799/how-to-read-a-shapefile-in-python\n",
    "        shp = fiona.open(PATH[\"data\"] + placeid + \"/\" + placeid + \".shp\")\n",
    "        first = shp.next()\n",
    "        location = shapely.geometry.shape(first['geometry'])\n",
    "    \n",
    "    Gs = {}\n",
    "    for parameterid, parameterinfo in osmnxparameters.items():\n",
    "        try:\n",
    "            Gs[parameterid] = ox.graph_from_polygon(location, \n",
    "                                   network_type = parameterinfo['network_type'],\n",
    "                                   custom_filter = (parameterinfo['custom_filter']),\n",
    "                                   retain_all = True,\n",
    "                                   simplify = False)\n",
    "        except:\n",
    "            Gs[parameterid] = nx.empty_graph(create_using = nx.MultiDiGraph)\n",
    "            print(placeid + \": No OSM data for graph \" + parameterid + \". Created empty graph.\")\n",
    "        if parameterinfo['export']: ox_to_csv(Gs[parameterid], PATH[\"data\"] + placeid + \"/\", placeid, parameterid)\n",
    "\n",
    "    # Compose special cases biketrack, bikeable, biketrackcarall\n",
    "    parameterid = 'biketrack'\n",
    "    Gs[parameterid] = nx.compose_all([Gs['bike_cyclewaylefttrack'], Gs['bike_cyclewaytrack'], Gs['bike_highwaycycleway'], Gs['bike_bicycledesignated'], Gs['bike_cyclewayrighttrack']])\n",
    "    ox_to_csv(Gs[parameterid], PATH[\"data\"] + placeid + \"/\", placeid, parameterid)\n",
    "    \n",
    "    parameterid = 'bikeable'\n",
    "    Gs[parameterid] = nx.compose(Gs['biketrack'], Gs['car30']) \n",
    "    ox_to_csv(Gs[parameterid], PATH[\"data\"] + placeid + \"/\", placeid, parameterid)\n",
    "    \n",
    "    parameterid = 'biketrackcarall'\n",
    "    Gs[parameterid] = nx.compose(Gs['biketrack'], Gs['carall']) # Order is important\n",
    "    ox_to_csv(Gs[parameterid], PATH[\"data\"] + placeid + \"/\", placeid, parameterid)\n",
    "    \n",
    "    if debug:\n",
    "        print(len(Gs['carall'].vs), len(Gs['carall'].es))\n",
    "        print(len(Gs['biketrack'].vs), len(Gs['biketrack'].es))\n",
    "        print(len(Gs['biketrackcarall'].vs), len(Gs['biketrackcarall'].es))\n",
    "        print(len(Gs['biketrackcarall'].vs)-len(Gs['biketrack'].vs), len(Gs['biketrackcarall'].es)-len(Gs['biketrack'].es))\n",
    "        \n",
    "    for parameterid in networktypes:\n",
    "        ox_to_csv(ox.simplify_graph(Gs[parameterid]), PATH[\"data\"] + placeid + \"/\", placeid, parameterid, \"_simplified\")"
   ]
  },
  {
   "cell_type": "code",
   "execution_count": null,
   "metadata": {},
   "outputs": [],
   "source": [
    "Audio(sound_file, autoplay=True)"
   ]
  }
 ],
 "metadata": {
  "kernelspec": {
   "display_name": "OSMNX",
   "language": "python",
   "name": "osmnx"
  },
  "language_info": {
   "codemirror_mode": {
    "name": "ipython",
    "version": 3
   },
   "file_extension": ".py",
   "mimetype": "text/x-python",
   "name": "python",
   "nbconvert_exporter": "python",
   "pygments_lexer": "ipython3",
   "version": "3.8.2"
  }
 },
 "nbformat": 4,
 "nbformat_minor": 2
}
