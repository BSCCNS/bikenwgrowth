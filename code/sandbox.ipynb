{
 "cells": [
  {
   "cell_type": "markdown",
   "metadata": {},
   "source": [
    "# Sandbox for testing code\n",
    "## Project: Algorithmic bicycle network design\n",
    "#### Michael Szell, Tyler Perlman, Sayat Mimar, Gourab Ghoshal, Roberta Sinatra"
   ]
  },
  {
   "cell_type": "markdown",
   "metadata": {},
   "source": [
    "## Preliminaries"
   ]
  },
  {
   "cell_type": "markdown",
   "metadata": {},
   "source": [
    "### Parameters"
   ]
  },
  {
   "cell_type": "code",
   "execution_count": null,
   "metadata": {},
   "outputs": [],
   "source": [
    "debug = False # If True, will produce plots and/or verbose output to double-check\n",
    "%run -i \"../parameters/parameters.py\""
   ]
  },
  {
   "cell_type": "markdown",
   "metadata": {},
   "source": [
    "### Setup"
   ]
  },
  {
   "cell_type": "code",
   "execution_count": null,
   "metadata": {},
   "outputs": [],
   "source": [
    "%run -i path.py\n",
    "%run -i setup.py\n",
    "\n",
    "%load_ext watermark\n",
    "%watermark -n -v -m -g -iv"
   ]
  },
  {
   "cell_type": "markdown",
   "metadata": {},
   "source": [
    "### Functions"
   ]
  },
  {
   "cell_type": "code",
   "execution_count": null,
   "metadata": {},
   "outputs": [],
   "source": [
    "%run -i functions.py"
   ]
  },
  {
   "cell_type": "markdown",
   "metadata": {},
   "source": [
    "## Delete plots"
   ]
  },
  {
   "cell_type": "code",
   "execution_count": null,
   "metadata": {},
   "outputs": [],
   "source": [
    "for folder, subfolders, files in os.walk(PATH[\"plots\"]):\n",
    "    for file in files:\n",
    "        if not file.endswith('_analysis_poi_grid_betweenness.png'):\n",
    "            os.remove(os.path.join(folder, file))\n",
    "            \n",
    "for folder, subfolders, files in os.walk(PATH[\"plots_networks\"]):\n",
    "    for file in files:\n",
    "        if file.endswith('_analysis_poi_grid_betweenness.png'):\n",
    "            os.remove(os.path.join(folder, file))"
   ]
  },
  {
   "cell_type": "markdown",
   "metadata": {},
   "source": [
    "## Graph overlap"
   ]
  },
  {
   "cell_type": "code",
   "execution_count": null,
   "metadata": {
    "scrolled": false
   },
   "outputs": [],
   "source": [
    "%run -i functions.py\n",
    "%run -i \"../parameters/parameters.py\"\n",
    "for placeid, placeinfo in cities.items():\n",
    "\n",
    "    # Load networks\n",
    "    G_carall = csv_to_ig(PATH[\"data\"] + placeid + \"/\", placeid, 'carall')\n",
    "    Gs = {}\n",
    "    for networktype in networktypes:\n",
    "        Gs[networktype] = csv_to_ig(PATH[\"data\"] + placeid + \"/\", placeid, networktype)   \n",
    "    \n",
    "    # Load POIs\n",
    "    with open(PATH[\"data\"] + placeid + \"/\" + placeid + '_poi_' + poi_source + '_nnidscarall.csv') as f:\n",
    "        nnids = [int(line.rstrip()) for line in f]\n",
    "            \n",
    "    # Load results\n",
    "    filename = placeid + '_poi_' + poi_source + \"_\" + prune_measure\n",
    "    resultfile = open(PATH[\"results\"] + placeid + \"/\" + filename + \".pickle\",'rb')\n",
    "    res = pickle.load(resultfile)\n",
    "    resultfile.close()\n",
    "    \n",
    "    \n",
    "    # Test\n",
    "    G1 = copy.deepcopy(Gs[\"biketrack\"])\n",
    "    G2 = copy.deepcopy(res[\"GTs\"][-1])\n",
    "    Ginter = intersect_igraphs(G1,G2)\n",
    "    \n",
    "    print(edge_lengths(G1), edge_lengths(G2), edge_lengths(Ginter))\n",
    "    \n",
    "    fig = plt.figure(figsize=(plotparam[\"bbox\"][0]/plotparam[\"dpi\"], plotparam[\"bbox\"][1]/plotparam[\"dpi\"]), dpi=plotparam[\"dpi\"]); plt.axes().set_aspect('equal')\n",
    "    map_center = nxdraw(G_carall, \"carall\")\n",
    "    nxdraw(G1, \"biketrack\", map_center, list(set([v[\"id\"] for v in G1.vs]).intersection(set([v[\"id\"] for v in G_carall.vs]))))\n",
    "    nxdraw(G2, \"bikegrown_nonodes\", map_center)\n",
    "    nxdraw(Ginter, \"highlight\", map_center)\n",
    "    "
   ]
  },
  {
   "cell_type": "code",
   "execution_count": null,
   "metadata": {},
   "outputs": [],
   "source": [
    "Audio(sound_file, autoplay=True)"
   ]
  },
  {
   "cell_type": "markdown",
   "metadata": {},
   "source": [
    "## Plot carminusbike network to see component growth (05_plot_results)"
   ]
  },
  {
   "cell_type": "code",
   "execution_count": null,
   "metadata": {},
   "outputs": [],
   "source": [
    "%%capture\n",
    "for placeid, placeinfo in cities.items():\n",
    "    print(placeid + \": Plotting networks\")\n",
    "    \n",
    "    # EXISTING INFRASTRUCTURE\n",
    "    # Load networks\n",
    "    G_biketrack = csv_to_ig(PATH[\"data\"] + placeid + \"/\", placeid, 'biketrack')\n",
    "    G_carall = csv_to_ig(PATH[\"data\"] + placeid + \"/\", placeid, 'carall')\n",
    "    G_biketrackcarall = csv_to_ig(PATH[\"data\"] + placeid + \"/\", placeid, 'biketrackcarall')\n",
    "    G_bikeable = csv_to_ig(PATH[\"data\"] + placeid + \"/\", placeid, 'bikeable')\n",
    "    map_center = nxdraw(G_carall, \"carall\")\n",
    "\n",
    "    # Load POIs\n",
    "    with open(PATH[\"data\"] + placeid + \"/\" + placeid + '_poi_' + poi_source + '_nnidscarall.csv') as f:\n",
    "        nnids = [int(line.rstrip()) for line in f]\n",
    "    nodesize_poi = nodesize_from_pois(nnids)\n",
    "    \n",
    "    # Load results\n",
    "    filename = placeid + '_poi_' + poi_source + \"_\" + prune_measure + \".pickle\"\n",
    "    with open(PATH[\"results\"] + placeid + \"/\" + filename, 'rb') as f:\n",
    "        res = pickle.load(f)\n",
    "    if debug: pp.pprint(res)\n",
    "        \n",
    "    G_carminusbike = copy.deepcopy(G_carall)\n",
    "    # PLOT all together (this can take some minutes)\n",
    "    for GT, prune_quantile in zip(res[\"GTs\"], res[\"prune_quantiles\"]):\n",
    "        delete_overlaps(G_carminusbike, GT)\n",
    "        fig = initplot()\n",
    "        nxdraw(G_carminusbike, \"carall\")\n",
    "#         nxdraw(GT, \"b'kegrown\", map_center, nodesize = nodesize_grown)\n",
    "        nxdraw(G_carall, \"poi_unreached\", map_center, nnids, \"nx.draw_networkx_nodes\", nodesize_poi)\n",
    "        nxdraw(G_carall, \"poi_reached\", map_center, list(set([v[\"id\"] for v in GT.vs]).intersection(set(nnids))), \"nx.draw_networkx_nodes\", nodesize_poi)\n",
    "        plt.savefig(PATH[\"plots\"] + placeid + \"/\" + placeid + '_carminusGT_poi_' + poi_source + \"_\" + prune_measures[prune_measure] + \"{:.3f}\".format(prune_quantile) + '.png', bbox_inches=\"tight\", dpi=plotparam[\"dpi\"])\n",
    "        plt.close()"
   ]
  }
 ],
 "metadata": {
  "kernelspec": {
   "display_name": "OSMNX",
   "language": "python",
   "name": "osmnx"
  },
  "language_info": {
   "codemirror_mode": {
    "name": "ipython",
    "version": 3
   },
   "file_extension": ".py",
   "mimetype": "text/x-python",
   "name": "python",
   "nbconvert_exporter": "python",
   "pygments_lexer": "ipython3",
   "version": "3.8.2"
  }
 },
 "nbformat": 4,
 "nbformat_minor": 2
}
