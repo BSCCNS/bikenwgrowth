{
 "cells": [
  {
   "cell_type": "markdown",
   "metadata": {},
   "source": [
    "# Points of interest based bicycle network generation\n",
    "## Project: Bicycle network analysis with Gourab, Sayat, Tyler, Michael, Roberta"
   ]
  },
  {
   "cell_type": "markdown",
   "metadata": {},
   "source": [
    "This notebook follows the transit-oriented development approach of palominos2020ica and applies cardillo2006spp: Take the greedy triangulation between railway/underground stations (or other points of interest). This is the cold start bicycle network generation process which creates bicycle networks from scratch.\n",
    "\n",
    "Contact: Michael Szell (michael.szell@gmail.com)  \n",
    "Created: 2020-06-18  \n",
    "Last modified: 2020-07-07"
   ]
  },
  {
   "cell_type": "markdown",
   "metadata": {},
   "source": [
    "To-do list POI selection:\n",
    "* Pop density: https://medium.com/@danielmoyo/raster-data-in-python-part-i-reading-and-visualising-raster-data-95cb072fcbfa\n",
    "* Pop + workplace density (business?)\n",
    "* Grid"
   ]
  },
  {
   "cell_type": "markdown",
   "metadata": {},
   "source": [
    "To-do list writing results:\n",
    "* cost (length)\n",
    "* length / carlength\n",
    "* coverage\n",
    "* directness\n",
    "* compare with existing bike infra"
   ]
  },
  {
   "cell_type": "markdown",
   "metadata": {},
   "source": [
    "## Preliminaries"
   ]
  },
  {
   "cell_type": "markdown",
   "metadata": {},
   "source": [
    "### Imports and magics"
   ]
  },
  {
   "cell_type": "code",
   "execution_count": null,
   "metadata": {
    "scrolled": false
   },
   "outputs": [],
   "source": [
    "import networkx as nx\n",
    "import igraph as ig\n",
    "import osmnx as ox\n",
    "import numpy as np\n",
    "import itertools\n",
    "from matplotlib import cm\n",
    "from haversine import haversine\n",
    "import pandas as pd\n",
    "from shapely.geometry import Point,MultiPoint,LineString,Polygon\n",
    "import pandas as pd\n",
    "import geopandas as gpd\n",
    "import csv\n",
    "import copy\n",
    "import math\n",
    "\n",
    "%matplotlib inline\n",
    "import matplotlib.pyplot as plt\n",
    "\n",
    "import watermark\n",
    "%load_ext watermark"
   ]
  },
  {
   "cell_type": "code",
   "execution_count": null,
   "metadata": {
    "scrolled": false
   },
   "outputs": [],
   "source": [
    "%watermark -n -v -m -g -iv"
   ]
  },
  {
   "cell_type": "markdown",
   "metadata": {},
   "source": [
    "## Parameters"
   ]
  },
  {
   "cell_type": "code",
   "execution_count": null,
   "metadata": {
    "scrolled": false
   },
   "outputs": [],
   "source": [
    "placeid = \"paris\"\n",
    "prune_measure = \"betweenness\"\n",
    "poi_source = \"tod\" # popdensity, grid\n",
    "\n",
    "prune_quantiles = [x/20 for x in list(range(1, 21))] # The quantiles where the GT should be pruned using the prune_measure\n",
    "prune_measures = {\"betweenness\": \"BWq\", \"closeness\": \"CCq\"}\n",
    "datapath = \"../data/\"\n",
    "outpath = \"../output/\"\n",
    "\n",
    "# Graph plotting\n",
    "ymirrored = False"
   ]
  },
  {
   "cell_type": "markdown",
   "metadata": {},
   "source": [
    "### Functions"
   ]
  },
  {
   "cell_type": "code",
   "execution_count": null,
   "metadata": {
    "scrolled": false
   },
   "outputs": [],
   "source": [
    "# Graph plotting preparation functions\n",
    "def my_plot_reset(G, nids = False):\n",
    "    reset_plot_attributes(G)\n",
    "    color_nodes(G, \"red\", nids)\n",
    "    size_nodes(G, 8, nids)\n",
    "\n",
    "def reset_plot_attributes(G):\n",
    "    \"\"\"Resets node attributes for plotting.\n",
    "    All black and size 0.\n",
    "    \"\"\"\n",
    "    G.vs[\"color\"] = \"black\"\n",
    "    G.vs[\"size\"] = 0\n",
    "        \n",
    "def color_nodes(G, color = \"blue\", nids = False, use_id = True):\n",
    "    \"\"\"Sets the color attribute of a set of nodes nids.\n",
    "    \"\"\"\n",
    "    if nids is False:\n",
    "        nids = [v.index for v in G.vs]\n",
    "        use_id = False\n",
    "    if use_id:\n",
    "        for nid in set(nids):\n",
    "            G.vs.find(id = nid)[\"color\"] = color\n",
    "    else:\n",
    "        G.vs[nids][\"color\"] = color\n",
    "\n",
    "def size_nodes(G, size = 5, nids = False, use_id = True):\n",
    "    \"\"\"Sets the size attribute of a set of nodes nids.\n",
    "    \"\"\"\n",
    "    if nids is False:\n",
    "        nids = [v.index for v in G.vs]\n",
    "        use_id = False\n",
    "    if use_id:\n",
    "        for nid in set(nids):\n",
    "            G.vs.find(id = nid)[\"size\"] = size\n",
    "    else:\n",
    "        G.vs[nids][\"size\"] = size\n",
    "\n",
    "def color_edges(G, color = \"blue\", eids = False):\n",
    "    \"\"\"Sets the color attribute of a set of edge nids.\n",
    "    \"\"\"\n",
    "    if eids is False:\n",
    "        G.es[\"color\"] = color\n",
    "    else:\n",
    "        G.es[eids][\"color\"] = color\n",
    "        \n",
    "def width_edges(G, width = 1, eids = False):\n",
    "    \"\"\"Sets the width attribute of a set of edge nids.\n",
    "    \"\"\"\n",
    "    if eids is False:\n",
    "        G.es[\"width\"] = width\n",
    "    else:\n",
    "        G.es[eids][\"width\"] = width\n",
    "        \n",
    "# Other functions\n",
    "def round_coordinates(G, r = 7):\n",
    "    for v in G.vs:\n",
    "        G.vs[v.index][\"x\"] = round(G.vs[v.index][\"x\"], r)\n",
    "        G.vs[v.index][\"y\"] = round(G.vs[v.index][\"y\"], r)\n",
    "\n",
    "def mirror_y(G):\n",
    "    for v in G.vs:\n",
    "        y = G.vs[v.index][\"y\"]\n",
    "        G.vs[v.index][\"y\"] = -y\n",
    "\n",
    "def dist(v1,v2):\n",
    "    dist = haversine((v1['x'],v1['y']),(v2['x'],v2['y']))\n",
    "    return dist\n",
    "\n",
    "\n",
    "def osm_to_ig(node, edge):\n",
    "    \"\"\" Turns a node and edge dataframe into an igraph Graph.\n",
    "    \"\"\"\n",
    "    \n",
    "    G = ig.Graph(directed = False)\n",
    "\n",
    "    x_coords = node['x'].tolist() \n",
    "    y_coords = node['y'].tolist()\n",
    "    ids = node['osmid'].tolist()\n",
    "    coords = []\n",
    "\n",
    "    for i in range(len(x_coords)):\n",
    "        G.add_vertex(x = x_coords[i], y = y_coords[i], id = ids[i])\n",
    "        coords.append((x_coords[i], y_coords[i]))\n",
    "\n",
    "    id_dict = dict(zip(G.vs['id'], np.arange(0, G.vcount()).tolist()))\n",
    "    coords_dict = dict(zip(np.arange(0, G.vcount()).tolist(), coords))\n",
    "\n",
    "    edge_list = []\n",
    "    for i in range(len(edge)):\n",
    "        edge_list.append([id_dict.get(edge['u'][i]), id_dict.get(edge['v'][i])])\n",
    "        \n",
    "    G.add_edges(edge_list)\n",
    "    G.simplify()\n",
    "    new_edges = G.get_edgelist()\n",
    "    \n",
    "    distances_list = []\n",
    "    for i in range(len(new_edges)):\n",
    "        distances_list.append(haversine(coords_dict.get(new_edges[i][0]), coords_dict.get(new_edges[i][1])))\n",
    "\n",
    "    G.es()['weight'] = distances_list\n",
    "    \n",
    "    return G"
   ]
  },
  {
   "cell_type": "markdown",
   "metadata": {},
   "source": [
    "## Exploratory Data Analysis"
   ]
  },
  {
   "cell_type": "markdown",
   "metadata": {},
   "source": [
    "### Load networks and POIs"
   ]
  },
  {
   "cell_type": "code",
   "execution_count": null,
   "metadata": {
    "scrolled": false
   },
   "outputs": [],
   "source": [
    "node_carall = pd.read_csv(datapath+placeid+'_carall_nodes.csv')\n",
    "edge_carall = pd.read_csv(datapath+placeid+'_carall_edges.csv')\n",
    "G_carall = osm_to_ig(node_carall, edge_carall)\n",
    "\n",
    "with open(datapath+placeid+'_poi_railwaystation_nnidscarall.csv') as f:\n",
    "    nnids = [int(line.rstrip()) for line in f]\n",
    "\n",
    "round_coordinates(G_carall)\n",
    "\n",
    "# This loop is only for plotting, executed once, to mirror all y values\n",
    "if not ymirrored:\n",
    "    mirror_y(G_carall)\n",
    "    ymirrored = True"
   ]
  },
  {
   "cell_type": "markdown",
   "metadata": {},
   "source": [
    "## Plot the starting point"
   ]
  },
  {
   "cell_type": "code",
   "execution_count": null,
   "metadata": {
    "scrolled": false
   },
   "outputs": [],
   "source": [
    "my_plot_reset(G_carall, nnids)\n",
    "ig.plot(G_carall, outpath + placeid + '_carall_poirailway.png', bbox=(800,800))\n",
    "# ig.plot(G_carall)"
   ]
  },
  {
   "cell_type": "markdown",
   "metadata": {},
   "source": [
    "## Routing (shortest paths)"
   ]
  },
  {
   "cell_type": "code",
   "execution_count": null,
   "metadata": {
    "scrolled": false
   },
   "outputs": [],
   "source": [
    "class Point:\n",
    "    def __init__(self,x,y):\n",
    "        self.x = x\n",
    "        self.y = y\n",
    "        \n",
    "def ccw(A,B,C):\n",
    "    return (C.y-A.y) * (B.x-A.x) > (B.y-A.y) * (C.x-A.x)\n",
    "\n",
    "def segments_intersect(A,B,C,D):\n",
    "    \"\"\"Check if two line segments intersect (except for colinearity)\n",
    "    Returns true if line segments AB and CD intersect properly.\n",
    "    Adapted from: https://stackoverflow.com/questions/3838329/how-can-i-check-if-two-segments-intersect\n",
    "    \"\"\"\n",
    "    if (A.x == C.x and A.y == C.y) or (A.x == D.x and A.y == D.y) or (B.x == C.x and B.y == C.y) or (B.x == D.x and B.y == D.y): return False # If the segments share an endpoint they do not intersect properly\n",
    "    return ccw(A,C,D) != ccw(B,C,D) and ccw(A,B,C) != ccw(A,B,D)\n",
    "\n",
    "def new_edge_intersects(G, enew):\n",
    "    \"\"\"Given a graph G and a potential new edge enew,\n",
    "    check if enew will intersect any old edge.\n",
    "    \"\"\"\n",
    "    E1 = Point(enew[0], enew[1])\n",
    "    E2 = Point(enew[2], enew[3])\n",
    "    for e in G.es():\n",
    "        O1 = Point(e.source_vertex[\"x\"], e.source_vertex[\"y\"])\n",
    "        O2 = Point(e.target_vertex[\"x\"], e.target_vertex[\"y\"])\n",
    "        if segments_intersect(E1, E2, O1, O2):\n",
    "            return True\n",
    "    return False\n",
    "    \n",
    "\n",
    "def greedy_triangulation(GT, poipairs, prune_quantile = 1, prune_measure = \"betweenness\"):\n",
    "    \"\"\"Greedy Triangulation (GT) of a graph GT with an empty edge set.\n",
    "    Distances between pairs of nodes are given by poipairs.\n",
    "    \n",
    "    The GT connects pairs of nodes in ascending order of their distance provided\n",
    "    that no edge crossing is introduced. It leads to a maximal connected planar\n",
    "    graph, while minimizing the total length of edges considered. \n",
    "    See: cardillo2006spp\n",
    "    \"\"\"\n",
    "    \n",
    "    for poipair, poipair_distance in poipairs:\n",
    "        poipair_ind = (GT.vs.find(id = poipair[0]).index, GT.vs.find(id = poipair[1]).index)\n",
    "        if not new_edge_intersects(GT, (GT.vs[poipair_ind[0]][\"x\"], GT.vs[poipair_ind[0]][\"y\"], GT.vs[poipair_ind[1]][\"x\"], GT.vs[poipair_ind[1]][\"y\"])):\n",
    "            GT.add_edge(poipair_ind[0], poipair_ind[1], weight = poipair_distance)\n",
    "            \n",
    "    # Get the measure for pruning\n",
    "    if prune_measure == \"betweenness\":\n",
    "        BW = GT.edge_betweenness(directed = False, weights = \"weight\")\n",
    "        qt = np.quantile(BW, 1-prune_quantile)\n",
    "        sub_edges = []\n",
    "        for c, e in enumerate(GT.es):\n",
    "            if BW[c] >= qt: \n",
    "                sub_edges.append(c)\n",
    "            GT.es[c][\"bw\"] = BW[c]\n",
    "            GT.es[c][\"width\"] = math.sqrt(BW[c]+1)*0.5\n",
    "        # Prune\n",
    "        GT = GT.subgraph_edges(sub_edges)\n",
    "    elif prune_measure == \"closeness\":\n",
    "        CC = GT.closeness(vertices = None, weights = \"weight\")\n",
    "        qt = np.quantile(CC, 1-prune_quantile)\n",
    "        sub_nodes = []\n",
    "        for c, v in enumerate(GT.vs):\n",
    "            if CC[c] >= qt: \n",
    "                sub_nodes.append(c)\n",
    "            GT.vs[c][\"cc\"] = CC[c]\n",
    "        GT = GT.induced_subgraph(sub_nodes)\n",
    "    \n",
    "    return GT\n",
    "    \n",
    "\n",
    "def greedy_triangulation_routing(G, pois, prune_quantiles = [1], prune_measure = \"betweenness\"):\n",
    "    \"\"\"Greedy Triangulation (GT) of a graph G's node subset pois,\n",
    "    then routing to connect the GT (up to a quantile of betweenness\n",
    "    betweenness_quantile).\n",
    "    G is an ipgraph graph, pois is a list of node ids.\n",
    "    \n",
    "    The GT connects pairs of nodes in ascending order of their distance provided\n",
    "    that no edge crossing is introduced. It leads to a maximal connected planar\n",
    "    graph, while minimizing the total length of edges considered. \n",
    "    See: cardillo2006spp\n",
    "    \n",
    "    Distance here is routing distance, while edge crossing is checked on an abstract \n",
    "    level.\n",
    "    \"\"\"\n",
    "    \n",
    "    # GT_abstract is the GT with same nodes but euclidian links to keep track of edge crossings\n",
    "    pois_indices = set()\n",
    "    for poi in pois:\n",
    "        pois_indices.add(G.vs.find(id = poi).index)\n",
    "    G_temp = copy.deepcopy(G)\n",
    "    for e in G_temp.es: # delete all edges\n",
    "        G_temp.es.delete(e)\n",
    "        \n",
    "    poipairs = poipairs_by_distance(G, pois, True)\n",
    "    \n",
    "    GT_abstracts = []\n",
    "    GTs = []\n",
    "    for prune_quantile in prune_quantiles:\n",
    "        GT_abstract = copy.deepcopy(G_temp.subgraph(pois_indices))\n",
    "        GT_abstract = greedy_triangulation(GT_abstract, poipairs, prune_quantile, prune_measure)\n",
    "        GT_abstracts.append(GT_abstract)\n",
    "        \n",
    "        # Get node pairs we need to route, sorted by distance\n",
    "        routenodepairs = {}\n",
    "        for e in GT_abstract.es:\n",
    "            routenodepairs[(e.source_vertex[\"id\"], e.target_vertex[\"id\"])] = e[\"weight\"]\n",
    "        routenodepairs = sorted(routenodepairs.items(), key = lambda x: x[1])\n",
    "\n",
    "        # Do the routing\n",
    "        GT_indices = set()\n",
    "        for poipair, poipair_distance in routenodepairs:\n",
    "            poipair_ind = (G.vs.find(id = poipair[0]).index, G.vs.find(id = poipair[1]).index)\n",
    "            sp = set(G.get_shortest_paths(poipair_ind[0], poipair_ind[1], weights = \"weight\", output = \"vpath\")[0])\n",
    "            GT_indices = GT_indices.union(sp)\n",
    "\n",
    "        GT = G.induced_subgraph(GT_indices)\n",
    "        GTs.append(GT)\n",
    "    \n",
    "    return (GTs, GT_abstracts)\n",
    "    \n",
    "    \n",
    "def poipairs_by_distance(G, pois, return_distances = False):\n",
    "    \"\"\"Calculates the (weighted) graph distances on G for a subset of nodes pois.\n",
    "    Returns all pairs of poi ids in ascending order of their distance. \n",
    "    If return_distances, then distances are also returned.\n",
    "    \"\"\"\n",
    "    \n",
    "    # Get poi indices\n",
    "    indices = []\n",
    "    for poi in pois:\n",
    "        indices.append(G_carall.vs.find(id = poi).index)\n",
    "    \n",
    "    # Get sequences of nodes and edges in shortest paths between all pairs of pois\n",
    "    poi_nodes = []\n",
    "    poi_edges = []\n",
    "    for c, v in enumerate(indices):\n",
    "        poi_nodes.append(G.get_shortest_paths(v, indices[c:], weights = \"weight\", output = \"vpath\"))\n",
    "        poi_edges.append(G.get_shortest_paths(v, indices[c:], weights = \"weight\", output = \"epath\"))\n",
    "\n",
    "    # Sum up weights (distances) of all paths\n",
    "    poi_dist = {}\n",
    "    for paths_n, paths_e in zip(poi_nodes, poi_edges):\n",
    "        for path_n, path_e in zip(paths_n, paths_e):\n",
    "            # Sum up distances of path segments from first to last node\n",
    "            path_dist = sum([G.es[e]['weight'] for e in path_e])\n",
    "            if path_dist > 0:\n",
    "                poi_dist[(path_n[0],path_n[-1])] = path_dist\n",
    "            \n",
    "    temp = sorted(poi_dist.items(), key = lambda x: x[1])\n",
    "    # Back to ids\n",
    "    output = []\n",
    "    for p in temp:\n",
    "        output.append([(G.vs[p[0][0]][\"id\"], G.vs[p[0][1]][\"id\"]), p[1]])\n",
    "    \n",
    "    if return_distances:\n",
    "        return output\n",
    "    else:\n",
    "        return [o[0] for o in output]"
   ]
  },
  {
   "cell_type": "code",
   "execution_count": null,
   "metadata": {},
   "outputs": [],
   "source": [
    "(GTs, GT_abstracts) = greedy_triangulation_routing(G_carall, nnids, prune_quantiles, prune_measure)"
   ]
  },
  {
   "cell_type": "markdown",
   "metadata": {},
   "source": [
    "## Plot results"
   ]
  },
  {
   "cell_type": "markdown",
   "metadata": {},
   "source": [
    "### Plot the abstract Greedy Triangulation"
   ]
  },
  {
   "cell_type": "code",
   "execution_count": null,
   "metadata": {
    "scrolled": false
   },
   "outputs": [],
   "source": [
    "for GT_abstract, prune_quantile in zip(GT_abstracts, prune_quantiles):\n",
    "    color_nodes(GT_abstract, \"red\", False, False)\n",
    "    size_nodes(GT_abstract, 4, False, False)\n",
    "    ig.plot(GT_abstract, outpath + placeid + '_GTsabstract_' + prune_measures[prune_measure] + \"{:.2f}\".format(prune_quantile) + '.png', bbox=(800,800))"
   ]
  },
  {
   "cell_type": "markdown",
   "metadata": {},
   "source": [
    "### Plot just the bicycle network"
   ]
  },
  {
   "cell_type": "code",
   "execution_count": null,
   "metadata": {
    "scrolled": false
   },
   "outputs": [],
   "source": [
    "for GT, prune_quantile in zip(GTs, prune_quantiles):\n",
    "    size_nodes(GT, 0)\n",
    "    width_edges(GT, 2)\n",
    "    color_edges(GT, \"blue\")\n",
    "    ig.plot(GT, outpath + placeid + '_GTbonly_' + prune_measures[prune_measure] + \"{:.2f}\".format(prune_quantile) + '.png', bbox=(800,800))"
   ]
  },
  {
   "cell_type": "markdown",
   "metadata": {},
   "source": [
    "### Plot all together"
   ]
  },
  {
   "cell_type": "code",
   "execution_count": null,
   "metadata": {},
   "outputs": [],
   "source": [
    "for GT, prune_quantile in zip(GTs, prune_quantiles):\n",
    "    my_plot_reset(G_carall, nnids)\n",
    "    color_nodes(G_carall, \"red\", nnids)\n",
    "    size_nodes(G_carall, 8, nnids)\n",
    "    GT_ids = [v[\"id\"] for v in GT.vs]  \n",
    "    color_nodes(G_carall, \"blue\", GT_ids)\n",
    "    size_nodes(G_carall, 5, GT_ids)\n",
    "    ig.plot(G_carall, outpath + placeid + '_GTall_' + prune_measures[prune_measure] + \"{:.2f}\".format(prune_quantile) + '.png', bbox=(800,800))"
   ]
  }
 ],
 "metadata": {
  "kernelspec": {
   "display_name": "OSMNX",
   "language": "python",
   "name": "osmnx"
  },
  "language_info": {
   "codemirror_mode": {
    "name": "ipython",
    "version": 3
   },
   "file_extension": ".py",
   "mimetype": "text/x-python",
   "name": "python",
   "nbconvert_exporter": "python",
   "pygments_lexer": "ipython3",
   "version": "3.8.2"
  }
 },
 "nbformat": 4,
 "nbformat_minor": 2
}
