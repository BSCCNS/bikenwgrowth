{
 "cells": [
  {
   "cell_type": "markdown",
   "metadata": {},
   "source": [
    "# Step 7 - Exporting graphs for external visualization, further calculations\n",
    "## Project: Algorithmic bicycle network growth"
   ]
  },
  {
   "cell_type": "markdown",
   "metadata": {},
   "source": [
    "This notebook takes the produced graphs from 03_poi_based_generation and exports the data in a format in which it can be used in an external visualization, or for further calculations.\n",
    "\n",
    "Contact: Michael Szell (michael.szell@gmail.com)  \n",
    "Created: 2020-09-25  \n",
    "Last modified: 2021-02-22"
   ]
  },
  {
   "cell_type": "markdown",
   "metadata": {},
   "source": [
    "## Preliminaries"
   ]
  },
  {
   "cell_type": "markdown",
   "metadata": {},
   "source": [
    "### Parameters"
   ]
  },
  {
   "cell_type": "code",
   "execution_count": null,
   "metadata": {},
   "outputs": [],
   "source": [
    "debug = True # If True, will produce plots and/or verbose output to double-check\n",
    "%run -i \"../parameters/parameters.py\""
   ]
  },
  {
   "cell_type": "markdown",
   "metadata": {},
   "source": [
    "### Setup"
   ]
  },
  {
   "cell_type": "code",
   "execution_count": null,
   "metadata": {},
   "outputs": [],
   "source": [
    "%run -i path.py\n",
    "%run -i setup.py\n",
    "\n",
    "%load_ext watermark\n",
    "%watermark -n -v -m -g -iv"
   ]
  },
  {
   "cell_type": "markdown",
   "metadata": {},
   "source": [
    "### Functions"
   ]
  },
  {
   "cell_type": "code",
   "execution_count": null,
   "metadata": {},
   "outputs": [],
   "source": [
    "%run -i functions.py"
   ]
  },
  {
   "cell_type": "markdown",
   "metadata": {},
   "source": [
    "## Igraph picklez of simplified carconstrictedbike networks"
   ]
  },
  {
   "cell_type": "code",
   "execution_count": null,
   "metadata": {},
   "outputs": [],
   "source": [
    "for placeid, placeinfo in tqdm(cities.items(), desc = \"Cities\"):\n",
    "    print(placeid + \": Exporting carconstrictedbike to picklez\")\n",
    "    \n",
    "    # Load existing\n",
    "    G_carall = csv_to_ig(PATH[\"data\"] + placeid + \"/\", placeid, 'carall')\n",
    "    with open(PATH[\"exports\"] + placeid + \"/\" + placeid + '_carall.picklez', 'wb') as f:\n",
    "        G_carall_simplified = simplify_ig(G_carall)\n",
    "        G_carall_simplified.write_picklez(fname = f)\n",
    "    if debug: map_center = nxdraw(G_carall, \"carall\")\n",
    "            \n",
    "    # Load results\n",
    "    filename = placeid + '_poi_' + poi_source + \"_\" + prune_measure\n",
    "    resultfile = open(PATH[\"results\"] + placeid + \"/\" + filename + \".pickle\",'rb')\n",
    "    res = pickle.load(resultfile)\n",
    "    resultfile.close()\n",
    "    \n",
    "    if debug:\n",
    "        fig = initplot()\n",
    "        nxdraw(G_carall_simplified, \"abstract\", map_center, nodesize = 0, weighted = True, maxwidthsquared = 500/100)\n",
    "        plt.savefig(PATH[\"exports\"] + placeid + \"/\" + placeid + '_carallweighted.png', bbox_inches=\"tight\", dpi=plotparam[\"dpi\"])\n",
    "        plt.close()\n",
    "    for GT, prune_quantile in zip(res[\"GTs\"], tqdm(res[\"prune_quantiles\"], desc = \"Growth stages\", leave = False)):\n",
    "        if prune_quantile in prune_quantiles: #[0.5,1]:\n",
    "            GT_carconstrictedbike = copy.deepcopy(G_carall)\n",
    "            constrict_overlaps(GT_carconstrictedbike, GT)\n",
    "            GT_carconstrictedbike = simplify_ig(GT_carconstrictedbike)\n",
    "            if debug:\n",
    "                fig = initplot()\n",
    "                nxdraw(GT_carconstrictedbike, \"abstract\", map_center, nodesize = 0, weighted = True, maxwidthsquared = 500)\n",
    "                plt.savefig(PATH[\"exports\"] + placeid + \"/\" + placeid + '_carconstrictedbike_poi_' + poi_source + \"_\" + prune_measures[prune_measure] + \"{:.3f}\".format(prune_quantile) + '.png', bbox_inches=\"tight\", dpi=plotparam[\"dpi\"])\n",
    "                plt.close()\n",
    "            with open(PATH[\"exports\"] + placeid + \"/\" + placeid + '_carconstrictedbike_poi_' + poi_source + \"_\" + prune_measures[prune_measure] + \"{:.3f}\".format(prune_quantile) + '.picklez', 'wb') as f:\n",
    "                GT_carconstrictedbike.write_picklez(fname = f)"
   ]
  },
  {
   "cell_type": "markdown",
   "metadata": {},
   "source": [
    "## Igraph to GeoJSON"
   ]
  },
  {
   "cell_type": "code",
   "execution_count": null,
   "metadata": {},
   "outputs": [],
   "source": [
    "for placeid, placeinfo in tqdm(cities.items(), desc = \"Cities\"):\n",
    "    print(placeid + \": Exporting streets to GeoJSON\")\n",
    "    Gs = {}\n",
    "    for networktype in networktypes:\n",
    "        Gs[networktype] = csv_to_ig(PATH[\"data\"] + placeid + \"/\", placeid, networktype)\n",
    "        Gs[networktype + \"_simplified\"] = csv_to_ig(PATH[\"data\"] + placeid + \"/\", placeid, networktype + \"_simplified\")\n",
    "    for nw, G in Gs.items():\n",
    "        G_geojson = ig_to_geojson(G)\n",
    "        with open(PATH[\"exports_json\"] + placeid + \"/\" + placeid + \"_\" + nw + '.json', 'w') as f:\n",
    "            geojson.dump(G_geojson, f)\n",
    "    \n",
    "    print(placeid + \": Exporting simulation results to GeoJSON\")\n",
    "    # Load results\n",
    "    filename = placeid + '_poi_' + poi_source + \"_\" + prune_measure\n",
    "    resultfile = open(PATH[\"results\"] + placeid + \"/\" + filename + \".pickle\",'rb')\n",
    "    res = pickle.load(resultfile)\n",
    "    resultfile.close()\n",
    "    if debug: pp.pprint(res)\n",
    "        \n",
    "    for GT, GT_abstract, prune_quantile in zip(res[\"GTs\"], res[\"GT_abstracts\"], res[\"prune_quantiles\"]):\n",
    "        GT_geojson = ig_to_geojson(GT)\n",
    "        with open(PATH[\"exports_json\"] + placeid + \"/\" + placeid + '_GTbonly_poi_' + poi_source + \"_\" + prune_measures[prune_measure] + \"{:.3f}\".format(prune_quantile) + '.json', 'w') as f:\n",
    "            geojson.dump(GT_geojson, f)"
   ]
  },
  {
   "cell_type": "markdown",
   "metadata": {},
   "source": [
    "## Railwaystation POIs gdf to GeoJSON"
   ]
  },
  {
   "cell_type": "code",
   "execution_count": null,
   "metadata": {},
   "outputs": [],
   "source": [
    "for placeid, placeinfo in tqdm(cities.items(), desc = \"Cities\"):\n",
    "    try:\n",
    "        poi_source_here = \"railwaystation\"\n",
    "        poi_gdf = gpd.GeoDataFrame.from_file(PATH[\"data\"] + placeid + \"/\" + placeid + '_' + 'poi_' + poi_source_here + '.gpkg')\n",
    "#         pp.pprint(poi_gdf.geometry.x)\n",
    "        with open(PATH[\"exports_json\"] + placeid + \"/\" + placeid + '_poi_' + poi_source_here + '.json', 'w') as f:\n",
    "            geojson.dump(gdf_to_geojson(poi_gdf, poi_gdf.keys()), f)\n",
    "    except:\n",
    "        print(placeid + \" did not work.\")"
   ]
  },
  {
   "cell_type": "markdown",
   "metadata": {},
   "source": [
    "## GeoJSON Linter"
   ]
  },
  {
   "cell_type": "markdown",
   "metadata": {},
   "source": [
    "https://geojsonlint.com/"
   ]
  }
 ],
 "metadata": {
  "kernelspec": {
   "display_name": "OSMNX",
   "language": "python",
   "name": "osmnx"
  },
  "language_info": {
   "codemirror_mode": {
    "name": "ipython",
    "version": 3
   },
   "file_extension": ".py",
   "mimetype": "text/x-python",
   "name": "python",
   "nbconvert_exporter": "python",
   "pygments_lexer": "ipython3",
   "version": "3.8.2"
  }
 },
 "nbformat": 4,
 "nbformat_minor": 2
}
