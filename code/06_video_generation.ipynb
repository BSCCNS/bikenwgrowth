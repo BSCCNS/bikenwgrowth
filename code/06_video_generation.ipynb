{
 "cells": [
  {
   "cell_type": "markdown",
   "metadata": {},
   "source": [
    "# Step 6 - Making videos of the plots\n",
    "## Project: Algorithmic bicycle network design\n",
    "#### Michael Szell, Tyler Perlman, Sayat Mimar, Gourab Ghoshal, Roberta Sinatra"
   ]
  },
  {
   "cell_type": "markdown",
   "metadata": {},
   "source": [
    "This notebook takes the plots from 05_plot_results and creates videos out of them. Run a kernel which has opencv-python available!\n",
    "\n",
    "Contact: Michael Szell (michael.szell@gmail.com)  \n",
    "Created: 2020-09-02  \n",
    "Last modified: 2020-12-18"
   ]
  },
  {
   "cell_type": "markdown",
   "metadata": {},
   "source": [
    "## Preliminaries"
   ]
  },
  {
   "cell_type": "markdown",
   "metadata": {},
   "source": [
    "### Parameters"
   ]
  },
  {
   "cell_type": "code",
   "execution_count": null,
   "metadata": {},
   "outputs": [],
   "source": [
    "debug = False # If True, will produce plots and/or verbose output to double-check\n",
    "%run -i \"../parameters/parameters.py\""
   ]
  },
  {
   "cell_type": "markdown",
   "metadata": {},
   "source": [
    "### Setup"
   ]
  },
  {
   "cell_type": "code",
   "execution_count": null,
   "metadata": {},
   "outputs": [],
   "source": [
    "%run -i path.py\n",
    "\n",
    "import csv\n",
    "cities = {}\n",
    "with open(PATH[\"parameters\"] + 'cities.csv') as f:\n",
    "    csvreader = csv.DictReader(f, delimiter=';')\n",
    "    for row in csvreader:\n",
    "        cities[row['placeid']] = {}\n",
    "        for field in csvreader.fieldnames[1:]:\n",
    "            cities[row['placeid']][field] = row[field] \n",
    "\n",
    "import cv2\n",
    "import os"
   ]
  },
  {
   "cell_type": "markdown",
   "metadata": {},
   "source": [
    "### Functions"
   ]
  },
  {
   "cell_type": "code",
   "execution_count": null,
   "metadata": {},
   "outputs": [],
   "source": [
    "from shapely.geometry import Polygon\n",
    "import igraph as ig\n",
    "%run -i functions.py"
   ]
  },
  {
   "cell_type": "markdown",
   "metadata": {},
   "source": [
    "## Generate Videos"
   ]
  },
  {
   "cell_type": "markdown",
   "metadata": {},
   "source": [
    "### POI based results"
   ]
  },
  {
   "cell_type": "code",
   "execution_count": null,
   "metadata": {},
   "outputs": [],
   "source": [
    "for placeid, placeinfo in cities.items():\n",
    "    imgname = '_GTall_poi_' + poi_source + \"_\" + prune_measures[prune_measure]\n",
    "    generate_video(placeid, imgname)\n",
    "    imgname = '_GTabstract_poi_' + poi_source + \"_\" + prune_measures[prune_measure]\n",
    "    generate_video(placeid, imgname)\n",
    "    imgname = '_GTalloverlapbikeable_poi_' + poi_source + \"_\" + prune_measures[prune_measure]\n",
    "    generate_video(placeid, imgname)\n",
    "    imgname = '_GTalloverlapbiketrack_poi_' + poi_source + \"_\" + prune_measures[prune_measure]\n",
    "    generate_video(placeid, imgname)\n",
    "    imgname = '_GTallcover_poi_' + poi_source + \"_\" + prune_measures[prune_measure]\n",
    "    generate_video(placeid, imgname, 0)"
   ]
  }
 ],
 "metadata": {
  "kernelspec": {
   "display_name": "Python 3",
   "language": "python",
   "name": "python3"
  },
  "language_info": {
   "codemirror_mode": {
    "name": "ipython",
    "version": 3
   },
   "file_extension": ".py",
   "mimetype": "text/x-python",
   "name": "python",
   "nbconvert_exporter": "python",
   "pygments_lexer": "ipython3",
   "version": "3.7.4"
  }
 },
 "nbformat": 4,
 "nbformat_minor": 2
}
